{
 "cells": [
  {
   "cell_type": "code",
   "execution_count": 1,
   "metadata": {},
   "outputs": [],
   "source": [
    "# for general data wrangling tasks\n",
    "import pandas as pd\n",
    "\n",
    "# to read and visualize spatial data\n",
    "import geopandas as gpd\n",
    "\n",
    "# to provide basemaps \n",
    "import contextily as ctx\n",
    "\n",
    "# to give more power to your figures (plots)\n",
    "import matplotlib.pyplot as plt"
   ]
  },
  {
   "cell_type": "code",
   "execution_count": 2,
   "metadata": {},
   "outputs": [],
   "source": [
    "# load a data file\n",
    "# note the relative filepath! check where this file is located in your file list at left\n",
    "gdf = gpd.read_file('acs2019_5yr_B03002_14000US06037222001.geojson')"
   ]
  },
  {
   "cell_type": "code",
   "execution_count": 3,
   "metadata": {},
   "outputs": [
    {
     "data": {
      "text/plain": [
       "(2347, 45)"
      ]
     },
     "execution_count": 3,
     "metadata": {},
     "output_type": "execute_result"
    }
   ],
   "source": [
    "gdf.shape"
   ]
  },
  {
   "cell_type": "code",
   "execution_count": 4,
   "metadata": {
    "scrolled": true,
    "slideshow": {
     "slide_type": "slide"
    }
   },
   "outputs": [
    {
     "data": {
      "text/html": [
       "<div>\n",
       "<style scoped>\n",
       "    .dataframe tbody tr th:only-of-type {\n",
       "        vertical-align: middle;\n",
       "    }\n",
       "\n",
       "    .dataframe tbody tr th {\n",
       "        vertical-align: top;\n",
       "    }\n",
       "\n",
       "    .dataframe thead th {\n",
       "        text-align: right;\n",
       "    }\n",
       "</style>\n",
       "<table border=\"1\" class=\"dataframe\">\n",
       "  <thead>\n",
       "    <tr style=\"text-align: right;\">\n",
       "      <th></th>\n",
       "      <th>geoid</th>\n",
       "      <th>name</th>\n",
       "      <th>B03002001</th>\n",
       "      <th>B03002001, Error</th>\n",
       "      <th>B03002002</th>\n",
       "      <th>B03002002, Error</th>\n",
       "      <th>B03002003</th>\n",
       "      <th>B03002003, Error</th>\n",
       "      <th>B03002004</th>\n",
       "      <th>B03002004, Error</th>\n",
       "      <th>...</th>\n",
       "      <th>B03002017, Error</th>\n",
       "      <th>B03002018</th>\n",
       "      <th>B03002018, Error</th>\n",
       "      <th>B03002019</th>\n",
       "      <th>B03002019, Error</th>\n",
       "      <th>B03002020</th>\n",
       "      <th>B03002020, Error</th>\n",
       "      <th>B03002021</th>\n",
       "      <th>B03002021, Error</th>\n",
       "      <th>geometry</th>\n",
       "    </tr>\n",
       "  </thead>\n",
       "  <tbody>\n",
       "    <tr>\n",
       "      <th>0</th>\n",
       "      <td>05000US06037</td>\n",
       "      <td>Los Angeles County, CA</td>\n",
       "      <td>10081570.0</td>\n",
       "      <td>0.0</td>\n",
       "      <td>5193136.0</td>\n",
       "      <td>0.0</td>\n",
       "      <td>2641770.0</td>\n",
       "      <td>1343.0</td>\n",
       "      <td>790252.0</td>\n",
       "      <td>2958.0</td>\n",
       "      <td>...</td>\n",
       "      <td>567.0</td>\n",
       "      <td>2083135.0</td>\n",
       "      <td>21995.0</td>\n",
       "      <td>174263.0</td>\n",
       "      <td>4915.0</td>\n",
       "      <td>103325.0</td>\n",
       "      <td>3658.0</td>\n",
       "      <td>70938.0</td>\n",
       "      <td>2605.0</td>\n",
       "      <td>MULTIPOLYGON (((-118.70339 34.16859, -118.7033...</td>\n",
       "    </tr>\n",
       "    <tr>\n",
       "      <th>1</th>\n",
       "      <td>14000US06037101110</td>\n",
       "      <td>Census Tract 1011.10, Los Angeles, CA</td>\n",
       "      <td>4283.0</td>\n",
       "      <td>443.0</td>\n",
       "      <td>3095.0</td>\n",
       "      <td>354.0</td>\n",
       "      <td>2616.0</td>\n",
       "      <td>306.0</td>\n",
       "      <td>19.0</td>\n",
       "      <td>15.0</td>\n",
       "      <td>...</td>\n",
       "      <td>12.0</td>\n",
       "      <td>383.0</td>\n",
       "      <td>311.0</td>\n",
       "      <td>74.0</td>\n",
       "      <td>52.0</td>\n",
       "      <td>34.0</td>\n",
       "      <td>28.0</td>\n",
       "      <td>40.0</td>\n",
       "      <td>46.0</td>\n",
       "      <td>MULTIPOLYGON (((-118.30229 34.25870, -118.3009...</td>\n",
       "    </tr>\n",
       "    <tr>\n",
       "      <th>2</th>\n",
       "      <td>14000US06037101122</td>\n",
       "      <td>Census Tract 1011.22, Los Angeles, CA</td>\n",
       "      <td>3405.0</td>\n",
       "      <td>334.0</td>\n",
       "      <td>3258.0</td>\n",
       "      <td>344.0</td>\n",
       "      <td>2882.0</td>\n",
       "      <td>358.0</td>\n",
       "      <td>74.0</td>\n",
       "      <td>102.0</td>\n",
       "      <td>...</td>\n",
       "      <td>12.0</td>\n",
       "      <td>48.0</td>\n",
       "      <td>55.0</td>\n",
       "      <td>0.0</td>\n",
       "      <td>12.0</td>\n",
       "      <td>0.0</td>\n",
       "      <td>12.0</td>\n",
       "      <td>0.0</td>\n",
       "      <td>12.0</td>\n",
       "      <td>MULTIPOLYGON (((-118.30334 34.27371, -118.3033...</td>\n",
       "    </tr>\n",
       "    <tr>\n",
       "      <th>3</th>\n",
       "      <td>14000US06037101210</td>\n",
       "      <td>Census Tract 1012.10, Los Angeles, CA</td>\n",
       "      <td>6347.0</td>\n",
       "      <td>484.0</td>\n",
       "      <td>3731.0</td>\n",
       "      <td>465.0</td>\n",
       "      <td>2986.0</td>\n",
       "      <td>435.0</td>\n",
       "      <td>198.0</td>\n",
       "      <td>165.0</td>\n",
       "      <td>...</td>\n",
       "      <td>17.0</td>\n",
       "      <td>874.0</td>\n",
       "      <td>477.0</td>\n",
       "      <td>81.0</td>\n",
       "      <td>80.0</td>\n",
       "      <td>48.0</td>\n",
       "      <td>62.0</td>\n",
       "      <td>33.0</td>\n",
       "      <td>51.0</td>\n",
       "      <td>MULTIPOLYGON (((-118.29945 34.25598, -118.2979...</td>\n",
       "    </tr>\n",
       "    <tr>\n",
       "      <th>4</th>\n",
       "      <td>14000US06037101220</td>\n",
       "      <td>Census Tract 1012.20, Los Angeles, CA</td>\n",
       "      <td>3702.0</td>\n",
       "      <td>276.0</td>\n",
       "      <td>2338.0</td>\n",
       "      <td>236.0</td>\n",
       "      <td>1812.0</td>\n",
       "      <td>271.0</td>\n",
       "      <td>87.0</td>\n",
       "      <td>107.0</td>\n",
       "      <td>...</td>\n",
       "      <td>12.0</td>\n",
       "      <td>497.0</td>\n",
       "      <td>231.0</td>\n",
       "      <td>45.0</td>\n",
       "      <td>42.0</td>\n",
       "      <td>11.0</td>\n",
       "      <td>18.0</td>\n",
       "      <td>34.0</td>\n",
       "      <td>39.0</td>\n",
       "      <td>MULTIPOLYGON (((-118.28593 34.25227, -118.2859...</td>\n",
       "    </tr>\n",
       "  </tbody>\n",
       "</table>\n",
       "<p>5 rows × 45 columns</p>\n",
       "</div>"
      ],
      "text/plain": [
       "                geoid                                   name   B03002001  \\\n",
       "0        05000US06037                 Los Angeles County, CA  10081570.0   \n",
       "1  14000US06037101110  Census Tract 1011.10, Los Angeles, CA      4283.0   \n",
       "2  14000US06037101122  Census Tract 1011.22, Los Angeles, CA      3405.0   \n",
       "3  14000US06037101210  Census Tract 1012.10, Los Angeles, CA      6347.0   \n",
       "4  14000US06037101220  Census Tract 1012.20, Los Angeles, CA      3702.0   \n",
       "\n",
       "   B03002001, Error  B03002002  B03002002, Error  B03002003  B03002003, Error  \\\n",
       "0               0.0  5193136.0               0.0  2641770.0            1343.0   \n",
       "1             443.0     3095.0             354.0     2616.0             306.0   \n",
       "2             334.0     3258.0             344.0     2882.0             358.0   \n",
       "3             484.0     3731.0             465.0     2986.0             435.0   \n",
       "4             276.0     2338.0             236.0     1812.0             271.0   \n",
       "\n",
       "   B03002004  B03002004, Error  ...  B03002017, Error  B03002018  \\\n",
       "0   790252.0            2958.0  ...             567.0  2083135.0   \n",
       "1       19.0              15.0  ...              12.0      383.0   \n",
       "2       74.0             102.0  ...              12.0       48.0   \n",
       "3      198.0             165.0  ...              17.0      874.0   \n",
       "4       87.0             107.0  ...              12.0      497.0   \n",
       "\n",
       "   B03002018, Error  B03002019  B03002019, Error  B03002020  B03002020, Error  \\\n",
       "0           21995.0   174263.0            4915.0   103325.0            3658.0   \n",
       "1             311.0       74.0              52.0       34.0              28.0   \n",
       "2              55.0        0.0              12.0        0.0              12.0   \n",
       "3             477.0       81.0              80.0       48.0              62.0   \n",
       "4             231.0       45.0              42.0       11.0              18.0   \n",
       "\n",
       "   B03002021  B03002021, Error  \\\n",
       "0    70938.0            2605.0   \n",
       "1       40.0              46.0   \n",
       "2        0.0              12.0   \n",
       "3       33.0              51.0   \n",
       "4       34.0              39.0   \n",
       "\n",
       "                                            geometry  \n",
       "0  MULTIPOLYGON (((-118.70339 34.16859, -118.7033...  \n",
       "1  MULTIPOLYGON (((-118.30229 34.25870, -118.3009...  \n",
       "2  MULTIPOLYGON (((-118.30334 34.27371, -118.3033...  \n",
       "3  MULTIPOLYGON (((-118.29945 34.25598, -118.2979...  \n",
       "4  MULTIPOLYGON (((-118.28593 34.25227, -118.2859...  \n",
       "\n",
       "[5 rows x 45 columns]"
      ]
     },
     "execution_count": 4,
     "metadata": {},
     "output_type": "execute_result"
    }
   ],
   "source": [
    "gdf.head()"
   ]
  },
  {
   "cell_type": "code",
   "execution_count": 5,
   "metadata": {
    "slideshow": {
     "slide_type": "slide"
    }
   },
   "outputs": [
    {
     "data": {
      "text/plain": [
       "<AxesSubplot:>"
      ]
     },
     "execution_count": 5,
     "metadata": {},
     "output_type": "execute_result"
    },
    {
     "data": {
      "image/png": "[encoded data removed]",
      "text/plain": [
       "<Figure size 720x720 with 1 Axes>"
      ]
     },
     "metadata": {
      "needs_background": "light"
     },
     "output_type": "display_data"
    }
   ],
   "source": [
    "# plot it!\n",
    "gdf.plot(figsize=(10,10))"
   ]
  },
  {
   "cell_type": "code",
   "execution_count": 6,
   "metadata": {},
   "outputs": [
    {
     "data": {
      "text/html": [
       "<div>\n",
       "<style scoped>\n",
       "    .dataframe tbody tr th:only-of-type {\n",
       "        vertical-align: middle;\n",
       "    }\n",
       "\n",
       "    .dataframe tbody tr th {\n",
       "        vertical-align: top;\n",
       "    }\n",
       "\n",
       "    .dataframe thead th {\n",
       "        text-align: right;\n",
       "    }\n",
       "</style>\n",
       "<table border=\"1\" class=\"dataframe\">\n",
       "  <thead>\n",
       "    <tr style=\"text-align: right;\">\n",
       "      <th></th>\n",
       "      <th>geoid</th>\n",
       "      <th>name</th>\n",
       "      <th>B03002001</th>\n",
       "      <th>B03002001, Error</th>\n",
       "      <th>B03002002</th>\n",
       "      <th>B03002002, Error</th>\n",
       "      <th>B03002003</th>\n",
       "      <th>B03002003, Error</th>\n",
       "      <th>B03002004</th>\n",
       "      <th>B03002004, Error</th>\n",
       "      <th>...</th>\n",
       "      <th>B03002017, Error</th>\n",
       "      <th>B03002018</th>\n",
       "      <th>B03002018, Error</th>\n",
       "      <th>B03002019</th>\n",
       "      <th>B03002019, Error</th>\n",
       "      <th>B03002020</th>\n",
       "      <th>B03002020, Error</th>\n",
       "      <th>B03002021</th>\n",
       "      <th>B03002021, Error</th>\n",
       "      <th>geometry</th>\n",
       "    </tr>\n",
       "  </thead>\n",
       "  <tbody>\n",
       "    <tr>\n",
       "      <th>2200</th>\n",
       "      <td>14000US06037901008</td>\n",
       "      <td>Census Tract 9010.08, Los Angeles, CA</td>\n",
       "      <td>2744.0</td>\n",
       "      <td>228.0</td>\n",
       "      <td>1736.0</td>\n",
       "      <td>178.0</td>\n",
       "      <td>1007.0</td>\n",
       "      <td>165.0</td>\n",
       "      <td>365.0</td>\n",
       "      <td>111.0</td>\n",
       "      <td>...</td>\n",
       "      <td>12.0</td>\n",
       "      <td>145.0</td>\n",
       "      <td>100.0</td>\n",
       "      <td>46.0</td>\n",
       "      <td>41.0</td>\n",
       "      <td>14.0</td>\n",
       "      <td>15.0</td>\n",
       "      <td>32.0</td>\n",
       "      <td>36.0</td>\n",
       "      <td>MULTIPOLYGON (((-118.18382 34.69895, -118.1838...</td>\n",
       "    </tr>\n",
       "  </tbody>\n",
       "</table>\n",
       "<p>1 rows × 45 columns</p>\n",
       "</div>"
      ],
      "text/plain": [
       "                   geoid                                   name  B03002001  \\\n",
       "2200  14000US06037901008  Census Tract 9010.08, Los Angeles, CA     2744.0   \n",
       "\n",
       "      B03002001, Error  B03002002  B03002002, Error  B03002003  \\\n",
       "2200             228.0     1736.0             178.0     1007.0   \n",
       "\n",
       "      B03002003, Error  B03002004  B03002004, Error  ...  B03002017, Error  \\\n",
       "2200             165.0      365.0             111.0  ...              12.0   \n",
       "\n",
       "      B03002018  B03002018, Error  B03002019  B03002019, Error  B03002020  \\\n",
       "2200      145.0             100.0       46.0              41.0       14.0   \n",
       "\n",
       "      B03002020, Error  B03002021  B03002021, Error  \\\n",
       "2200              15.0       32.0              36.0   \n",
       "\n",
       "                                               geometry  \n",
       "2200  MULTIPOLYGON (((-118.18382 34.69895, -118.1838...  \n",
       "\n",
       "[1 rows x 45 columns]"
      ]
     },
     "execution_count": 6,
     "metadata": {},
     "output_type": "execute_result"
    }
   ],
   "source": [
    "gdf.sample()"
   ]
  },
  {
   "cell_type": "markdown",
   "metadata": {
    "slideshow": {
     "slide_type": "slide"
    }
   },
   "source": [
    "## Data types\n",
    "\n",
    "To get the data types, we will use `.info()`. "
   ]
  },
  {
   "cell_type": "code",
   "execution_count": 7,
   "metadata": {
    "scrolled": true
   },
   "outputs": [
    {
     "name": "stdout",
     "output_type": "stream",
     "text": [
      "<class 'geopandas.geodataframe.GeoDataFrame'>\n",
      "RangeIndex: 2347 entries, 0 to 2346\n",
      "Data columns (total 45 columns):\n",
      " #   Column            Non-Null Count  Dtype   \n",
      "---  ------            --------------  -----   \n",
      " 0   geoid             2347 non-null   object  \n",
      " 1   name              2347 non-null   object  \n",
      " 2   B03002001         2347 non-null   float64 \n",
      " 3   B03002001, Error  2347 non-null   float64 \n",
      " 4   B03002002         2347 non-null   float64 \n",
      " 5   B03002002, Error  2347 non-null   float64 \n",
      " 6   B03002003         2347 non-null   float64 \n",
      " 7   B03002003, Error  2347 non-null   float64 \n",
      " 8   B03002004         2347 non-null   float64 \n",
      " 9   B03002004, Error  2347 non-null   float64 \n",
      " 10  B03002005         2347 non-null   float64 \n",
      " 11  B03002005, Error  2347 non-null   float64 \n",
      " 12  B03002006         2347 non-null   float64 \n",
      " 13  B03002006, Error  2347 non-null   float64 \n",
      " 14  B03002007         2347 non-null   float64 \n",
      " 15  B03002007, Error  2347 non-null   float64 \n",
      " 16  B03002008         2347 non-null   float64 \n",
      " 17  B03002008, Error  2347 non-null   float64 \n",
      " 18  B03002009         2347 non-null   float64 \n",
      " 19  B03002009, Error  2347 non-null   float64 \n",
      " 20  B03002010         2347 non-null   float64 \n",
      " 21  B03002010, Error  2347 non-null   float64 \n",
      " 22  B03002011         2347 non-null   float64 \n",
      " 23  B03002011, Error  2347 non-null   float64 \n",
      " 24  B03002012         2347 non-null   float64 \n",
      " 25  B03002012, Error  2347 non-null   float64 \n",
      " 26  B03002013         2347 non-null   float64 \n",
      " 27  B03002013, Error  2347 non-null   float64 \n",
      " 28  B03002014         2347 non-null   float64 \n",
      " 29  B03002014, Error  2347 non-null   float64 \n",
      " 30  B03002015         2347 non-null   float64 \n",
      " 31  B03002015, Error  2347 non-null   float64 \n",
      " 32  B03002016         2347 non-null   float64 \n",
      " 33  B03002016, Error  2347 non-null   float64 \n",
      " 34  B03002017         2347 non-null   float64 \n",
      " 35  B03002017, Error  2347 non-null   float64 \n",
      " 36  B03002018         2347 non-null   float64 \n",
      " 37  B03002018, Error  2347 non-null   float64 \n",
      " 38  B03002019         2347 non-null   float64 \n",
      " 39  B03002019, Error  2347 non-null   float64 \n",
      " 40  B03002020         2347 non-null   float64 \n",
      " 41  B03002020, Error  2347 non-null   float64 \n",
      " 42  B03002021         2347 non-null   float64 \n",
      " 43  B03002021, Error  2347 non-null   float64 \n",
      " 44  geometry          2347 non-null   geometry\n",
      "dtypes: float64(42), geometry(1), object(2)\n",
      "memory usage: 825.2+ KB\n"
     ]
    }
   ],
   "source": [
    "# look at the data types\n",
    "gdf.info()"
   ]
  },
  {
   "cell_type": "markdown",
   "metadata": {
    "slideshow": {
     "slide_type": "slide"
    }
   },
   "source": [
    "### The FIPS code\n",
    "What is the geoid? It is called a FIPS code but why is it important?\n",
    "\n",
    "- https://www.census.gov/programs-surveys/geography/guidance/geo-identifiers.html\n",
    "\n",
    "![fips](images/fips.png)"
   ]
  },
  {
   "cell_type": "code",
   "execution_count": 8,
   "metadata": {},
   "outputs": [
    {
     "data": {
      "text/plain": [
       "0          05000US06037\n",
       "1    14000US06037101110\n",
       "2    14000US06037101122\n",
       "3    14000US06037101210\n",
       "4    14000US06037101220\n",
       "Name: geoid, dtype: object"
      ]
     },
     "execution_count": 8,
     "metadata": {},
     "output_type": "execute_result"
    }
   ],
   "source": [
    "gdf.geoid.head()"
   ]
  },
  {
   "cell_type": "markdown",
   "metadata": {
    "slideshow": {
     "slide_type": "slide"
    }
   },
   "source": [
    "![fips code](https://learn.arcgis.com/en/related-concepts/GUID-D7AA4FD1-E7FE-49D7-9D11-07915C9ACC68-web.png)\n",
    "\n",
    "[Source: ESRI](https://learn.arcgis.com/en/related-concepts/united-states-census-geography.htm)"
   ]
  },
  {
   "cell_type": "markdown",
   "metadata": {
    "slideshow": {
     "slide_type": "slide"
    }
   },
   "source": [
    "## Delete county row\n",
    "\n",
    "As we have observed, the first row in the data obtained from censusreporter is for the entire county. Keeping this row is problematic, as it represents a data record that is at a different scale. Let's delete it."
   ]
  },
  {
   "cell_type": "markdown",
   "metadata": {},
   "source": [
    "<div class=\"alert alert-danger\">\n",
    "    <b>Important!</b><hr>\n",
    "    Note that any data downloaded from censusreporter will have a \"summary row\" for the entire data.\n",
    "</div>"
   ]
  },
  {
   "cell_type": "code",
   "execution_count": null,
   "metadata": {
    "slideshow": {
     "slide_type": "slide"
    }
   },
   "outputs": [],
   "source": [
    "# check the data again\n",
    "gdf.head()"
   ]
  },
  {
   "cell_type": "code",
   "execution_count": null,
   "metadata": {
    "slideshow": {
     "slide_type": "slide"
    }
   },
   "outputs": [],
   "source": [
    "# drop the row with index 0 (i.e. the first row)\n",
    "gdf = gdf.drop([0])"
   ]
  },
  {
   "cell_type": "code",
   "execution_count": null,
   "metadata": {
    "slideshow": {
     "slide_type": "fragment"
    }
   },
   "outputs": [],
   "source": [
    "# check to see if it has been deleted\n",
    "gdf.head()"
   ]
  },
  {
   "cell_type": "markdown",
   "metadata": {
    "slideshow": {
     "slide_type": "slide"
    }
   },
   "source": [
    "## The census data dictionary\n",
    "There are a lot of columns. What are these columns? Column headers are defined in the `metadata.json` file that comes in the dowloaded zipfile from censusreporter. Click the link below to open the json file in another tab.\n",
    "\n",
    "* [metadata.json](data/metadata.json)"
   ]
  },
  {
   "cell_type": "markdown",
   "metadata": {
    "slideshow": {
     "slide_type": "slide"
    }
   },
   "source": [
    "For the purposes of this exercise, we will not choose to analyze subcategories within the Hispanic category, nor will we analyze breakdowns within the multiple race category.  Let's identify which columns are needed, and which are not for our exploration.  \n",
    "\n",
    "\n",
    "![census variables](images/census1.png)"
   ]
  },
  {
   "cell_type": "markdown",
   "metadata": {
    "slideshow": {
     "slide_type": "slide"
    }
   },
   "source": [
    "## Dropping columns \n",
    "There are many columns that we do not need. \n",
    "\n",
    "- output existing columns as a list\n",
    "- create a list of columns to keep\n",
    "- redefine `gdf` with only the columns to keep\n"
   ]
  },
  {
   "cell_type": "code",
   "execution_count": null,
   "metadata": {
    "scrolled": true,
    "slideshow": {
     "slide_type": "slide"
    }
   },
   "outputs": [],
   "source": [
    "list(gdf) # this is the same as df.columns.to_list()"
   ]
  },
  {
   "cell_type": "code",
   "execution_count": null,
   "metadata": {
    "slideshow": {
     "slide_type": "slide"
    }
   },
   "outputs": [],
   "source": [
    "# columns to keep\n",
    "columns_to_keep = ['geoid',\n",
    " 'name',\n",
    " 'B03002001',\n",
    " 'B03002002',\n",
    " 'B03002003',\n",
    " 'B03002004',\n",
    " 'B03002005',\n",
    " 'B03002006',\n",
    " 'B03002007',\n",
    " 'B03002008',\n",
    " 'B03002009',\n",
    " 'B03002012',\n",
    " 'geometry']"
   ]
  },
  {
   "cell_type": "code",
   "execution_count": null,
   "metadata": {
    "slideshow": {
     "slide_type": "slide"
    }
   },
   "outputs": [],
   "source": [
    "# redefine gdf with only columns to keep\n",
    "gdf = gdf[columns_to_keep]"
   ]
  },
  {
   "cell_type": "code",
   "execution_count": null,
   "metadata": {
    "scrolled": true,
    "slideshow": {
     "slide_type": "fragment"
    }
   },
   "outputs": [],
   "source": [
    "# check the slimmed down gdf\n",
    "gdf.head()"
   ]
  },
  {
   "cell_type": "markdown",
   "metadata": {
    "slideshow": {
     "slide_type": "slide"
    }
   },
   "source": [
    "## Renaming columns\n",
    "\n",
    "Let's rename the columns. First, create a list of column names as they are now."
   ]
  },
  {
   "cell_type": "code",
   "execution_count": null,
   "metadata": {},
   "outputs": [],
   "source": [
    "list(gdf) # this is the same as df.columns.to_list()"
   ]
  },
  {
   "cell_type": "markdown",
   "metadata": {
    "slideshow": {
     "slide_type": "slide"
    }
   },
   "source": [
    "Then, simply copy and paste the output list above, and define the columns with it. Replace the values with your desired column names"
   ]
  },
  {
   "cell_type": "code",
   "execution_count": null,
   "metadata": {},
   "outputs": [],
   "source": [
    "gdf.columns = ['geoid',\n",
    " 'name',\n",
    " 'Total',\n",
    " 'Non Hispanic',\n",
    " 'Non Hispanic White',\n",
    " 'Non Hispanic Black',\n",
    " 'Non Hispanic American Indian and Alaska Native',\n",
    " 'Non Hispanic Asian',\n",
    " 'Non Hispanic Native Hawaiian and Other Pacific Islander',\n",
    " 'Non Hispanic Some other race',\n",
    " 'Non Hispanic Two or more races',\n",
    " 'Hispanic',\n",
    " 'geometry']"
   ]
  },
  {
   "cell_type": "code",
   "execution_count": null,
   "metadata": {
    "slideshow": {
     "slide_type": "slide"
    }
   },
   "outputs": [],
   "source": [
    "gdf.head()"
   ]
  },
  {
   "cell_type": "markdown",
   "metadata": {
    "slideshow": {
     "slide_type": "slide"
    }
   },
   "source": [
    "## Double check your data integrity\n",
    "Does the math add up? Let's check. The `Total` should equal the rest of the columns."
   ]
  },
  {
   "cell_type": "code",
   "execution_count": null,
   "metadata": {
    "slideshow": {
     "slide_type": "fragment"
    }
   },
   "outputs": [],
   "source": [
    "# get a random record\n",
    "random_tract = gdf.sample()\n",
    "random_tract"
   ]
  },
  {
   "cell_type": "markdown",
   "metadata": {
    "slideshow": {
     "slide_type": "slide"
    }
   },
   "source": [
    "To get values from individual cells in a dataframe, use the `iloc` command.\n",
    "\n",
    "- `iloc` ([documentation](https://pandas.pydata.org/pandas-docs/stable/reference/api/pandas.DataFrame.iloc.html))\n",
    "\n",
    "While there are various methods to get cell values in python, the iloc command allows you to get to a cell based on the position of the record row and the column name."
   ]
  },
  {
   "cell_type": "code",
   "execution_count": null,
   "metadata": {
    "slideshow": {
     "slide_type": "slide"
    }
   },
   "outputs": [],
   "source": [
    "# example usage of iloc to get the total population of our random record\n",
    "# \"for the 0th record, get the value in the Total column\"\n",
    "random_tract.iloc[0]['Total']"
   ]
  },
  {
   "cell_type": "code",
   "execution_count": null,
   "metadata": {
    "slideshow": {
     "slide_type": "fragment"
    }
   },
   "outputs": [],
   "source": [
    "# print this out in plain english\n",
    "print('Total population: ' + str(random_tract.iloc[0]['Total']))"
   ]
  },
  {
   "cell_type": "code",
   "execution_count": null,
   "metadata": {},
   "outputs": [],
   "source": [
    "# non hispanic plus hispanic should equal to the total\n",
    "print('Non Hispanic + Hispanic: ' + str(random_tract.iloc[0]['Non Hispanic'] + random_tract.iloc[0]['Hispanic']))"
   ]
  },
  {
   "cell_type": "code",
   "execution_count": null,
   "metadata": {},
   "outputs": [],
   "source": [
    "# hispanic plus all the non hispanice categories\n",
    "print(random_tract.iloc[0]['Non Hispanic White'] + \n",
    "      random_tract.iloc[0]['Non Hispanic Black'] + \n",
    "      random_tract.iloc[0]['Non Hispanic American Indian and Alaska Native'] + \n",
    "      random_tract.iloc[0]['Non Hispanic Asian'] + \n",
    "      random_tract.iloc[0]['Non Hispanic Native Hawaiian and Other Pacific Islander'] + \n",
    "      random_tract.iloc[0]['Non Hispanic Some other race'] + \n",
    "      random_tract.iloc[0]['Non Hispanic Two or more races'] + \n",
    "      random_tract.iloc[0]['Hispanic'])"
   ]
  },
  {
   "cell_type": "markdown",
   "metadata": {
    "slideshow": {
     "slide_type": "slide"
    }
   },
   "source": [
    "## Simple stats and plots"
   ]
  },
  {
   "cell_type": "code",
   "execution_count": null,
   "metadata": {
    "scrolled": true
   },
   "outputs": [],
   "source": [
    "# access a single column like df['col_name']\n",
    "gdf['Total'].head()"
   ]
  },
  {
   "cell_type": "code",
   "execution_count": null,
   "metadata": {
    "slideshow": {
     "slide_type": "slide"
    }
   },
   "outputs": [],
   "source": [
    "# What is the mean?\n",
    "gdf['Total'].mean()"
   ]
  },
  {
   "cell_type": "code",
   "execution_count": null,
   "metadata": {},
   "outputs": [],
   "source": [
    "# What is the median?\n",
    "gdf['Total'].median()"
   ]
  },
  {
   "cell_type": "code",
   "execution_count": null,
   "metadata": {},
   "outputs": [],
   "source": [
    "# get some stats\n",
    "gdf['Total'].describe()"
   ]
  },
  {
   "cell_type": "code",
   "execution_count": null,
   "metadata": {
    "scrolled": true,
    "slideshow": {
     "slide_type": "slide"
    },
    "tags": []
   },
   "outputs": [],
   "source": [
    "# plot it as a historgram with 50 bins\n",
    "gdf['Total'].plot.hist(bins=50)"
   ]
  },
  {
   "cell_type": "markdown",
   "metadata": {
    "slideshow": {
     "slide_type": "slide"
    }
   },
   "source": [
    "<div class=\"alert alert-info\">\n",
    "    Now it's your turn. Find some stats for different fields in the data and output them below.\n",
    "    </div>"
   ]
  },
  {
   "cell_type": "code",
   "execution_count": null,
   "metadata": {},
   "outputs": [],
   "source": []
  },
  {
   "cell_type": "markdown",
   "metadata": {
    "slideshow": {
     "slide_type": "slide"
    }
   },
   "source": [
    "## Sorting\n",
    "What are the top 10 most populated census tracts? What are the census tracts with the highest black popluation? To answer these questions, the simplest method is to sort the data by their respective columns."
   ]
  },
  {
   "cell_type": "code",
   "execution_count": null,
   "metadata": {},
   "outputs": [],
   "source": [
    "gdf_sorted = gdf.sort_values(by='Total',ascending = False)"
   ]
  },
  {
   "cell_type": "code",
   "execution_count": null,
   "metadata": {
    "scrolled": true,
    "slideshow": {
     "slide_type": "slide"
    }
   },
   "outputs": [],
   "source": [
    "# display the data, but just a few columns to keep it clean\n",
    "gdf_sorted[['geoid','Total']].head(10)"
   ]
  },
  {
   "cell_type": "code",
   "execution_count": null,
   "metadata": {
    "slideshow": {
     "slide_type": "slide"
    }
   },
   "outputs": [],
   "source": [
    "# plot it\n",
    "gdf_sorted.head(10).plot()"
   ]
  },
  {
   "cell_type": "code",
   "execution_count": null,
   "metadata": {
    "slideshow": {
     "slide_type": "slide"
    }
   },
   "outputs": [],
   "source": [
    "# Make it prettier\n",
    "gdf_sorted.head(100).plot(figsize=(10,10),column='Total',legend=True)"
   ]
  },
  {
   "cell_type": "markdown",
   "metadata": {
    "slideshow": {
     "slide_type": "slide"
    }
   },
   "source": [
    "<div class=\"alert alert-info\">\n",
    "    Now it's your turn! Create a table and accompanying bar plot for the top/bottom x values for column of your choice.\n",
    "    \n",
    "    \n",
    "When you are done, post your map to the <a href=\"https://docs.google.com/document/d/1FjLOg2SBYaUn-k5mzk_WL5SgcL7neLg3vkmSRC_37-8/edit?usp=sharing\" target=\"_blank\">class gallery</a> (right click the image, copy, and paste)\n",
    "\n",
    "</div>"
   ]
  },
  {
   "cell_type": "code",
   "execution_count": null,
   "metadata": {},
   "outputs": [],
   "source": []
  },
  {
   "cell_type": "markdown",
   "metadata": {
    "slideshow": {
     "slide_type": "slide"
    }
   },
   "source": [
    "## Filtering and subsetting data\n",
    "Sorting is one method, but the process of discovery compels us to interrogate the data in different ways. One method of doing so is to query, or filter the data to see specific views of the data based on a question you may have. For example, what are the census tracts that have no people in them? Or, Which census tracts are more than 75% black?"
   ]
  },
  {
   "cell_type": "code",
   "execution_count": null,
   "metadata": {
    "scrolled": true,
    "slideshow": {
     "slide_type": "slide"
    },
    "tags": []
   },
   "outputs": [],
   "source": [
    "# subset the data so that we can see the data per row... \n",
    "# in other words, this syntax is asking to \"show me the values in my dataframe that match this filter\n",
    "gdf[gdf['Total']==0]"
   ]
  },
  {
   "cell_type": "markdown",
   "metadata": {
    "slideshow": {
     "slide_type": "slide"
    }
   },
   "source": [
    "Note that unless you specify the resulting output as a new variable, the results are only temporary (in memory). If you want to use the results for subsequent analysis, you need to create a new variable."
   ]
  },
  {
   "cell_type": "code",
   "execution_count": null,
   "metadata": {},
   "outputs": [],
   "source": [
    "# create a new variable for census tracts with zero pop\n",
    "gdf_no_pop = gdf[gdf['Total']==0]"
   ]
  },
  {
   "cell_type": "code",
   "execution_count": null,
   "metadata": {
    "slideshow": {
     "slide_type": "slide"
    }
   },
   "outputs": [],
   "source": [
    "# how many records?\n",
    "print('There are ' + str(len(gdf_no_pop)) + ' census tracts with no people in them')"
   ]
  },
  {
   "cell_type": "code",
   "execution_count": null,
   "metadata": {
    "scrolled": true,
    "slideshow": {
     "slide_type": "fragment"
    }
   },
   "outputs": [],
   "source": [
    "# display it\n",
    "gdf_no_pop[['geoid','Total']]"
   ]
  },
  {
   "cell_type": "markdown",
   "metadata": {
    "slideshow": {
     "slide_type": "slide"
    }
   },
   "source": [
    "## Totals are great but let's normalize the data\n",
    "\n",
    "For almost any data inquiry, you should ask the question: should I normalize the data? With raw numbers, is it fair to compare one census tract to another? For example, if one census tract has 1000 hispanics, and another has 100, can we assume that the first tract is largely Hispanic? No, because the total population might be 10000 people, resulting in it being 10% hispanic, whereas the second tract might have 200 people living in it, resulting in it being 50% hispanic."
   ]
  },
  {
   "cell_type": "markdown",
   "metadata": {
    "slideshow": {
     "slide_type": "slide"
    }
   },
   "source": [
    "To avoid these types of misrepresentations, we can normalize the data, and provide it as a percent of total."
   ]
  },
  {
   "cell_type": "code",
   "execution_count": null,
   "metadata": {
    "slideshow": {
     "slide_type": "fragment"
    }
   },
   "outputs": [],
   "source": [
    "# output columns\n",
    "list(gdf)"
   ]
  },
  {
   "cell_type": "code",
   "execution_count": null,
   "metadata": {
    "slideshow": {
     "slide_type": "slide"
    }
   },
   "outputs": [],
   "source": [
    "# create a new column, and populate it with normalized data to get the percent of total value\n",
    "gdf['Percent Non Hispanic'] = gdf['Non Hispanic']/gdf['Total']*100\n",
    "gdf['Percent Hispanic'] = gdf['Hispanic']/gdf['Total']*100"
   ]
  },
  {
   "cell_type": "code",
   "execution_count": null,
   "metadata": {
    "scrolled": true,
    "slideshow": {
     "slide_type": "fragment"
    }
   },
   "outputs": [],
   "source": [
    "gdf.sample(5)"
   ]
  },
  {
   "cell_type": "markdown",
   "metadata": {
    "slideshow": {
     "slide_type": "slide"
    }
   },
   "source": [
    "<div class=\"alert alert-info\">\n",
    "Now it's your turn!\n",
    "\n",
    "Create new columns for \n",
    "- `Percent Non Hispanic White`\n",
    "- `Percent Non Hispanic Black`\n",
    "- `Percent Non Hispanic American Indian and Alaska Native`\n",
    "- `Percent Non Hispanic Asian`\n",
    "- `Percent Non Hispanic Native Hawaiian and Other Pacific Islander`\n",
    "- `Percent Non Hispanic Some other race`\n",
    "- `Percent Non Hispanic Two or more races`\n",
    "    </div>"
   ]
  },
  {
   "cell_type": "code",
   "execution_count": null,
   "metadata": {},
   "outputs": [],
   "source": []
  },
  {
   "cell_type": "markdown",
   "metadata": {
    "slideshow": {
     "slide_type": "slide"
    }
   },
   "source": [
    "# Maps!"
   ]
  },
  {
   "cell_type": "markdown",
   "metadata": {
    "slideshow": {
     "slide_type": "slide"
    }
   },
   "source": [
    "We can now create choropleth maps in geopandas. \n",
    "\n",
    "* [geopandas choropleth maps](https://geopandas.org/mapping.html#choropleth-maps)\n",
    "* [color schemes with mapclassify](https://pysal.org/notebooks/viz/mapclassify/intro.html)\n",
    "  * `natural_breaks`\n",
    "  * `equal_interval`\n",
    "  * `quantiles`\n",
    "  * etc..."
   ]
  },
  {
   "cell_type": "code",
   "execution_count": null,
   "metadata": {
    "slideshow": {
     "slide_type": "slide"
    }
   },
   "outputs": [],
   "source": [
    "# The value passed into the `column` parameter specifies which column's values are plotted\n",
    "gdf.plot(figsize=(12,10),\n",
    "                 column='Percent Hispanic',\n",
    "                 legend=True, \n",
    "                 scheme='NaturalBreaks')"
   ]
  },
  {
   "cell_type": "code",
   "execution_count": null,
   "metadata": {
    "slideshow": {
     "slide_type": "slide"
    }
   },
   "outputs": [],
   "source": [
    "# Note the different scheme to make for equal breaks in the color legend.\n",
    "gdf.plot(figsize=(12,10),\n",
    "                 column='Percent Hispanic',\n",
    "                 legend=True, \n",
    "                 scheme='equal_interval')"
   ]
  },
  {
   "cell_type": "code",
   "execution_count": null,
   "metadata": {
    "slideshow": {
     "slide_type": "slide"
    }
   },
   "outputs": [],
   "source": [
    "# And you can also plot different quartiles of the data\n",
    "gdf.plot(figsize=(12,10),\n",
    "                 column='Percent Hispanic',\n",
    "                 legend=True, \n",
    "                 scheme='quantiles')"
   ]
  },
  {
   "cell_type": "markdown",
   "metadata": {
    "slideshow": {
     "slide_type": "slide"
    }
   },
   "source": [
    "## Using subplots to create multiple plots\n",
    "\n",
    "It is often useful to generate multiple plots next to each other. To do so, we look at matplotlib's `subplot` command:\n",
    "\n",
    "- https://matplotlib.org/3.3.3/api/_as_gen/matplotlib.pyplot.subplots.html"
   ]
  },
  {
   "cell_type": "code",
   "execution_count": null,
   "metadata": {
    "slideshow": {
     "slide_type": "slide"
    }
   },
   "outputs": [],
   "source": [
    "# create the 1x2 subplots\n",
    "fig, axs = plt.subplots(1, 2, figsize=(15, 12))\n",
    "\n",
    "# name each subplot\n",
    "ax1, ax2 = axs\n",
    "\n",
    "# regular count map on the left\n",
    "gdf.plot(column='Percent Hispanic', \n",
    "            cmap='RdYlGn_r', \n",
    "            scheme='quantiles',\n",
    "            k=5, \n",
    "            edgecolor='white', \n",
    "            linewidth=0., \n",
    "            alpha=0.75, \n",
    "            ax=ax1, # this assigns the map to the subplot,\n",
    "            legend=True\n",
    "           )\n",
    "\n",
    "ax1.axis(\"off\")\n",
    "ax1.set_title(\"Percent Hispanic\")\n",
    "\n",
    "# spatial lag map on the right\n",
    "gdf.plot(column='Percent Non Hispanic Black', \n",
    "            cmap='RdYlGn_r', \n",
    "            scheme='quantiles',\n",
    "            k=5, \n",
    "            edgecolor='white', \n",
    "            linewidth=0., \n",
    "            alpha=0.75, \n",
    "            ax=ax2, # this assigns the map to the subplot\n",
    "            legend=True\n",
    "           )\n",
    "\n",
    "ax2.axis(\"off\")\n",
    "ax2.set_title(\"Percent Non Hispanic Black\")"
   ]
  },
  {
   "cell_type": "markdown",
   "metadata": {
    "slideshow": {
     "slide_type": "slide"
    }
   },
   "source": [
    "<div class=\"alert alert-info\">\n",
    "\n",
    "Now it's your turn! Create map plots based on other race indicators. Experiment with the different schemes to display variations of the same data, mapped differently.\n",
    "    \n",
    "When you are done, post your map to the <a href=\"https://docs.google.com/document/d/1FjLOg2SBYaUn-k5mzk_WL5SgcL7neLg3vkmSRC_37-8/edit?usp=sharing\" target=\"_blank\">class gallery</a> (right click the image, copy, and paste)\n",
    "\n",
    "</div>"
   ]
  },
  {
   "cell_type": "code",
   "execution_count": null,
   "metadata": {},
   "outputs": [],
   "source": []
  },
  {
   "cell_type": "markdown",
   "metadata": {
    "slideshow": {
     "slide_type": "slide"
    }
   },
   "source": [
    "## Additional mapping ideas\n",
    "What does the majority ethnic cluster look like in Los Angeles?"
   ]
  },
  {
   "cell_type": "code",
   "execution_count": null,
   "metadata": {},
   "outputs": [],
   "source": [
    "gdf[gdf['Percent Hispanic'] > 80]"
   ]
  },
  {
   "cell_type": "code",
   "execution_count": null,
   "metadata": {
    "slideshow": {
     "slide_type": "slide"
    }
   },
   "outputs": [],
   "source": [
    "gdf[gdf['Percent Hispanic'] > 90].plot(figsize=(12,10))"
   ]
  },
  {
   "cell_type": "markdown",
   "metadata": {
    "slideshow": {
     "slide_type": "slide"
    }
   },
   "source": [
    "<div class=\"alert alert-info\">\n",
    "\n",
    "Now it's your turn! Create map plots based on other race indicators with varying segments of the population.\n",
    "\n",
    "When you are done, post your map to the <a href=\"https://docs.google.com/document/d/1FjLOg2SBYaUn-k5mzk_WL5SgcL7neLg3vkmSRC_37-8/edit?usp=sharing\" target=\"_blank\">class gallery</a> (right click the image, copy, and paste)\n",
    "\n",
    "</div>"
   ]
  },
  {
   "cell_type": "code",
   "execution_count": null,
   "metadata": {},
   "outputs": [],
   "source": []
  },
  {
   "cell_type": "markdown",
   "metadata": {
    "slideshow": {
     "slide_type": "slide"
    }
   },
   "source": [
    "## Add a basemap\n",
    "\n",
    "Adding a basemap to a geopandas plot can be done using the [contextily library](https://contextily.readthedocs.io/en/latest/intro_guide.html). To do so, you must:\n",
    "\n",
    "* reproject your geodataframe to Web Mercator (epsg: 3857)\n",
    "* add a basemap, use the following [guidelines](https://github.com/geopandas/contextily/blob/master/notebooks/providers_deepdive.ipynb)"
   ]
  },
  {
   "cell_type": "code",
   "execution_count": null,
   "metadata": {},
   "outputs": [],
   "source": [
    "# reproject to Web Mercator\n",
    "gdf_web_mercator = gdf.to_crs(epsg=3857)"
   ]
  },
  {
   "cell_type": "code",
   "execution_count": null,
   "metadata": {},
   "outputs": [],
   "source": [
    "# use subplots that make it easier to create multiple layered maps\n",
    "fig, ax = plt.subplots(figsize=(15, 15))\n",
    "\n",
    "# add the layer with ax=ax in the argument \n",
    "gdf_web_mercator[gdf_web_mercator['Percent Hispanic'] > 50].plot(ax=ax, alpha=0.8)\n",
    "\n",
    "# turn the axis off\n",
    "ax.axis('off')\n",
    "\n",
    "# set a title\n",
    "ax.set_title('Census Tracts with more than 50% Hispanic Population',fontsize=16)\n",
    "\n",
    "# add a basemap\n",
    "ctx.add_basemap(ax)"
   ]
  },
  {
   "cell_type": "markdown",
   "metadata": {
    "slideshow": {
     "slide_type": "slide"
    }
   },
   "source": [
    "<div class=\"alert alert-info\">\n",
    "\n",
    "Now it's your turn! \n",
    "\n",
    "Add your final maps to the <a href=\"https://docs.google.com/document/d/1FjLOg2SBYaUn-k5mzk_WL5SgcL7neLg3vkmSRC_37-8/edit?usp=sharing\" target=\"_blank\">class gallery</a> (right click the image, copy, and paste)\n",
    "\n",
    "</div>"
   ]
  },
  {
   "cell_type": "code",
   "execution_count": null,
   "metadata": {},
   "outputs": [],
   "source": []
  }
 ],
 "metadata": {
  "celltoolbar": "Slideshow",
  "kernelspec": {
   "display_name": "Python 3 (ipykernel)",
   "language": "python",
   "name": "python3"
  },
  "language_info": {
   "codemirror_mode": {
    "name": "ipython",
    "version": 3
   },
   "file_extension": ".py",
   "mimetype": "text/x-python",
   "name": "python",
   "nbconvert_exporter": "python",
   "pygments_lexer": "ipython3",
   "version": "3.9.7"
  },
  "toc": {
   "base_numbering": 1,
   "nav_menu": {},
   "number_sections": true,
   "sideBar": true,
   "skip_h1_title": false,
   "title_cell": "Table of Contents",
   "title_sidebar": "Contents",
   "toc_cell": true,
   "toc_position": {
    "height": "calc(100% - 180px)",
    "left": "10px",
    "top": "150px",
    "width": "350.797px"
   },
   "toc_section_display": true,
   "toc_window_display": false
  }
 },
 "nbformat": 4,
 "nbformat_minor": 4
}
