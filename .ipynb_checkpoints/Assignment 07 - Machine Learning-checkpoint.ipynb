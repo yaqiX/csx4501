{
 "cells": [
  {
   "cell_type": "markdown",
   "id": "5b1e371c",
   "metadata": {},
   "source": [
    "# Step 2: Diabetes & Linear Regression"
   ]
  },
  {
   "cell_type": "markdown",
   "id": "9d347049",
   "metadata": {},
   "source": [
    "### Import scikit-learn's example diabetes dataset as a Panda's dataframe"
   ]
  },
  {
   "cell_type": "code",
   "execution_count": 6,
   "id": "c07e99bd",
   "metadata": {},
   "outputs": [],
   "source": [
    "import numpy as np\n",
    "import pandas as pd\n",
    "import matplotlib.pyplot as plt\n",
    "from sklearn.linear_model import LinearRegression\n",
    "from sklearn.metrics import mean_squared_error, r2_score"
   ]
  },
  {
   "cell_type": "code",
   "execution_count": 8,
   "id": "e8fe1362",
   "metadata": {},
   "outputs": [],
   "source": [
    "from sklearn import datasets\n",
    "df = datasets.load_diabetes(as_frame=True)\n",
    "features_df = df.data\n",
    "target_df = df.target"
   ]
  },
  {
   "cell_type": "markdown",
   "id": "5e87edc3",
   "metadata": {},
   "source": [
    "### Look at the dataset's description and data\n",
    "#### print(df.DESCR) for a description of the dataset"
   ]
  },
  {
   "cell_type": "code",
   "execution_count": 10,
   "id": "9f8b08e6",
   "metadata": {
    "scrolled": true
   },
   "outputs": [
    {
     "name": "stdout",
     "output_type": "stream",
     "text": [
      ".. _diabetes_dataset:\n",
      "\n",
      "Diabetes dataset\n",
      "----------------\n",
      "\n",
      "Ten baseline variables, age, sex, body mass index, average blood\n",
      "pressure, and six blood serum measurements were obtained for each of n =\n",
      "442 diabetes patients, as well as the response of interest, a\n",
      "quantitative measure of disease progression one year after baseline.\n",
      "\n",
      "**Data Set Characteristics:**\n",
      "\n",
      "  :Number of Instances: 442\n",
      "\n",
      "  :Number of Attributes: First 10 columns are numeric predictive values\n",
      "\n",
      "  :Target: Column 11 is a quantitative measure of disease progression one year after baseline\n",
      "\n",
      "  :Attribute Information:\n",
      "      - age     age in years\n",
      "      - sex\n",
      "      - bmi     body mass index\n",
      "      - bp      average blood pressure\n",
      "      - s1      tc, total serum cholesterol\n",
      "      - s2      ldl, low-density lipoproteins\n",
      "      - s3      hdl, high-density lipoproteins\n",
      "      - s4      tch, total cholesterol / HDL\n",
      "      - s5      ltg, possibly log of serum triglycerides level\n",
      "      - s6      glu, blood sugar level\n",
      "\n",
      "Note: Each of these 10 feature variables have been mean centered and scaled by the standard deviation times `n_samples` (i.e. the sum of squares of each column totals 1).\n",
      "\n",
      "Source URL:\n",
      "https://www4.stat.ncsu.edu/~boos/var.select/diabetes.html\n",
      "\n",
      "For more information see:\n",
      "Bradley Efron, Trevor Hastie, Iain Johnstone and Robert Tibshirani (2004) \"Least Angle Regression,\" Annals of Statistics (with discussion), 407-499.\n",
      "(https://web.stanford.edu/~hastie/Papers/LARS/LeastAngle_2002.pdf)\n"
     ]
    }
   ],
   "source": [
    "print(df.DESCR)"
   ]
  },
  {
   "cell_type": "markdown",
   "id": "707b5f68",
   "metadata": {},
   "source": [
    "### Do some exploratory data analysis of the features, including:\n",
    "#### getting summary statistical information\n",
    "#### plotting histograms and scatter plots"
   ]
  },
  {
   "cell_type": "code",
   "execution_count": 11,
   "id": "202ea549",
   "metadata": {
    "scrolled": true
   },
   "outputs": [
    {
     "name": "stdout",
     "output_type": "stream",
     "text": [
      "<class 'pandas.core.frame.DataFrame'>\n",
      "RangeIndex: 442 entries, 0 to 441\n",
      "Data columns (total 10 columns):\n",
      " #   Column  Non-Null Count  Dtype  \n",
      "---  ------  --------------  -----  \n",
      " 0   age     442 non-null    float64\n",
      " 1   sex     442 non-null    float64\n",
      " 2   bmi     442 non-null    float64\n",
      " 3   bp      442 non-null    float64\n",
      " 4   s1      442 non-null    float64\n",
      " 5   s2      442 non-null    float64\n",
      " 6   s3      442 non-null    float64\n",
      " 7   s4      442 non-null    float64\n",
      " 8   s5      442 non-null    float64\n",
      " 9   s6      442 non-null    float64\n",
      "dtypes: float64(10)\n",
      "memory usage: 34.7 KB\n"
     ]
    }
   ],
   "source": [
    "features_df.info()"
   ]
  },
  {
   "cell_type": "code",
   "execution_count": 12,
   "id": "c4849756",
   "metadata": {},
   "outputs": [
    {
     "data": {
      "text/html": [
       "<div>\n",
       "<style scoped>\n",
       "    .dataframe tbody tr th:only-of-type {\n",
       "        vertical-align: middle;\n",
       "    }\n",
       "\n",
       "    .dataframe tbody tr th {\n",
       "        vertical-align: top;\n",
       "    }\n",
       "\n",
       "    .dataframe thead th {\n",
       "        text-align: right;\n",
       "    }\n",
       "</style>\n",
       "<table border=\"1\" class=\"dataframe\">\n",
       "  <thead>\n",
       "    <tr style=\"text-align: right;\">\n",
       "      <th></th>\n",
       "      <th>age</th>\n",
       "      <th>sex</th>\n",
       "      <th>bmi</th>\n",
       "      <th>bp</th>\n",
       "      <th>s1</th>\n",
       "      <th>s2</th>\n",
       "      <th>s3</th>\n",
       "      <th>s4</th>\n",
       "      <th>s5</th>\n",
       "      <th>s6</th>\n",
       "    </tr>\n",
       "  </thead>\n",
       "  <tbody>\n",
       "    <tr>\n",
       "      <th>count</th>\n",
       "      <td>4.420000e+02</td>\n",
       "      <td>4.420000e+02</td>\n",
       "      <td>4.420000e+02</td>\n",
       "      <td>4.420000e+02</td>\n",
       "      <td>4.420000e+02</td>\n",
       "      <td>4.420000e+02</td>\n",
       "      <td>4.420000e+02</td>\n",
       "      <td>4.420000e+02</td>\n",
       "      <td>4.420000e+02</td>\n",
       "      <td>4.420000e+02</td>\n",
       "    </tr>\n",
       "    <tr>\n",
       "      <th>mean</th>\n",
       "      <td>-3.634285e-16</td>\n",
       "      <td>1.308343e-16</td>\n",
       "      <td>-8.045349e-16</td>\n",
       "      <td>1.281655e-16</td>\n",
       "      <td>-8.835316e-17</td>\n",
       "      <td>1.327024e-16</td>\n",
       "      <td>-4.574646e-16</td>\n",
       "      <td>3.777301e-16</td>\n",
       "      <td>-3.830854e-16</td>\n",
       "      <td>-3.412882e-16</td>\n",
       "    </tr>\n",
       "    <tr>\n",
       "      <th>std</th>\n",
       "      <td>4.761905e-02</td>\n",
       "      <td>4.761905e-02</td>\n",
       "      <td>4.761905e-02</td>\n",
       "      <td>4.761905e-02</td>\n",
       "      <td>4.761905e-02</td>\n",
       "      <td>4.761905e-02</td>\n",
       "      <td>4.761905e-02</td>\n",
       "      <td>4.761905e-02</td>\n",
       "      <td>4.761905e-02</td>\n",
       "      <td>4.761905e-02</td>\n",
       "    </tr>\n",
       "    <tr>\n",
       "      <th>min</th>\n",
       "      <td>-1.072256e-01</td>\n",
       "      <td>-4.464164e-02</td>\n",
       "      <td>-9.027530e-02</td>\n",
       "      <td>-1.123996e-01</td>\n",
       "      <td>-1.267807e-01</td>\n",
       "      <td>-1.156131e-01</td>\n",
       "      <td>-1.023071e-01</td>\n",
       "      <td>-7.639450e-02</td>\n",
       "      <td>-1.260974e-01</td>\n",
       "      <td>-1.377672e-01</td>\n",
       "    </tr>\n",
       "    <tr>\n",
       "      <th>25%</th>\n",
       "      <td>-3.729927e-02</td>\n",
       "      <td>-4.464164e-02</td>\n",
       "      <td>-3.422907e-02</td>\n",
       "      <td>-3.665645e-02</td>\n",
       "      <td>-3.424784e-02</td>\n",
       "      <td>-3.035840e-02</td>\n",
       "      <td>-3.511716e-02</td>\n",
       "      <td>-3.949338e-02</td>\n",
       "      <td>-3.324879e-02</td>\n",
       "      <td>-3.317903e-02</td>\n",
       "    </tr>\n",
       "    <tr>\n",
       "      <th>50%</th>\n",
       "      <td>5.383060e-03</td>\n",
       "      <td>-4.464164e-02</td>\n",
       "      <td>-7.283766e-03</td>\n",
       "      <td>-5.670611e-03</td>\n",
       "      <td>-4.320866e-03</td>\n",
       "      <td>-3.819065e-03</td>\n",
       "      <td>-6.584468e-03</td>\n",
       "      <td>-2.592262e-03</td>\n",
       "      <td>-1.947634e-03</td>\n",
       "      <td>-1.077698e-03</td>\n",
       "    </tr>\n",
       "    <tr>\n",
       "      <th>75%</th>\n",
       "      <td>3.807591e-02</td>\n",
       "      <td>5.068012e-02</td>\n",
       "      <td>3.124802e-02</td>\n",
       "      <td>3.564384e-02</td>\n",
       "      <td>2.835801e-02</td>\n",
       "      <td>2.984439e-02</td>\n",
       "      <td>2.931150e-02</td>\n",
       "      <td>3.430886e-02</td>\n",
       "      <td>3.243323e-02</td>\n",
       "      <td>2.791705e-02</td>\n",
       "    </tr>\n",
       "    <tr>\n",
       "      <th>max</th>\n",
       "      <td>1.107267e-01</td>\n",
       "      <td>5.068012e-02</td>\n",
       "      <td>1.705552e-01</td>\n",
       "      <td>1.320442e-01</td>\n",
       "      <td>1.539137e-01</td>\n",
       "      <td>1.987880e-01</td>\n",
       "      <td>1.811791e-01</td>\n",
       "      <td>1.852344e-01</td>\n",
       "      <td>1.335990e-01</td>\n",
       "      <td>1.356118e-01</td>\n",
       "    </tr>\n",
       "  </tbody>\n",
       "</table>\n",
       "</div>"
      ],
      "text/plain": [
       "                age           sex           bmi            bp            s1  \\\n",
       "count  4.420000e+02  4.420000e+02  4.420000e+02  4.420000e+02  4.420000e+02   \n",
       "mean  -3.634285e-16  1.308343e-16 -8.045349e-16  1.281655e-16 -8.835316e-17   \n",
       "std    4.761905e-02  4.761905e-02  4.761905e-02  4.761905e-02  4.761905e-02   \n",
       "min   -1.072256e-01 -4.464164e-02 -9.027530e-02 -1.123996e-01 -1.267807e-01   \n",
       "25%   -3.729927e-02 -4.464164e-02 -3.422907e-02 -3.665645e-02 -3.424784e-02   \n",
       "50%    5.383060e-03 -4.464164e-02 -7.283766e-03 -5.670611e-03 -4.320866e-03   \n",
       "75%    3.807591e-02  5.068012e-02  3.124802e-02  3.564384e-02  2.835801e-02   \n",
       "max    1.107267e-01  5.068012e-02  1.705552e-01  1.320442e-01  1.539137e-01   \n",
       "\n",
       "                 s2            s3            s4            s5            s6  \n",
       "count  4.420000e+02  4.420000e+02  4.420000e+02  4.420000e+02  4.420000e+02  \n",
       "mean   1.327024e-16 -4.574646e-16  3.777301e-16 -3.830854e-16 -3.412882e-16  \n",
       "std    4.761905e-02  4.761905e-02  4.761905e-02  4.761905e-02  4.761905e-02  \n",
       "min   -1.156131e-01 -1.023071e-01 -7.639450e-02 -1.260974e-01 -1.377672e-01  \n",
       "25%   -3.035840e-02 -3.511716e-02 -3.949338e-02 -3.324879e-02 -3.317903e-02  \n",
       "50%   -3.819065e-03 -6.584468e-03 -2.592262e-03 -1.947634e-03 -1.077698e-03  \n",
       "75%    2.984439e-02  2.931150e-02  3.430886e-02  3.243323e-02  2.791705e-02  \n",
       "max    1.987880e-01  1.811791e-01  1.852344e-01  1.335990e-01  1.356118e-01  "
      ]
     },
     "execution_count": 12,
     "metadata": {},
     "output_type": "execute_result"
    }
   ],
   "source": [
    "features_df.describe()"
   ]
  },
  {
   "cell_type": "code",
   "execution_count": 13,
   "id": "8ea3fa31",
   "metadata": {
    "scrolled": true
   },
   "outputs": [
    {
     "data": {
      "text/plain": [
       "<AxesSubplot:xlabel='bmi', ylabel='s1'>"
      ]
     },
     "execution_count": 13,
     "metadata": {},
     "output_type": "execute_result"
    },
    {
     "data": {
      "image/png": "[encoded data removed]",
      "text/plain": [
       "<Figure size 432x288 with 1 Axes>"
      ]
     },
     "metadata": {
      "needs_background": "light"
     },
     "output_type": "display_data"
    }
   ],
   "source": [
    "features_df.plot(kind=\"scatter\",x=\"bmi\",y=\"s1\")"
   ]
  },
  {
   "cell_type": "code",
   "execution_count": 15,
   "id": "7db05aff",
   "metadata": {
    "scrolled": true
   },
   "outputs": [
    {
     "data": {
      "text/plain": [
       "<AxesSubplot:ylabel='Frequency'>"
      ]
     },
     "execution_count": 15,
     "metadata": {},
     "output_type": "execute_result"
    },
    {
     "data": {
      "image/png": "[encoded data removed]",
      "text/plain": [
       "<Figure size 432x288 with 1 Axes>"
      ]
     },
     "metadata": {
      "needs_background": "light"
     },
     "output_type": "display_data"
    }
   ],
   "source": [
    "features_df.plot(kind=\"hist\",x=\"bmi\",y=\"s1\")"
   ]
  },
  {
   "cell_type": "code",
   "execution_count": 16,
   "id": "3c4bb08d",
   "metadata": {},
   "outputs": [
    {
     "data": {
      "text/plain": [
       "<AxesSubplot:xlabel='age', ylabel='s3'>"
      ]
     },
     "execution_count": 16,
     "metadata": {},
     "output_type": "execute_result"
    },
    {
     "data": {
      "image/png": "[encoded data removed]",
      "text/plain": [
       "<Figure size 432x288 with 1 Axes>"
      ]
     },
     "metadata": {
      "needs_background": "light"
     },
     "output_type": "display_data"
    }
   ],
   "source": [
    "features_df.plot(kind=\"scatter\",x=\"age\",y=\"s3\")"
   ]
  },
  {
   "cell_type": "code",
   "execution_count": 17,
   "id": "b530077a",
   "metadata": {
    "scrolled": true
   },
   "outputs": [
    {
     "data": {
      "text/plain": [
       "<AxesSubplot:xlabel='age', ylabel='s6'>"
      ]
     },
     "execution_count": 17,
     "metadata": {},
     "output_type": "execute_result"
    },
    {
     "data": {
      "image/png": "[encoded data removed]",
      "text/plain": [
       "<Figure size 432x288 with 1 Axes>"
      ]
     },
     "metadata": {
      "needs_background": "light"
     },
     "output_type": "display_data"
    }
   ],
   "source": [
    "features_df.plot(kind=\"scatter\",x=\"age\",y=\"s6\")"
   ]
  },
  {
   "cell_type": "code",
   "execution_count": 18,
   "id": "cc1de141",
   "metadata": {},
   "outputs": [
    {
     "data": {
      "text/plain": [
       "<AxesSubplot:ylabel='Frequency'>"
      ]
     },
     "execution_count": 18,
     "metadata": {},
     "output_type": "execute_result"
    },
    {
     "data": {
      "image/png": "[encoded data removed]",
      "text/plain": [
       "<Figure size 432x288 with 1 Axes>"
      ]
     },
     "metadata": {
      "needs_background": "light"
     },
     "output_type": "display_data"
    }
   ],
   "source": [
    "features_df.plot(kind=\"hist\",x=\"age\",y=\"s6\")"
   ]
  },
  {
   "cell_type": "markdown",
   "id": "78da2374",
   "metadata": {},
   "source": [
    "### Find the column in features_df that has the highest correlation coefficient with the target values in target_df"
   ]
  },
  {
   "cell_type": "code",
   "execution_count": 19,
   "id": "7d05d3d5",
   "metadata": {
    "scrolled": true
   },
   "outputs": [
    {
     "data": {
      "text/plain": [
       "age    0.187889\n",
       "sex    0.043062\n",
       "bmi    0.586450\n",
       "bp     0.441484\n",
       "s1     0.212022\n",
       "s2     0.174054\n",
       "s3    -0.394789\n",
       "s4     0.430453\n",
       "s5     0.565883\n",
       "s6     0.382483\n",
       "dtype: float64"
      ]
     },
     "execution_count": 19,
     "metadata": {},
     "output_type": "execute_result"
    }
   ],
   "source": [
    "features_df.corrwith(target_df)"
   ]
  },
  {
   "cell_type": "code",
   "execution_count": 20,
   "id": "85869d45",
   "metadata": {},
   "outputs": [
    {
     "data": {
      "text/plain": [
       "0.5864501344746886"
      ]
     },
     "execution_count": 20,
     "metadata": {},
     "output_type": "execute_result"
    }
   ],
   "source": [
    "a=features_df.corrwith(target_df)\n",
    "a.max()"
   ]
  },
  {
   "cell_type": "markdown",
   "id": "5fe656d0",
   "metadata": {},
   "source": [
    "the column is bmi"
   ]
  },
  {
   "cell_type": "markdown",
   "id": "1ac44389",
   "metadata": {},
   "source": [
    "### Split the data into a training set and test set"
   ]
  },
  {
   "cell_type": "code",
   "execution_count": 68,
   "id": "c108970a",
   "metadata": {},
   "outputs": [],
   "source": [
    "from sklearn.model_selection import train_test_split\n",
    "X_train, X_test, y_train, y_test = train_test_split(features_df, target_df, test_size=0.2, random_state=0)"
   ]
  },
  {
   "cell_type": "code",
   "execution_count": 69,
   "id": "910e2c7a",
   "metadata": {},
   "outputs": [],
   "source": [
    "reg = LinearRegression()"
   ]
  },
  {
   "cell_type": "code",
   "execution_count": 70,
   "id": "28988e05",
   "metadata": {
    "scrolled": true
   },
   "outputs": [
    {
     "data": {
      "text/plain": [
       "LinearRegression()"
      ]
     },
     "execution_count": 70,
     "metadata": {},
     "output_type": "execute_result"
    }
   ],
   "source": [
    "reg.fit(X_train, y_train)"
   ]
  },
  {
   "cell_type": "code",
   "execution_count": 71,
   "id": "79c3defd",
   "metadata": {
    "scrolled": true
   },
   "outputs": [
    {
     "data": {
      "text/plain": [
       "0.33222203269065154"
      ]
     },
     "execution_count": 71,
     "metadata": {},
     "output_type": "execute_result"
    }
   ],
   "source": [
    "reg.score(X_test, y_test)"
   ]
  },
  {
   "cell_type": "markdown",
   "id": "248878ac",
   "metadata": {},
   "source": [
    "### Using this feature and target, perform linear regression with sklearn's LinearRegression"
   ]
  },
  {
   "cell_type": "markdown",
   "id": "89d90787",
   "metadata": {},
   "source": [
    "### Print the coefficients of the model"
   ]
  },
  {
   "cell_type": "code",
   "execution_count": 72,
   "id": "1c473b1d",
   "metadata": {
    "scrolled": true
   },
   "outputs": [
    {
     "data": {
      "text/plain": [
       "array([ -35.55683674, -243.1692265 ,  562.75404632,  305.47203008,\n",
       "       -662.78772128,  324.27527477,   24.78193291,  170.33056502,\n",
       "        731.67810787,   43.02846824])"
      ]
     },
     "execution_count": 72,
     "metadata": {},
     "output_type": "execute_result"
    }
   ],
   "source": [
    "reg.coef_"
   ]
  },
  {
   "cell_type": "code",
   "execution_count": 73,
   "id": "85b5fee6",
   "metadata": {
    "scrolled": true
   },
   "outputs": [
    {
     "data": {
      "text/plain": [
       "152.5381335195406"
      ]
     },
     "execution_count": 73,
     "metadata": {},
     "output_type": "execute_result"
    }
   ],
   "source": [
    "reg.intercept_"
   ]
  },
  {
   "cell_type": "markdown",
   "id": "9569ddc5",
   "metadata": {},
   "source": [
    "### Plot the linear fit together with the training data"
   ]
  },
  {
   "cell_type": "code",
   "execution_count": 118,
   "id": "15e66d95",
   "metadata": {
    "scrolled": false
   },
   "outputs": [
    {
     "data": {
      "image/png": "[encoded data removed]",
      "text/plain": [
       "<Figure size 432x288 with 1 Axes>"
      ]
     },
     "metadata": {
      "needs_background": "light"
     },
     "output_type": "display_data"
    }
   ],
   "source": [
    "plt.plot(X_train,y_train,'ro',X_test,y_test,'b-');"
   ]
  },
  {
   "cell_type": "markdown",
   "id": "30fa645e",
   "metadata": {},
   "source": [
    "The graph looks weird though I saw it in the ISLR book. Maybe I understand the question wrong. The code I use is from the course, I think it's a simple linear regression between two variables. If this question is about the regression between bmi and target_df, I did this one below. "
   ]
  },
  {
   "cell_type": "markdown",
   "id": "d328eed0",
   "metadata": {},
   "source": [
    "### Use the model to generate predictions on the test data and then compare against the actual target values by calculating the mean squared error and R-squared values."
   ]
  },
  {
   "cell_type": "code",
   "execution_count": 119,
   "id": "c8035341",
   "metadata": {},
   "outputs": [],
   "source": [
    "ypred = reg.predict(X_test)"
   ]
  },
  {
   "cell_type": "code",
   "execution_count": 120,
   "id": "ed5905e1",
   "metadata": {
    "scrolled": true
   },
   "outputs": [
    {
     "data": {
      "text/plain": [
       "array([238.47145247, 248.93170646, 164.05404165, 120.30794355,\n",
       "       187.42422054, 259.04865002, 113.55556372, 188.07597044,\n",
       "       149.49663441, 236.01099949, 172.24629506, 178.88073764,\n",
       "       109.15751983,  92.13508975, 243.33042043,  87.356971  ,\n",
       "       155.72606406,  66.99073989, 100.42610442, 218.09422877,\n",
       "       196.66287912, 161.29832968, 161.70779605, 156.52520454,\n",
       "       197.88796516, 167.57984206, 120.74478913,  84.83879727,\n",
       "       192.03728687, 160.60687024, 175.17178362,  84.22833237,\n",
       "       145.7995542 , 145.97333493, 140.96488953, 197.00421108,\n",
       "       165.94322494, 190.65906468, 128.22520508, 206.41941223,\n",
       "        84.35851196, 164.0256504 , 144.1056776 , 184.68355549,\n",
       "       177.80238966,  74.32855231, 143.3660286 , 138.67726085,\n",
       "       120.81146113, 234.34252077, 161.94390244,  74.5455476 ,\n",
       "       154.71905074, 156.78884927, 237.42227096, 174.23053048,\n",
       "       190.88212635, 118.98373473, 132.20418974, 168.52674824,\n",
       "       214.74245466, 171.42364091, 157.37409906, 108.86927343,\n",
       "       257.06329636, 152.17777143,  82.43686464, 231.56746032,\n",
       "       202.90641336,  47.18340199,  78.46954525, 129.30170908,\n",
       "       104.60253144, 144.65200281, 132.27974254, 190.04134164,\n",
       "        97.55541138, 197.51891007, 219.13709291, 186.13797012,\n",
       "       149.60913007, 208.42379455,  44.59036026, 206.20925368,\n",
       "        76.77377721,  94.94046865, 145.2955051 , 194.03776373,\n",
       "       132.78534336])"
      ]
     },
     "execution_count": 120,
     "metadata": {},
     "output_type": "execute_result"
    }
   ],
   "source": [
    "ypred"
   ]
  },
  {
   "cell_type": "code",
   "execution_count": 152,
   "id": "07fdaad7",
   "metadata": {},
   "outputs": [
    {
     "data": {
      "text/plain": [
       "3424.3166882137334"
      ]
     },
     "execution_count": 152,
     "metadata": {},
     "output_type": "execute_result"
    }
   ],
   "source": [
    "mean_squared_error(y_test, ypred)"
   ]
  },
  {
   "cell_type": "code",
   "execution_count": 151,
   "id": "71f8d25d",
   "metadata": {
    "scrolled": true
   },
   "outputs": [
    {
     "data": {
      "text/plain": [
       "58.51766133582009"
      ]
     },
     "execution_count": 151,
     "metadata": {},
     "output_type": "execute_result"
    }
   ],
   "source": [
    "np.sqrt(mean_squared_error(y_test,ypred))"
   ]
  },
  {
   "cell_type": "code",
   "execution_count": 150,
   "id": "71c1db21",
   "metadata": {},
   "outputs": [
    {
     "data": {
      "text/plain": [
       "0.33222203269065154"
      ]
     },
     "execution_count": 150,
     "metadata": {},
     "output_type": "execute_result"
    }
   ],
   "source": [
    "r2_score(y_test, ypred)"
   ]
  },
  {
   "cell_type": "markdown",
   "id": "50660aac",
   "metadata": {},
   "source": [
    "### Try doing linear regression with other variables and/or multiple variables and comment on how each choice changes the mean squared error and R-squared values."
   ]
  },
  {
   "cell_type": "markdown",
   "id": "83c74032",
   "metadata": {},
   "source": [
    "#### bmi with target_df"
   ]
  },
  {
   "cell_type": "code",
   "execution_count": 127,
   "id": "19caf46f",
   "metadata": {},
   "outputs": [],
   "source": [
    "bmi = features_df[[\"bmi\"]]"
   ]
  },
  {
   "cell_type": "code",
   "execution_count": 128,
   "id": "b6b2deea",
   "metadata": {
    "scrolled": true
   },
   "outputs": [
    {
     "data": {
      "text/html": [
       "<div>\n",
       "<style scoped>\n",
       "    .dataframe tbody tr th:only-of-type {\n",
       "        vertical-align: middle;\n",
       "    }\n",
       "\n",
       "    .dataframe tbody tr th {\n",
       "        vertical-align: top;\n",
       "    }\n",
       "\n",
       "    .dataframe thead th {\n",
       "        text-align: right;\n",
       "    }\n",
       "</style>\n",
       "<table border=\"1\" class=\"dataframe\">\n",
       "  <thead>\n",
       "    <tr style=\"text-align: right;\">\n",
       "      <th></th>\n",
       "      <th>bmi</th>\n",
       "    </tr>\n",
       "  </thead>\n",
       "  <tbody>\n",
       "    <tr>\n",
       "      <th>0</th>\n",
       "      <td>0.061696</td>\n",
       "    </tr>\n",
       "    <tr>\n",
       "      <th>1</th>\n",
       "      <td>-0.051474</td>\n",
       "    </tr>\n",
       "    <tr>\n",
       "      <th>2</th>\n",
       "      <td>0.044451</td>\n",
       "    </tr>\n",
       "    <tr>\n",
       "      <th>3</th>\n",
       "      <td>-0.011595</td>\n",
       "    </tr>\n",
       "    <tr>\n",
       "      <th>4</th>\n",
       "      <td>-0.036385</td>\n",
       "    </tr>\n",
       "    <tr>\n",
       "      <th>...</th>\n",
       "      <td>...</td>\n",
       "    </tr>\n",
       "    <tr>\n",
       "      <th>437</th>\n",
       "      <td>0.019662</td>\n",
       "    </tr>\n",
       "    <tr>\n",
       "      <th>438</th>\n",
       "      <td>-0.015906</td>\n",
       "    </tr>\n",
       "    <tr>\n",
       "      <th>439</th>\n",
       "      <td>-0.015906</td>\n",
       "    </tr>\n",
       "    <tr>\n",
       "      <th>440</th>\n",
       "      <td>0.039062</td>\n",
       "    </tr>\n",
       "    <tr>\n",
       "      <th>441</th>\n",
       "      <td>-0.073030</td>\n",
       "    </tr>\n",
       "  </tbody>\n",
       "</table>\n",
       "<p>442 rows × 1 columns</p>\n",
       "</div>"
      ],
      "text/plain": [
       "          bmi\n",
       "0    0.061696\n",
       "1   -0.051474\n",
       "2    0.044451\n",
       "3   -0.011595\n",
       "4   -0.036385\n",
       "..        ...\n",
       "437  0.019662\n",
       "438 -0.015906\n",
       "439 -0.015906\n",
       "440  0.039062\n",
       "441 -0.073030\n",
       "\n",
       "[442 rows x 1 columns]"
      ]
     },
     "execution_count": 128,
     "metadata": {},
     "output_type": "execute_result"
    }
   ],
   "source": [
    "bmi"
   ]
  },
  {
   "cell_type": "code",
   "execution_count": 129,
   "id": "0dc443d0",
   "metadata": {},
   "outputs": [],
   "source": [
    "bmi_train, bmi_test, tar_train, tar_test = train_test_split(bmi, target_df, test_size=0.2, random_state=0)"
   ]
  },
  {
   "cell_type": "code",
   "execution_count": 130,
   "id": "2beaf8ed",
   "metadata": {},
   "outputs": [
    {
     "data": {
      "text/plain": [
       "LinearRegression()"
      ]
     },
     "execution_count": 130,
     "metadata": {},
     "output_type": "execute_result"
    }
   ],
   "source": [
    "reg.fit(bmi_train, tar_train)"
   ]
  },
  {
   "cell_type": "code",
   "execution_count": 131,
   "id": "e623381a",
   "metadata": {},
   "outputs": [
    {
     "data": {
      "text/plain": [
       "0.19057346847560164"
      ]
     },
     "execution_count": 131,
     "metadata": {},
     "output_type": "execute_result"
    }
   ],
   "source": [
    "reg.score(bmi_test, tar_test)"
   ]
  },
  {
   "cell_type": "code",
   "execution_count": 132,
   "id": "2842201d",
   "metadata": {
    "scrolled": true
   },
   "outputs": [
    {
     "data": {
      "text/plain": [
       "array([981.65543614])"
      ]
     },
     "execution_count": 132,
     "metadata": {},
     "output_type": "execute_result"
    }
   ],
   "source": [
    "reg.coef_"
   ]
  },
  {
   "cell_type": "code",
   "execution_count": 133,
   "id": "bca016fb",
   "metadata": {},
   "outputs": [
    {
     "data": {
      "text/plain": [
       "152.28824927379625"
      ]
     },
     "execution_count": 133,
     "metadata": {},
     "output_type": "execute_result"
    }
   ],
   "source": [
    "reg.intercept_"
   ]
  },
  {
   "cell_type": "markdown",
   "id": "2fae4322",
   "metadata": {},
   "source": [
    "so the fit model is y=152.29+0.19x"
   ]
  },
  {
   "cell_type": "code",
   "execution_count": 137,
   "id": "d9371ff5",
   "metadata": {},
   "outputs": [],
   "source": [
    "tar_pred = reg.predict(bmi_test)"
   ]
  },
  {
   "cell_type": "code",
   "execution_count": 144,
   "id": "887246b7",
   "metadata": {},
   "outputs": [
    {
     "data": {
      "text/plain": [
       "[<matplotlib.lines.Line2D at 0x7fe58b8ef040>]"
      ]
     },
     "execution_count": 144,
     "metadata": {},
     "output_type": "execute_result"
    },
    {
     "data": {
      "image/png": "[encoded data removed]",
      "text/plain": [
       "<Figure size 432x288 with 1 Axes>"
      ]
     },
     "metadata": {
      "needs_background": "light"
     },
     "output_type": "display_data"
    }
   ],
   "source": [
    "plt.scatter(bmi_test, tar_test, color=\"black\")\n",
    "plt.plot(bmi_test, tar_pred, color=\"red\")"
   ]
  },
  {
   "cell_type": "code",
   "execution_count": 153,
   "id": "1d27c4c8",
   "metadata": {
    "scrolled": true
   },
   "outputs": [
    {
     "data": {
      "text/plain": [
       "4150.680189329983"
      ]
     },
     "execution_count": 153,
     "metadata": {},
     "output_type": "execute_result"
    }
   ],
   "source": [
    "mean_squared_error(tar_test,tar_pred)"
   ]
  },
  {
   "cell_type": "code",
   "execution_count": 146,
   "id": "5ae9de1f",
   "metadata": {},
   "outputs": [
    {
     "data": {
      "text/plain": [
       "64.4257727103834"
      ]
     },
     "execution_count": 146,
     "metadata": {},
     "output_type": "execute_result"
    }
   ],
   "source": [
    "np.sqrt(mean_squared_error(tar_pred, tar_test))"
   ]
  },
  {
   "cell_type": "code",
   "execution_count": 148,
   "id": "0c79cbcd",
   "metadata": {
    "scrolled": true
   },
   "outputs": [
    {
     "data": {
      "text/plain": [
       "0.19057346847560164"
      ]
     },
     "execution_count": 148,
     "metadata": {},
     "output_type": "execute_result"
    }
   ],
   "source": [
    "r2_score(tar_test, tar_pred)"
   ]
  },
  {
   "cell_type": "markdown",
   "id": "00871f0e",
   "metadata": {},
   "source": [
    "We can see that as the most correlated feature, bmi and target_df has much lower R^2 than the whole features_df with the target_df, and much higher mean squared error. It means that bmi as a single variable is not enough to be the best fit and we can keep adding more variables to find better one. "
   ]
  },
  {
   "cell_type": "markdown",
   "id": "50592ada",
   "metadata": {},
   "source": [
    "With this conclusion, I'm thinking to add another variable. It shows that s5 is the second highest correlated variable in features_df so I'll add this."
   ]
  },
  {
   "cell_type": "code",
   "execution_count": 216,
   "id": "973d0ac4",
   "metadata": {},
   "outputs": [],
   "source": [
    "X = features_df[['bmi','s5']]  # I took the first two most related features\n",
    "Y = target_df"
   ]
  },
  {
   "cell_type": "code",
   "execution_count": 222,
   "id": "81ed5653",
   "metadata": {},
   "outputs": [],
   "source": [
    "X_train, X_test, Y_train, Y_test = train_test_split(X, Y, test_size=0.2, random_state=0)"
   ]
  },
  {
   "cell_type": "code",
   "execution_count": 225,
   "id": "13e15802",
   "metadata": {},
   "outputs": [
    {
     "data": {
      "text/plain": [
       "LinearRegression()"
      ]
     },
     "execution_count": 225,
     "metadata": {},
     "output_type": "execute_result"
    }
   ],
   "source": [
    "reg.fit(X_train, Y_train)"
   ]
  },
  {
   "cell_type": "code",
   "execution_count": 226,
   "id": "ace0e275",
   "metadata": {},
   "outputs": [
    {
     "data": {
      "text/plain": [
       "array([697.81363979, 623.00060413])"
      ]
     },
     "execution_count": 226,
     "metadata": {},
     "output_type": "execute_result"
    }
   ],
   "source": [
    "reg.coef_"
   ]
  },
  {
   "cell_type": "code",
   "execution_count": 221,
   "id": "14d6f929",
   "metadata": {},
   "outputs": [
    {
     "data": {
      "text/plain": [
       "152.1334841628967"
      ]
     },
     "execution_count": 221,
     "metadata": {},
     "output_type": "execute_result"
    }
   ],
   "source": [
    "reg.intercept_"
   ]
  },
  {
   "cell_type": "code",
   "execution_count": 227,
   "id": "a958453a",
   "metadata": {},
   "outputs": [],
   "source": [
    "Y_pred = reg.predict(X_test)"
   ]
  },
  {
   "cell_type": "code",
   "execution_count": 228,
   "id": "84d12d4d",
   "metadata": {},
   "outputs": [
    {
     "data": {
      "text/plain": [
       "3673.996921976782"
      ]
     },
     "execution_count": 228,
     "metadata": {},
     "output_type": "execute_result"
    }
   ],
   "source": [
    "mean_squared_error(Y_test,Y_pred)"
   ]
  },
  {
   "cell_type": "code",
   "execution_count": 229,
   "id": "25643997",
   "metadata": {},
   "outputs": [
    {
     "data": {
      "text/plain": [
       "0.28353174666848313"
      ]
     },
     "execution_count": 229,
     "metadata": {},
     "output_type": "execute_result"
    }
   ],
   "source": [
    "r2_score(Y_test, Y_pred)"
   ]
  },
  {
   "cell_type": "markdown",
   "id": "d21dd416",
   "metadata": {},
   "source": [
    "R square is still not as high as the full dataset but it's much higher than only use bmi, so I think we can add s5 if we're making a multi linear regression model. If we want to increase even higher we can keep going."
   ]
  },
  {
   "cell_type": "markdown",
   "id": "6fb672aa",
   "metadata": {},
   "source": [
    "### Try at least one other regression algorithm : Logistic Regression\n",
    "I copy the practice in class with this diabete data\n"
   ]
  },
  {
   "cell_type": "code",
   "execution_count": 154,
   "id": "c6b67059",
   "metadata": {},
   "outputs": [],
   "source": [
    "from sklearn.linear_model import LogisticRegression"
   ]
  },
  {
   "cell_type": "code",
   "execution_count": 155,
   "id": "69c24b69",
   "metadata": {},
   "outputs": [],
   "source": [
    "logreg = LogisticRegression()"
   ]
  },
  {
   "cell_type": "code",
   "execution_count": 156,
   "id": "d96d52f1",
   "metadata": {},
   "outputs": [],
   "source": [
    "X = features_df[[\"bmi\",\"s5\"]]  # I took the first two most related features\n",
    "Y = target_df"
   ]
  },
  {
   "cell_type": "code",
   "execution_count": 158,
   "id": "c8ae34d0",
   "metadata": {},
   "outputs": [
    {
     "data": {
      "text/plain": [
       "LogisticRegression()"
      ]
     },
     "execution_count": 158,
     "metadata": {},
     "output_type": "execute_result"
    }
   ],
   "source": [
    "logreg.fit(X, Y)"
   ]
  },
  {
   "cell_type": "code",
   "execution_count": 160,
   "id": "7224403d",
   "metadata": {},
   "outputs": [],
   "source": [
    "x_min = X[\"bmi\"].min() - 1\n",
    "x_max = X[\"bmi\"].max() + 1\n",
    "y_min = X[\"s5\"].min() - 1\n",
    "y_max = X[\"s5\"].max() + 1\n",
    "\n",
    "h = .02 \n",
    "\n",
    "xarr = np.arange(x_min, x_max, h)\n",
    "yarr = np.arange(y_min, y_max, h)\n",
    "\n",
    "xx, yy = np.meshgrid(xarr, yarr)"
   ]
  },
  {
   "cell_type": "code",
   "execution_count": 161,
   "id": "4e0309cf",
   "metadata": {},
   "outputs": [],
   "source": [
    "Z = logreg.predict(np.c_[xx.ravel(), yy.ravel()])"
   ]
  },
  {
   "cell_type": "code",
   "execution_count": 163,
   "id": "c20f4b96",
   "metadata": {
    "scrolled": true
   },
   "outputs": [
    {
     "name": "stderr",
     "output_type": "stream",
     "text": [
      "/var/folders/8l/f3xq8byx6jx_ykv1p8vljth00000gn/T/ipykernel_64527/1451367699.py:3: MatplotlibDeprecationWarning: shading='flat' when X and Y have the same dimensions as C is deprecated since 3.3.  Either specify the corners of the quadrilaterals with X and Y, or pass shading='auto', 'nearest' or 'gouraud', or set rcParams['pcolor.shading'].  This will become an error two minor releases later.\n",
      "  plt.pcolormesh(xx, yy, Z, cmap=plt.cm.Paired)\n"
     ]
    },
    {
     "data": {
      "image/png": "[encoded data removed]",
      "text/plain": [
       "<Figure size 576x432 with 1 Axes>"
      ]
     },
     "metadata": {},
     "output_type": "display_data"
    }
   ],
   "source": [
    "Z = Z.reshape(xx.shape)\n",
    "plt.figure(1, figsize=(8, 6))\n",
    "plt.pcolormesh(xx, yy, Z, cmap=plt.cm.Paired)\n",
    "\n",
    "# Plot also the training points\n",
    "plt.scatter(X[\"bmi\"], X[\"s5\"], c=Y, edgecolors='k', cmap=plt.cm.Paired)\n",
    "\n",
    "plt.xlim(xx.min(), xx.max())\n",
    "plt.ylim(yy.min(), yy.max())\n",
    "plt.xticks(())\n",
    "plt.yticks(())\n",
    "\n",
    "plt.show()"
   ]
  },
  {
   "cell_type": "markdown",
   "id": "ac7c27ec",
   "metadata": {},
   "source": [
    "Looks weird, might not be a good fit"
   ]
  },
  {
   "cell_type": "markdown",
   "id": "9baaf224",
   "metadata": {},
   "source": [
    "# Step 3:  Clustering"
   ]
  },
  {
   "cell_type": "markdown",
   "id": "661bb016",
   "metadata": {},
   "source": [
    "### Use the following Python code to generate 4 artificial clusters of points in (x1,x2)-space"
   ]
  },
  {
   "cell_type": "code",
   "execution_count": 164,
   "id": "f736c0d5",
   "metadata": {},
   "outputs": [],
   "source": [
    "from sklearn.datasets import make_blobs\n",
    "X, y = make_blobs(n_samples=300, centers=4, cluster_std=0.60, random_state=0)\n",
    "df = pd.DataFrame(X, columns=['x1','x2'])"
   ]
  },
  {
   "cell_type": "code",
   "execution_count": 178,
   "id": "8027d9f6",
   "metadata": {
    "scrolled": true
   },
   "outputs": [
    {
     "data": {
      "text/plain": [
       "array([[ 8.36856841e-01,  2.13635938e+00],\n",
       "       [-1.41365810e+00,  7.40962324e+00],\n",
       "       [ 1.15521298e+00,  5.09961887e+00],\n",
       "       [-1.01861632e+00,  7.81491465e+00],\n",
       "       [ 1.27135141e+00,  1.89254207e+00],\n",
       "       [ 3.43761754e+00,  2.61654166e-01],\n",
       "       [-1.80822253e+00,  1.59701749e+00],\n",
       "       [ 1.41372442e+00,  4.38117707e+00],\n",
       "       [-2.04932168e-01,  8.43209665e+00],\n",
       "       [-7.11099611e-01,  8.66043846e+00],\n",
       "       [-1.71237268e+00,  2.77780226e+00],\n",
       "       [-2.67000792e+00,  8.35389140e+00],\n",
       "       [ 1.24258802e+00,  4.50399192e+00],\n",
       "       [-2.22783649e+00,  6.89479938e+00],\n",
       "       [ 1.45513831e+00, -2.91989981e-02],\n",
       "       [ 4.53791789e-01,  3.95647753e+00],\n",
       "       [ 1.06923853e+00,  4.53068484e+00],\n",
       "       [ 2.56936589e+00,  5.07048304e-01],\n",
       "       [-1.06690610e+00,  3.13165795e+00],\n",
       "       [-1.07859101e+00,  2.20451529e+00],\n",
       "       [ 2.71506328e+00,  1.29082190e+00],\n",
       "       [ 1.77710994e+00,  1.18655254e+00],\n",
       "       [ 7.34363910e-01,  5.03725437e+00],\n",
       "       [-1.99648151e+00,  2.85164868e+00],\n",
       "       [-1.91828017e+00,  2.60516867e+00],\n",
       "       [-5.55523811e-01,  4.69595848e+00],\n",
       "       [ 1.69747910e+00,  8.66123282e-01],\n",
       "       [ 5.94762432e-01,  4.70964730e+00],\n",
       "       [-2.88024255e+00,  2.30437816e+00],\n",
       "       [ 1.86725632e-01,  4.02683656e+00],\n",
       "       [-5.13333436e-01,  7.87437368e+00],\n",
       "       [-2.05701103e+00,  7.37851598e+00],\n",
       "       [ 1.87271752e+00,  4.18069237e+00],\n",
       "       [-1.13121396e+00,  6.76652230e+00],\n",
       "       [-1.64428957e+00,  7.94095139e+00],\n",
       "       [-2.41933824e+00,  7.43952498e+00],\n",
       "       [-2.01606928e+00,  7.48420129e+00],\n",
       "       [-2.62142780e+00,  7.98635066e+00],\n",
       "       [-2.20299950e+00,  2.47947561e+00],\n",
       "       [ 1.66382237e+00,  6.63091635e-01],\n",
       "       [ 6.69786996e-01,  3.59540802e+00],\n",
       "       [-1.98539037e+00,  2.05520738e+00],\n",
       "       [-4.74920358e-02,  5.47425256e+00],\n",
       "       [ 1.54462126e+00,  4.21078127e+00],\n",
       "       [-1.70200643e+00,  2.46098693e+00],\n",
       "       [-1.02192525e+00,  2.76820711e+00],\n",
       "       [-1.37842552e+00,  8.10269597e+00],\n",
       "       [-1.55220688e+00,  2.74574995e+00],\n",
       "       [-1.47904303e+00,  7.56915836e+00],\n",
       "       [ 1.98894313e+00,  1.50976729e+00],\n",
       "       [-1.94972418e+00,  3.48383870e+00],\n",
       "       [ 2.45509737e+00,  6.21231788e-01],\n",
       "       [-8.94327882e-01,  7.61714473e+00],\n",
       "       [ 1.69687788e+00,  7.54910622e-01],\n",
       "       [ 1.75644805e+00,  2.05538289e+00],\n",
       "       [-1.11064012e+00,  2.82213820e+00],\n",
       "       [-4.15017659e-02,  7.80870276e+00],\n",
       "       [-1.14091533e+00,  1.97550822e+00],\n",
       "       [-1.80634968e+00,  7.72830656e+00],\n",
       "       [ 1.39263752e+00,  9.28962707e-01],\n",
       "       [-2.25698670e+00,  7.30207720e+00],\n",
       "       [ 5.71670482e-01,  4.32288566e+00],\n",
       "       [-1.54994580e+00,  9.28293222e+00],\n",
       "       [-1.03819212e+00,  2.95323761e+00],\n",
       "       [-2.10956676e+00,  3.10677258e+00],\n",
       "       [-1.18652985e+00,  2.78427720e+00],\n",
       "       [-2.45809975e+00,  7.51178724e+00],\n",
       "       [ 2.36960214e+00,  9.50716912e-01],\n",
       "       [-2.66676007e+00,  7.84766052e+00],\n",
       "       [-1.49720702e+00,  3.21418433e+00],\n",
       "       [ 1.32222457e+00,  4.17880807e+00],\n",
       "       [-4.87271301e-01,  3.32858293e+00],\n",
       "       [-1.03718771e+00,  8.06300134e+00],\n",
       "       [-1.60496819e+00,  2.97425420e+00],\n",
       "       [-1.50372568e+00,  1.92385320e+00],\n",
       "       [-7.85412206e-01,  8.45312331e+00],\n",
       "       [-1.75783190e+00,  2.97449321e+00],\n",
       "       [ 1.19008992e+00,  4.72773123e+00],\n",
       "       [ 2.14043942e+00,  7.06066610e-01],\n",
       "       [-1.03540116e+00,  8.20559195e+00],\n",
       "       [ 1.25471244e+00,  8.96331565e-02],\n",
       "       [ 5.95676822e-01,  4.08614263e+00],\n",
       "       [ 1.27955338e+00,  1.05789418e+00],\n",
       "       [ 1.72955064e+00,  1.14729369e+00],\n",
       "       [-9.49041610e-01,  8.46424331e+00],\n",
       "       [ 9.35325115e-01,  5.33179296e+00],\n",
       "       [ 2.36923352e+00,  7.94735861e-01],\n",
       "       [ 4.28576743e-01,  4.97399710e+00],\n",
       "       [-2.04758277e+00,  6.65428520e+00],\n",
       "       [-1.45672617e+00,  7.48669893e+00],\n",
       "       [ 5.29417185e-01,  3.80792420e+00],\n",
       "       [ 1.78194802e+00,  9.08151155e-01],\n",
       "       [-1.95575053e+00,  8.61631686e+00],\n",
       "       [-1.74572014e+00,  3.01190457e+00],\n",
       "       [-1.17979111e+00,  3.12767494e+00],\n",
       "       [ 1.16411070e+00,  3.79132988e+00],\n",
       "       [ 1.36155806e+00,  1.36638252e+00],\n",
       "       [ 2.60137487e+00,  1.08799459e+00],\n",
       "       [ 2.72396035e-01,  5.46996004e+00],\n",
       "       [-3.12240736e+00,  3.28167398e+00],\n",
       "       [-5.88085172e-01,  8.61427320e+00],\n",
       "       [ 1.66909648e+00, -4.36378231e-01],\n",
       "       [-6.82774903e-01,  7.67490317e+00],\n",
       "       [ 2.36790645e+00,  5.52190878e-01],\n",
       "       [ 1.05241733e+00,  4.54498095e+00],\n",
       "       [ 2.22707373e+00,  1.26296996e+00],\n",
       "       [ 2.43934644e+00, -7.25099666e-02],\n",
       "       [ 1.34471770e+00,  4.85711133e+00],\n",
       "       [-1.31454942e+00,  6.83904013e+00],\n",
       "       [ 9.82570091e-01,  5.37530962e+00],\n",
       "       [-1.06295223e+00,  2.20755388e+00],\n",
       "       [-1.60712495e+00,  3.56452854e+00],\n",
       "       [ 1.57322172e+00,  4.83933793e-01],\n",
       "       [-2.17851338e+00,  8.08585131e+00],\n",
       "       [ 1.83375842e+00,  7.54036153e-01],\n",
       "       [ 2.10616050e+00,  3.49513189e+00],\n",
       "       [-1.64338755e+00,  7.52691964e+00],\n",
       "       [ 1.10550448e+00,  1.26389129e+00],\n",
       "       [ 1.61152972e+00,  1.82347242e+00],\n",
       "       [ 4.59534668e-01,  5.44982630e+00],\n",
       "       [-5.38023054e-01,  3.01641891e+00],\n",
       "       [ 1.67841499e+00,  6.09047389e-01],\n",
       "       [-1.01214966e+00,  3.60254338e+00],\n",
       "       [ 1.34195197e+00,  5.93573847e-01],\n",
       "       [ 1.42811550e+00,  1.62435083e+00],\n",
       "       [ 2.04505527e+00,  1.12515470e+00],\n",
       "       [ 1.67280531e+00,  6.59300571e-01],\n",
       "       [-1.35863899e+00,  2.32200809e+00],\n",
       "       [ 1.13078931e+00,  9.35620856e-01],\n",
       "       [-1.73896306e+00,  1.94799775e+00],\n",
       "       [-3.40258925e-01,  8.16733925e+00],\n",
       "       [-1.63793622e+00,  2.43329317e+00],\n",
       "       [-1.68754414e+00,  2.24107546e+00],\n",
       "       [ 2.43040639e+00, -6.35709334e-02],\n",
       "       [-1.37998039e+00,  7.18503804e+00],\n",
       "       [-1.25245465e+00,  2.33911505e+00],\n",
       "       [-2.39482483e+00,  3.39806103e+00],\n",
       "       [-2.09183352e+00,  7.48142543e+00],\n",
       "       [ 4.88382309e-01,  3.26801777e+00],\n",
       "       [-5.39428614e-01,  7.45631776e+00],\n",
       "       [-2.59201821e+00,  8.07635945e+00],\n",
       "       [-1.04656513e+00,  2.96483837e+00],\n",
       "       [ 1.25566754e+00,  3.38204112e+00],\n",
       "       [-1.62150422e+00,  4.27191636e+00],\n",
       "       [ 1.86922139e+00,  5.44132083e+00],\n",
       "       [-1.76404140e+00,  2.22222995e+00],\n",
       "       [-1.38181918e+00,  7.28761248e+00],\n",
       "       [ 7.93137001e-03,  4.17614316e+00],\n",
       "       [-1.10298500e+00,  7.30222786e+00],\n",
       "       [-1.79351372e+00,  7.58086944e+00],\n",
       "       [-1.51176949e+00,  7.94426307e+00],\n",
       "       [ 9.59360742e-01,  4.56078645e+00],\n",
       "       [-6.01337393e-01,  6.29994922e+00],\n",
       "       [ 2.24592863e-01,  4.77028154e+00],\n",
       "       [ 1.56724897e+00,  1.78090633e-02],\n",
       "       [-1.03395259e+00,  2.92105785e+00],\n",
       "       [-9.22268640e-01,  8.09888579e+00],\n",
       "       [-1.88609638e+00,  2.24834407e+00],\n",
       "       [ 1.86873582e+00,  9.56103760e-01],\n",
       "       [ 1.10123507e+00,  4.88977075e+00],\n",
       "       [-1.93213725e+00,  8.30643453e+00],\n",
       "       [ 6.70478769e-01,  4.04094275e+00],\n",
       "       [ 7.43873988e-01,  4.12240568e+00],\n",
       "       [ 1.64003761e+00,  1.81948989e+00],\n",
       "       [ 8.15468056e-01,  4.78526116e+00],\n",
       "       [-2.63274574e+00,  2.63109786e+00],\n",
       "       [-9.61076361e-01,  1.27407596e+00],\n",
       "       [ 2.13979079e-01,  4.88542535e+00],\n",
       "       [ 1.43472182e+00,  1.30662037e+00],\n",
       "       [ 1.21387411e+00,  3.64795042e+00],\n",
       "       [ 1.08272576e+00,  4.06271877e+00],\n",
       "       [-1.22605234e+00,  8.29620146e+00],\n",
       "       [ 1.48170052e+00,  6.90074595e-01],\n",
       "       [ 1.89593761e+00,  5.18540259e+00],\n",
       "       [-1.32356154e+00,  4.13050840e+00],\n",
       "       [-1.14989863e+00,  7.89325283e+00],\n",
       "       [ 2.46915842e+00,  1.67877140e+00],\n",
       "       [ 2.31102276e+00,  1.30380848e+00],\n",
       "       [ 5.72793810e-01,  4.08805543e+00],\n",
       "       [-9.67794989e-01,  3.12186125e+00],\n",
       "       [ 2.62492001e+00,  9.50194405e-01],\n",
       "       [ 1.68353782e+00,  4.19583243e+00],\n",
       "       [-2.22131717e+00,  2.73050691e+00],\n",
       "       [-1.57846247e+00,  3.03445802e+00],\n",
       "       [ 8.15155229e-02,  4.56742235e+00],\n",
       "       [ 1.43289271e+00,  4.37679234e+00],\n",
       "       [ 1.06269622e+00,  5.17635143e+00],\n",
       "       [ 7.67522789e-01,  4.39759671e+00],\n",
       "       [ 2.47019077e+00,  1.31451315e+00],\n",
       "       [-1.73163168e+00,  7.16447286e+00],\n",
       "       [ 3.47138300e-01,  3.45177657e+00],\n",
       "       [-1.00140436e+00,  2.84881778e+00],\n",
       "       [ 1.01618041e+00,  4.48527047e+00],\n",
       "       [ 5.59529363e-01,  4.21400660e+00],\n",
       "       [-2.11821046e+00,  2.03478126e+00],\n",
       "       [-1.36219420e+00,  2.38333321e+00],\n",
       "       [-2.78366586e+00,  2.99211541e+00],\n",
       "       [ 1.65225163e+00,  3.65582842e+00],\n",
       "       [-1.93960658e+00,  2.18943582e+00],\n",
       "       [-1.81487687e+00,  7.97832190e+00],\n",
       "       [ 1.20212540e+00,  3.64414685e+00],\n",
       "       [-9.69200946e-01,  3.26721702e+00],\n",
       "       [ 1.86985974e+00, -1.07938624e-01],\n",
       "       [-1.80701134e+00,  2.06773859e+00],\n",
       "       [ 1.21767506e+00,  3.89290127e+00],\n",
       "       [-1.48368917e+00,  6.00777418e+00],\n",
       "       [-1.56387985e+00,  2.85349910e+00],\n",
       "       [-6.86210297e-01,  8.68285664e+00],\n",
       "       [ 1.07627418e+00,  4.68480619e+00],\n",
       "       [-9.75986627e-01,  6.73761577e+00],\n",
       "       [ 1.37964693e+00,  4.54826443e+00],\n",
       "       [-1.64129611e+00,  2.68097255e+00],\n",
       "       [-1.84892963e-03,  4.58145668e+00],\n",
       "       [ 1.71444449e+00,  5.02521524e+00],\n",
       "       [-1.40524304e+00,  7.72611315e+00],\n",
       "       [-7.08184904e-01,  2.50421275e+00],\n",
       "       [-8.85798374e-01,  2.64585078e+00],\n",
       "       [ 1.98436909e+00,  4.89556738e-01],\n",
       "       [ 2.95195825e+00, -3.44327355e-01],\n",
       "       [ 4.31891060e-01,  4.33495456e+00],\n",
       "       [-1.86621694e+00,  7.62549400e+00],\n",
       "       [ 2.52706430e+00,  6.17812202e-01],\n",
       "       [ 2.04067185e+00,  4.54845114e-01],\n",
       "       [-2.58043836e+00,  3.18844294e+00],\n",
       "       [ 1.61990909e+00,  6.76452867e-02],\n",
       "       [-2.58802708e+00,  3.13117134e+00],\n",
       "       [ 4.43598630e-01,  3.11530945e+00],\n",
       "       [-4.56773649e-01,  7.30600872e+00],\n",
       "       [-1.12867566e+00,  7.80509789e+00],\n",
       "       [ 2.13003529e+00,  5.19209620e+00],\n",
       "       [ 1.00372519e+00,  4.19147702e+00],\n",
       "       [-1.39346767e+00,  8.74641672e+00],\n",
       "       [ 7.28098690e-01,  3.85531444e+00],\n",
       "       [ 8.93499638e-01,  1.01093082e+00],\n",
       "       [-1.10782972e+00,  2.92014479e+00],\n",
       "       [ 7.89338559e-01,  4.33748653e+00],\n",
       "       [ 1.97553917e+00,  7.18989132e-01],\n",
       "       [-1.24902582e+00,  3.08533972e+00],\n",
       "       [-1.07768797e+00,  8.88106128e+00],\n",
       "       [-1.86849125e+00,  3.07982487e+00],\n",
       "       [ 2.76808540e+00,  1.08782923e+00],\n",
       "       [ 2.77180174e-01,  4.84428322e+00],\n",
       "       [ 3.41085289e+00,  8.72309369e-01],\n",
       "       [-1.58084155e+00,  7.55307742e+00],\n",
       "       [-1.53027550e+00,  7.70542113e+00],\n",
       "       [-1.82455840e+00,  7.35958960e+00],\n",
       "       [-1.68568257e+00,  7.95339446e+00],\n",
       "       [-1.65104622e+00,  3.44598961e+00],\n",
       "       [-1.30440901e+00,  3.00311934e+00],\n",
       "       [-7.30698168e-01,  6.24208856e+00],\n",
       "       [ 2.40615694e+00,  4.87047502e+00],\n",
       "       [-1.53631328e+00,  3.01443916e+00],\n",
       "       [ 1.48859977e+00,  6.51633844e-01],\n",
       "       [ 5.14320434e-01,  4.62733684e+00],\n",
       "       [-1.81469750e+00,  3.29009724e+00],\n",
       "       [-1.93731055e+00,  3.91361274e+00],\n",
       "       [-6.14907097e-01,  3.94963585e+00],\n",
       "       [ 2.03169783e+00,  1.96807561e-01],\n",
       "       [ 2.14917144e+00,  1.03697228e+00],\n",
       "       [-1.36999388e+00,  7.76953035e+00],\n",
       "       [ 9.14338767e-01,  4.55014643e+00],\n",
       "       [ 3.33818506e-01,  4.93645836e+00],\n",
       "       [-2.15968109e+00,  3.41003096e+00],\n",
       "       [ 1.36678633e+00,  6.34971633e-01],\n",
       "       [-5.71099336e-01,  8.13306058e+00],\n",
       "       [-1.00552592e+00,  3.08400540e+00],\n",
       "       [ 1.49493180e+00,  3.85848832e+00],\n",
       "       [-5.90447667e-01,  7.69493053e+00],\n",
       "       [ 7.15177948e-01,  5.41334556e+00],\n",
       "       [ 2.11390250e+00,  1.24743587e+00],\n",
       "       [ 1.20083098e+00,  6.01671730e-01],\n",
       "       [-2.54576750e+00,  3.15025055e+00],\n",
       "       [-1.95866665e+00,  2.43008647e+00],\n",
       "       [ 2.33812285e+00,  3.43116792e+00],\n",
       "       [ 3.35320909e+00,  1.69958043e+00],\n",
       "       [ 1.84287117e+00,  7.26928839e-02],\n",
       "       [ 1.32000621e+00,  1.40428145e+00],\n",
       "       [ 2.09680545e+00,  4.84741412e+00],\n",
       "       [-1.24307904e+00,  8.15166254e+00],\n",
       "       [-1.85908090e+00,  7.78874716e+00],\n",
       "       [ 2.74666646e+00,  1.54543482e+00],\n",
       "       [ 2.60778282e+00,  1.08890025e+00],\n",
       "       [ 1.65991049e+00,  3.56289184e+00],\n",
       "       [ 2.35151259e+00,  8.28001297e-01],\n",
       "       [ 2.22322228e+00,  8.38773426e-01],\n",
       "       [ 3.22881491e+00,  1.13171965e+00],\n",
       "       [-1.55876720e+00,  7.24816210e+00],\n",
       "       [-6.46956784e-01,  3.42941343e+00],\n",
       "       [-1.32688818e+00,  8.51530794e+00],\n",
       "       [ 9.17198564e-01,  3.90570036e+00],\n",
       "       [ 2.29469533e+00, -7.65891994e-01],\n",
       "       [ 1.81559810e+00,  1.11969719e+00],\n",
       "       [-1.12016775e+00,  7.11031582e+00],\n",
       "       [-1.65507124e+00,  8.61416749e+00],\n",
       "       [-1.27567815e+00,  7.96776461e+00],\n",
       "       [ 1.97369770e+00,  1.57979848e+00],\n",
       "       [ 2.51834185e+00,  1.39176615e+00],\n",
       "       [ 4.38990142e-01,  4.53592883e+00],\n",
       "       [ 3.69478657e-01,  7.79110522e+00],\n",
       "       [-1.79145759e+00,  2.74966896e+00]])"
      ]
     },
     "execution_count": 178,
     "metadata": {},
     "output_type": "execute_result"
    }
   ],
   "source": [
    "X"
   ]
  },
  {
   "cell_type": "markdown",
   "id": "b6c489e3",
   "metadata": {},
   "source": [
    "### Generate a scatter plot of the data to view the points"
   ]
  },
  {
   "cell_type": "code",
   "execution_count": 175,
   "id": "4d274a9b",
   "metadata": {},
   "outputs": [
    {
     "data": {
      "text/plain": [
       "<AxesSubplot:xlabel='x1', ylabel='x2'>"
      ]
     },
     "execution_count": 175,
     "metadata": {},
     "output_type": "execute_result"
    },
    {
     "data": {
      "image/png": "[encoded data removed]",
      "text/plain": [
       "<Figure size 432x288 with 1 Axes>"
      ]
     },
     "metadata": {
      "needs_background": "light"
     },
     "output_type": "display_data"
    }
   ],
   "source": [
    "df.plot(\"x1\",\"x2\",kind=\"scatter\")"
   ]
  },
  {
   "cell_type": "markdown",
   "id": "6653a20b",
   "metadata": {},
   "source": [
    "### Use sklearn's KMeans to identify 4 clusters"
   ]
  },
  {
   "cell_type": "code",
   "execution_count": 177,
   "id": "f5b35407",
   "metadata": {},
   "outputs": [],
   "source": [
    "import seaborn as sns\n",
    "from sklearn.cluster import KMeans\n",
    "from sklearn import datasets\n",
    "import ipywidgets\n",
    "import plotly.express as px\n",
    "import pandas as pd"
   ]
  },
  {
   "cell_type": "code",
   "execution_count": 179,
   "id": "15de7c37",
   "metadata": {},
   "outputs": [
    {
     "data": {
      "image/png": "[encoded data removed]",
      "text/plain": [
       "<Figure size 432x288 with 1 Axes>"
      ]
     },
     "metadata": {
      "needs_background": "light"
     },
     "output_type": "display_data"
    }
   ],
   "source": [
    "sns.scatterplot(x=X[:,0],y=X[:,1],hue=y,palette='rainbow');"
   ]
  },
  {
   "cell_type": "code",
   "execution_count": 180,
   "id": "5616231f",
   "metadata": {},
   "outputs": [],
   "source": [
    "kmeans = KMeans(n_clusters=4)"
   ]
  },
  {
   "cell_type": "code",
   "execution_count": 181,
   "id": "920a9278",
   "metadata": {},
   "outputs": [
    {
     "data": {
      "text/plain": [
       "KMeans(n_clusters=4)"
      ]
     },
     "execution_count": 181,
     "metadata": {},
     "output_type": "execute_result"
    }
   ],
   "source": [
    "kmeans.fit(X)"
   ]
  },
  {
   "cell_type": "code",
   "execution_count": 182,
   "id": "083f8099",
   "metadata": {},
   "outputs": [
    {
     "data": {
      "text/plain": [
       "array([3, 0, 1, 0, 3, 3, 2, 1, 0, 0, 2, 0, 1, 0, 3, 1, 1, 3, 2, 2, 3, 3,\n",
       "       1, 2, 2, 1, 3, 1, 2, 1, 0, 0, 1, 0, 0, 0, 0, 0, 2, 3, 1, 2, 1, 1,\n",
       "       2, 2, 0, 2, 0, 3, 2, 3, 0, 3, 3, 2, 0, 2, 0, 3, 0, 1, 0, 2, 2, 2,\n",
       "       0, 3, 0, 2, 1, 2, 0, 2, 2, 0, 2, 1, 3, 0, 3, 1, 3, 3, 0, 1, 3, 1,\n",
       "       0, 0, 1, 3, 0, 2, 2, 1, 3, 3, 1, 2, 0, 3, 0, 3, 1, 3, 3, 1, 0, 1,\n",
       "       2, 2, 3, 0, 3, 1, 0, 3, 3, 1, 2, 3, 2, 3, 3, 3, 3, 2, 3, 2, 0, 2,\n",
       "       2, 3, 0, 2, 2, 0, 1, 0, 0, 2, 1, 2, 1, 2, 0, 1, 0, 0, 0, 1, 0, 1,\n",
       "       3, 2, 0, 2, 3, 1, 0, 1, 1, 3, 1, 2, 2, 1, 3, 1, 1, 0, 3, 1, 2, 0,\n",
       "       3, 3, 1, 2, 3, 1, 2, 2, 1, 1, 1, 1, 3, 0, 1, 2, 1, 1, 2, 2, 2, 1,\n",
       "       2, 0, 1, 2, 3, 2, 1, 0, 2, 0, 1, 0, 1, 2, 1, 1, 0, 2, 2, 3, 3, 1,\n",
       "       0, 3, 3, 2, 3, 2, 1, 0, 0, 1, 1, 0, 1, 3, 2, 1, 3, 2, 0, 2, 3, 1,\n",
       "       3, 0, 0, 0, 0, 2, 2, 0, 1, 2, 3, 1, 2, 2, 2, 3, 3, 0, 1, 1, 2, 3,\n",
       "       0, 2, 1, 0, 1, 3, 3, 2, 2, 1, 3, 3, 3, 1, 0, 0, 3, 3, 1, 3, 3, 3,\n",
       "       0, 2, 0, 1, 3, 3, 0, 0, 0, 3, 3, 1, 0, 2], dtype=int32)"
      ]
     },
     "execution_count": 182,
     "metadata": {},
     "output_type": "execute_result"
    }
   ],
   "source": [
    "kmeans.labels_"
   ]
  },
  {
   "cell_type": "markdown",
   "id": "6e8a725a",
   "metadata": {},
   "source": [
    "### Generate another scatter plot of the data with the points colored by cluster to see how the algorithm fared"
   ]
  },
  {
   "cell_type": "code",
   "execution_count": 184,
   "id": "84c002e1",
   "metadata": {},
   "outputs": [
    {
     "data": {
      "image/png": "[encoded data removed]",
      "text/plain": [
       "<Figure size 432x288 with 1 Axes>"
      ]
     },
     "metadata": {
      "needs_background": "light"
     },
     "output_type": "display_data"
    }
   ],
   "source": [
    "sns.scatterplot(x=X[:,0],\n",
    "                y=X[:,1],\n",
    "                hue=kmeans.labels_,\n",
    "                palette='rainbow');"
   ]
  },
  {
   "cell_type": "markdown",
   "id": "61d4a2ea",
   "metadata": {},
   "source": [
    "### Repeat with different parameter values in the call to KMeans, as well as for different parameters in the initial \"blob\"-formation with make_blobs, to see where KMeans does a good job and where it doesn't"
   ]
  },
  {
   "cell_type": "markdown",
   "id": "061462ef",
   "metadata": {},
   "source": [
    "#### Different parameter"
   ]
  },
  {
   "cell_type": "code",
   "execution_count": 185,
   "id": "055dfa4b",
   "metadata": {},
   "outputs": [],
   "source": [
    "kmeans3 = KMeans(n_clusters=3)"
   ]
  },
  {
   "cell_type": "code",
   "execution_count": 186,
   "id": "70dc4a18",
   "metadata": {},
   "outputs": [
    {
     "data": {
      "text/plain": [
       "KMeans(n_clusters=3)"
      ]
     },
     "execution_count": 186,
     "metadata": {},
     "output_type": "execute_result"
    }
   ],
   "source": [
    "kmeans3.fit(X)"
   ]
  },
  {
   "cell_type": "code",
   "execution_count": 187,
   "id": "8c5b5447",
   "metadata": {},
   "outputs": [
    {
     "data": {
      "text/plain": [
       "array([1, 2, 0, 2, 1, 1, 0, 0, 2, 2, 0, 2, 0, 2, 1, 0, 0, 1, 0, 0, 1, 1,\n",
       "       0, 0, 0, 0, 1, 0, 0, 0, 2, 2, 0, 2, 2, 2, 2, 2, 0, 1, 0, 0, 0, 0,\n",
       "       0, 0, 2, 0, 2, 1, 0, 1, 2, 1, 1, 0, 2, 0, 2, 1, 2, 0, 2, 0, 0, 0,\n",
       "       2, 1, 2, 0, 0, 0, 2, 0, 0, 2, 0, 0, 1, 2, 1, 0, 1, 1, 2, 0, 1, 0,\n",
       "       2, 2, 0, 1, 2, 0, 0, 0, 1, 1, 0, 0, 2, 1, 2, 1, 0, 1, 1, 0, 2, 0,\n",
       "       0, 0, 1, 2, 1, 0, 2, 1, 1, 0, 0, 1, 0, 1, 1, 1, 1, 0, 1, 0, 2, 0,\n",
       "       0, 1, 2, 0, 0, 2, 0, 2, 2, 0, 0, 0, 0, 0, 2, 0, 2, 2, 2, 0, 2, 0,\n",
       "       1, 0, 2, 0, 1, 0, 2, 0, 0, 1, 0, 0, 0, 0, 1, 0, 0, 2, 1, 0, 0, 2,\n",
       "       1, 1, 0, 0, 1, 0, 0, 0, 0, 0, 0, 0, 1, 2, 0, 0, 0, 0, 0, 0, 0, 0,\n",
       "       0, 2, 0, 0, 1, 0, 0, 2, 0, 2, 0, 2, 0, 0, 0, 0, 2, 0, 0, 1, 1, 0,\n",
       "       2, 1, 1, 0, 1, 0, 0, 2, 2, 0, 0, 2, 0, 1, 0, 0, 1, 0, 2, 0, 1, 0,\n",
       "       1, 2, 2, 2, 2, 0, 0, 2, 0, 0, 1, 0, 0, 0, 0, 1, 1, 2, 0, 0, 0, 1,\n",
       "       2, 0, 0, 2, 0, 1, 1, 0, 0, 1, 1, 1, 1, 0, 2, 2, 1, 1, 0, 1, 1, 1,\n",
       "       2, 0, 2, 0, 1, 1, 2, 2, 2, 1, 1, 0, 2, 0], dtype=int32)"
      ]
     },
     "execution_count": 187,
     "metadata": {},
     "output_type": "execute_result"
    }
   ],
   "source": [
    "kmeans3.labels_"
   ]
  },
  {
   "cell_type": "code",
   "execution_count": 188,
   "id": "0211508f",
   "metadata": {},
   "outputs": [
    {
     "data": {
      "image/png": "[encoded data removed]",
      "text/plain": [
       "<Figure size 432x288 with 1 Axes>"
      ]
     },
     "metadata": {
      "needs_background": "light"
     },
     "output_type": "display_data"
    }
   ],
   "source": [
    "sns.scatterplot(x=X[:,0],\n",
    "                y=X[:,1],\n",
    "                hue=kmeans3.labels_,\n",
    "                palette='rainbow');"
   ]
  },
  {
   "cell_type": "markdown",
   "id": "3f61cca4",
   "metadata": {},
   "source": [
    "Kmeans still works well. Not as accurate as 4. "
   ]
  },
  {
   "cell_type": "markdown",
   "id": "1a3ccffc",
   "metadata": {},
   "source": [
    "#### different blob"
   ]
  },
  {
   "cell_type": "code",
   "execution_count": 189,
   "id": "b0d7fe9b",
   "metadata": {},
   "outputs": [],
   "source": [
    "X, y = make_blobs(n_samples=300, centers=5, cluster_std=0.60, random_state=0)\n",
    "df5 = pd.DataFrame(X, columns=['x1','x2'])"
   ]
  },
  {
   "cell_type": "code",
   "execution_count": 190,
   "id": "eb87f043",
   "metadata": {},
   "outputs": [
    {
     "data": {
      "text/plain": [
       "array([[ 9.93342581e+00, -1.55235644e+00],\n",
       "       [-5.71099336e-01,  8.13306058e+00],\n",
       "       [ 5.59529363e-01,  4.21400660e+00],\n",
       "       [ 8.46449996e+00, -2.78811366e+00],\n",
       "       [-1.23065895e+00,  2.84821990e+00],\n",
       "       [-1.56387985e+00,  2.85349910e+00],\n",
       "       [ 1.36155806e+00,  1.36638252e+00],\n",
       "       [ 1.65991049e+00,  3.56289184e+00],\n",
       "       [ 2.95195825e+00, -3.44327355e-01],\n",
       "       [-1.07999075e+00,  7.23958585e+00],\n",
       "       [ 9.14153059e+00, -2.98159160e+00],\n",
       "       [ 8.50544171e+00, -2.68242835e+00],\n",
       "       [ 1.87271752e+00,  4.18069237e+00],\n",
       "       [-9.73806411e-01,  7.25669281e+00],\n",
       "       [-1.27567815e+00,  7.96776461e+00],\n",
       "       [ 7.89338559e-01,  4.33748653e+00],\n",
       "       [ 4.43598630e-01,  3.11530945e+00],\n",
       "       [ 2.03169783e+00,  1.96807561e-01],\n",
       "       [ 9.40134324e+00, -3.05631382e+00],\n",
       "       [-2.58043836e+00,  3.18844294e+00],\n",
       "       [ 2.01432256e+00,  1.92566929e+00],\n",
       "       [-1.07859101e+00,  2.20451529e+00],\n",
       "       [ 1.10123507e+00,  4.88977075e+00],\n",
       "       [ 9.98208237e+00, -2.71031188e+00],\n",
       "       [-1.10782972e+00,  2.92014479e+00],\n",
       "       [ 1.49493180e+00,  3.85848832e+00],\n",
       "       [-1.71343572e+00,  2.97632236e+00],\n",
       "       [ 2.40122201e+00,  7.72684407e-01],\n",
       "       [-7.88257866e-01,  8.04923571e+00],\n",
       "       [-1.60712495e+00,  3.56452854e+00],\n",
       "       [ 1.43472182e+00,  1.30662037e+00],\n",
       "       [ 8.34299760e+00, -2.08077833e+00],\n",
       "       [ 1.16411070e+00,  3.79132988e+00],\n",
       "       [ 9.27843195e+00, -2.01496710e+00],\n",
       "       [ 8.26452428e+00, -2.86455244e+00],\n",
       "       [-1.82455840e+00,  7.35958960e+00],\n",
       "       [ 2.62492001e+00,  9.50194405e-01],\n",
       "       [-2.04932168e-01,  8.43209665e+00],\n",
       "       [-1.59780244e+00,  2.50977534e+00],\n",
       "       [ 1.61152972e+00,  1.82347242e+00],\n",
       "       [ 9.59360742e-01,  4.56078645e+00],\n",
       "       [-2.63274574e+00,  2.63109786e+00],\n",
       "       [ 6.70478769e-01,  4.04094275e+00],\n",
       "       [ 1.34471770e+00,  4.85711133e+00],\n",
       "       [ 9.03782181e+00, -4.15885546e+00],\n",
       "       [-1.11301311e+00,  3.69899000e+00],\n",
       "       [ 2.51834185e+00,  1.39176615e+00],\n",
       "       [-1.44173212e+00,  2.72628521e+00],\n",
       "       [ 9.37161235e+00, -2.27337681e+00],\n",
       "       [-2.15405603e+00,  3.64456944e+00],\n",
       "       [-1.94972418e+00,  3.48383870e+00],\n",
       "       [ 1.20083098e+00,  6.01671730e-01],\n",
       "       [-1.94213392e+00,  3.83970849e+00],\n",
       "       [-2.24021957e+00,  2.61379245e+00],\n",
       "       [ 9.13969180e+00, -2.87901715e+00],\n",
       "       [-1.60847383e+00,  3.60001708e+00],\n",
       "       [ 2.76808540e+00,  1.08782923e+00],\n",
       "       [-1.35928798e+00,  7.35087092e+00],\n",
       "       [-1.37239798e+00,  8.36356736e+00],\n",
       "       [ 8.56576045e+00, -1.55031278e+00],\n",
       "       [-1.59322841e+00,  3.52998589e+00],\n",
       "       [ 1.67375987e+00,  1.30352364e+00],\n",
       "       [-1.17979111e+00,  3.12767494e+00],\n",
       "       [-1.43372444e+00,  7.69538002e+00],\n",
       "       [-1.48539316e+00,  7.13980771e+00],\n",
       "       [ 8.47392822e+00, -3.51234444e+00],\n",
       "       [ 9.39029703e+00, -3.40010734e+00],\n",
       "       [-1.22507744e+00,  6.84143095e+00],\n",
       "       [-2.32745910e+00,  2.10985176e+00],\n",
       "       [ 9.83530069e+00, -1.48377300e+00],\n",
       "       [-1.11064012e+00,  2.82213820e+00],\n",
       "       [ 2.29287155e+00,  2.41826755e-01],\n",
       "       [ 9.14308547e+00, -2.06393367e+00],\n",
       "       [ 1.04800092e+01, -2.35792688e+00],\n",
       "       [ 1.08909896e+01, -2.37552442e+00],\n",
       "       [ 9.48610983e+00, -1.96103769e+00],\n",
       "       [ 9.29545864e+00, -1.87042818e+00],\n",
       "       [-1.02576077e+00,  7.92069710e+00],\n",
       "       [ 9.82570091e-01,  5.37530962e+00],\n",
       "       [ 2.52706430e+00,  6.17812202e-01],\n",
       "       [-1.41365810e+00,  7.40962324e+00],\n",
       "       [-9.07881608e-01,  7.70185496e+00],\n",
       "       [ 5.72793810e-01,  4.08805543e+00],\n",
       "       [ 8.83582841e+00, -2.21323518e+00],\n",
       "       [ 7.85150307e+00, -1.81273824e+00],\n",
       "       [-7.43277016e-01,  7.68578487e+00],\n",
       "       [ 1.60841463e+00,  4.01800537e-01],\n",
       "       [ 2.43934644e+00, -7.25099666e-02],\n",
       "       [ 1.26572308e+00,  6.20712897e-01],\n",
       "       [-2.20299950e+00,  2.47947561e+00],\n",
       "       [-2.50501762e+00,  7.90969316e+00],\n",
       "       [ 1.99619601e+00,  4.99576688e-01],\n",
       "       [ 1.84287117e+00,  7.26928839e-02],\n",
       "       [ 9.57246937e+00, -1.70238633e+00],\n",
       "       [-7.08184904e-01,  2.50421275e+00],\n",
       "       [-7.22756118e-01,  7.76639553e+00],\n",
       "       [-5.55523811e-01,  4.69595848e+00],\n",
       "       [-7.33501420e-01,  8.52012114e+00],\n",
       "       [-1.52957429e+00,  6.51459524e+00],\n",
       "       [ 7.28098690e-01,  3.85531444e+00],\n",
       "       [ 9.59924234e+00, -2.06774385e+00],\n",
       "       [-1.11198076e+00,  3.33473175e+00],\n",
       "       [ 2.43040639e+00, -6.35709334e-02],\n",
       "       [-4.56773649e-01,  7.30600872e+00],\n",
       "       [ 1.13078931e+00,  9.35620856e-01],\n",
       "       [ 2.10616050e+00,  3.49513189e+00],\n",
       "       [-1.75783190e+00,  2.97449321e+00],\n",
       "       [ 2.04067185e+00,  4.54845114e-01],\n",
       "       [ 1.20212540e+00,  3.64414685e+00],\n",
       "       [-1.98539037e+00,  2.05520738e+00],\n",
       "       [ 1.05241733e+00,  4.54498095e+00],\n",
       "       [-2.11617659e+00,  8.31563879e+00],\n",
       "       [-1.55220688e+00,  2.74574995e+00],\n",
       "       [ 1.78194802e+00,  9.08151155e-01],\n",
       "       [ 9.20696157e+00, -3.32758951e+00],\n",
       "       [ 2.71506328e+00,  1.29082190e+00],\n",
       "       [ 2.13979079e-01,  4.88542535e+00],\n",
       "       [ 8.87812343e+00, -2.63971000e+00],\n",
       "       [-2.68867190e+00,  3.03114942e+00],\n",
       "       [ 1.27955338e+00,  1.05789418e+00],\n",
       "       [ 8.15468056e-01,  4.78526116e+00],\n",
       "       [-1.42335819e+00,  7.37856469e+00],\n",
       "       [ 8.42967746e+00, -2.68520421e+00],\n",
       "       [-1.46031482e+00,  6.86557550e+00],\n",
       "       [ 8.71516131e+00, -2.43832308e+00],\n",
       "       [-1.44553995e-01,  2.28187277e+00],\n",
       "       [-1.88469244e+00,  2.88634188e+00],\n",
       "       [ 3.41085289e+00,  8.72309369e-01],\n",
       "       [ 1.97553917e+00,  7.18989132e-01],\n",
       "       [-8.62267096e-01,  6.89308597e+00],\n",
       "       [ 2.14917144e+00,  1.03697228e+00],\n",
       "       [-3.68308545e-01,  8.34699118e+00],\n",
       "       [ 1.00081775e+01, -2.29225596e+00],\n",
       "       [-2.08623063e-01,  8.24616068e+00],\n",
       "       [-1.21855879e+00,  8.13176208e+00],\n",
       "       [ 1.39263752e+00,  9.28962707e-01],\n",
       "       [ 9.92017359e+00, -3.86668042e+00],\n",
       "       [ 9.15151711e+00, -2.39709929e+00],\n",
       "       [-3.12240736e+00,  3.28167398e+00],\n",
       "       [ 9.93106332e+00, -2.47169910e+00],\n",
       "       [ 1.08272576e+00,  4.06271877e+00],\n",
       "       [ 8.86643974e+00, -1.55246215e+00],\n",
       "       [ 9.11626794e+00, -2.44051649e+00],\n",
       "       [-1.81469750e+00,  3.29009724e+00],\n",
       "       [ 1.86922139e+00,  5.44132083e+00],\n",
       "       [-1.06295223e+00,  2.20755388e+00],\n",
       "       [ 1.68353782e+00,  4.19583243e+00],\n",
       "       [-1.74572014e+00,  3.01190457e+00],\n",
       "       [-1.32631995e+00,  7.89183195e+00],\n",
       "       [ 4.38990142e-01,  4.53592883e+00],\n",
       "       [ 7.92949277e+00, -2.09027019e+00],\n",
       "       [-1.12867566e+00,  7.80509789e+00],\n",
       "       [ 9.44382301e+00, -1.28556836e+00],\n",
       "       [ 1.01618041e+00,  4.48527047e+00],\n",
       "       [ 9.83873608e+00, -2.49172647e+00],\n",
       "       [ 7.93137001e-03,  4.17614316e+00],\n",
       "       [-1.21426509e+00,  2.57240948e+00],\n",
       "       [-1.29981423e+00,  7.95203578e+00],\n",
       "       [ 8.99123548e+00, -2.46120851e+00],\n",
       "       [-1.54994580e+00,  9.28293222e+00],\n",
       "       [-1.28747621e+00,  1.25432661e+00],\n",
       "       [ 1.19008992e+00,  4.72773123e+00],\n",
       "       [-2.30937885e+00,  8.04874909e+00],\n",
       "       [ 2.24592863e-01,  4.77028154e+00],\n",
       "       [ 3.47138300e-01,  3.45177657e+00],\n",
       "       [-1.35509780e+00,  3.28318856e+00],\n",
       "       [ 1.54462126e+00,  4.21078127e+00],\n",
       "       [ 8.29367449e+00, -3.27183026e+00],\n",
       "       [-7.26877683e-01,  8.00158316e+00],\n",
       "       [ 2.72396035e-01,  5.46996004e+00],\n",
       "       [ 1.57322172e+00,  4.83933793e-01],\n",
       "       [ 1.16051297e+00,  1.16129868e+00],\n",
       "       [-1.84892963e-03,  4.58145668e+00],\n",
       "       [ 9.19462280e+00, -1.65132170e+00],\n",
       "       [ 1.77710994e+00,  1.18655254e+00],\n",
       "       [ 1.06923853e+00,  4.53068484e+00],\n",
       "       [-2.45809975e+00,  7.51178724e+00],\n",
       "       [-1.83956222e+00,  6.95235901e+00],\n",
       "       [-1.90375655e+00,  2.62926599e+00],\n",
       "       [ 1.67280531e+00,  6.59300571e-01],\n",
       "       [ 4.88382309e-01,  3.26801777e+00],\n",
       "       [-1.53631328e+00,  3.01443916e+00],\n",
       "       [ 1.32000621e+00,  1.40428145e+00],\n",
       "       [ 3.33818506e-01,  4.93645836e+00],\n",
       "       [-1.62150422e+00,  4.27191636e+00],\n",
       "       [-1.71783327e+00,  7.76922644e+00],\n",
       "       [ 2.15527162e+00,  1.27868252e+00],\n",
       "       [ 1.24258802e+00,  4.50399192e+00],\n",
       "       [ 1.43289271e+00,  4.37679234e+00],\n",
       "       [ 1.71444449e+00,  5.02521524e+00],\n",
       "       [-1.96226244e+00,  2.08786389e+00],\n",
       "       [ 8.58937374e+00, -1.86019511e+00],\n",
       "       [-4.74920358e-02,  5.47425256e+00],\n",
       "       [-1.88103285e+00,  8.32760872e+00],\n",
       "       [ 5.95676822e-01,  4.08614263e+00],\n",
       "       [ 7.15177948e-01,  5.41334556e+00],\n",
       "       [-2.59374815e-01,  7.93399667e+00],\n",
       "       [-2.22131717e+00,  2.73050691e+00],\n",
       "       [-1.58984301e+00,  7.99740263e+00],\n",
       "       [ 1.36678633e+00,  6.34971633e-01],\n",
       "       [-1.79145759e+00,  2.74966896e+00],\n",
       "       [ 9.34234393e+00, -2.55865816e+00],\n",
       "       [ 1.15521298e+00,  5.09961887e+00],\n",
       "       [-6.82428122e-01,  6.19165372e+00],\n",
       "       [ 2.74666646e+00,  1.54543482e+00],\n",
       "       [-7.55304348e-01,  7.83863560e+00],\n",
       "       [ 4.53791789e-01,  3.95647753e+00],\n",
       "       [ 9.48432328e+00, -2.10362830e+00],\n",
       "       [-1.95866665e+00,  2.43008647e+00],\n",
       "       [-7.67916893e-01,  7.88241612e+00],\n",
       "       [ 3.48515439e+00,  1.46435135e+00],\n",
       "       [ 8.78987931e+00, -3.00215678e+00],\n",
       "       [ 1.59331788e+00,  1.22121317e+00],\n",
       "       [-1.68754414e+00,  2.24107546e+00],\n",
       "       [ 4.31891060e-01,  4.33495456e+00],\n",
       "       [ 7.43873988e-01,  4.12240568e+00],\n",
       "       [-7.30698168e-01,  6.24208856e+00],\n",
       "       [-1.91828017e+00,  2.60516867e+00],\n",
       "       [-1.93960658e+00,  2.18943582e+00],\n",
       "       [-1.12707416e+00,  2.64145039e+00],\n",
       "       [ 2.31102276e+00,  1.30380848e+00],\n",
       "       [ 1.41372442e+00,  4.38117707e+00],\n",
       "       [ 8.66243008e+00, -2.37788248e+00],\n",
       "       [ 1.48859977e+00,  6.51633844e-01],\n",
       "       [ 2.22322228e+00,  8.38773426e-01],\n",
       "       [-1.93731055e+00,  3.91361274e+00],\n",
       "       [-2.47666705e+00,  3.28410989e+00],\n",
       "       [-7.59543881e-01,  7.87081537e+00],\n",
       "       [ 7.67522789e-01,  4.39759671e+00],\n",
       "       [-1.79351372e+00,  7.58086944e+00],\n",
       "       [-1.55876720e+00,  7.24816210e+00],\n",
       "       [ 2.09680545e+00,  4.84741412e+00],\n",
       "       [ 1.89593761e+00,  5.18540259e+00],\n",
       "       [ 9.81041137e+00, -1.50619118e+00],\n",
       "       [ 2.13003529e+00,  5.19209620e+00],\n",
       "       [-1.21256940e+00,  2.97093551e+00],\n",
       "       [-9.67794989e-01,  3.12186125e+00],\n",
       "       [ 2.77180174e-01,  4.84428322e+00],\n",
       "       [ 8.87722142e+00, -2.22567825e+00],\n",
       "       [ 1.86985974e+00, -1.07938624e-01],\n",
       "       [-1.04491330e+00,  9.04808615e+00],\n",
       "       [ 9.41852599e+00, -2.86440178e+00],\n",
       "       [-1.52836310e+00,  6.98531635e+00],\n",
       "       [ 2.60778282e+00,  1.08890025e+00],\n",
       "       [ 1.25566754e+00,  3.38204112e+00],\n",
       "       [ 1.48170052e+00,  6.90074595e-01],\n",
       "       [ 8.94066943e+00, -2.61355222e+00],\n",
       "       [ 8.70663412e+00, -2.18830773e+00],\n",
       "       [-2.62142780e+00,  7.98635066e+00],\n",
       "       [ 9.54552436e+00, -3.42901387e+00],\n",
       "       [-2.26711927e+00,  8.06782830e+00],\n",
       "       [-3.36258858e-01,  8.86721360e+00],\n",
       "       [-3.40258925e-01,  8.16733925e+00],\n",
       "       [ 1.50757419e+00,  1.56787343e+00],\n",
       "       [-1.64129611e+00,  2.68097255e+00],\n",
       "       [ 2.04505527e+00,  1.12515470e+00],\n",
       "       [ 1.65066793e+00,  9.16761995e-01],\n",
       "       [-8.85798374e-01,  2.64585078e+00],\n",
       "       [-6.90552708e-01,  8.18479477e+00],\n",
       "       [ 2.36923352e+00,  7.94735861e-01],\n",
       "       [ 1.69687788e+00,  7.54910622e-01],\n",
       "       [ 9.04246796e+00, -2.59747128e+00],\n",
       "       [ 1.06269622e+00,  5.17635143e+00],\n",
       "       [ 7.34363910e-01,  5.03725437e+00],\n",
       "       [-9.70377577e-01,  8.00291747e+00],\n",
       "       [ 1.75644805e+00,  2.05538289e+00],\n",
       "       [-7.85412206e-01,  8.45312331e+00],\n",
       "       [-1.83091852e+00,  8.02435034e+00],\n",
       "       [ 2.33812285e+00,  3.43116792e+00],\n",
       "       [ 9.06478482e+00, -2.67993071e+00],\n",
       "       [ 1.37964693e+00,  4.54826443e+00],\n",
       "       [-1.76657343e+00,  3.13991579e+00],\n",
       "       [ 1.72955064e+00,  1.14729369e+00],\n",
       "       [-2.60159431e+00,  7.22195591e+00],\n",
       "       [-1.36219420e+00,  2.38333321e+00],\n",
       "       [ 1.00372519e+00,  4.19147702e+00],\n",
       "       [ 1.83375842e+00,  7.54036153e-01],\n",
       "       [ 1.66909648e+00, -4.36378231e-01],\n",
       "       [ 1.45513831e+00, -2.91989981e-02],\n",
       "       [ 4.59534668e-01,  5.44982630e+00],\n",
       "       [ 9.62718310e+00, -2.54948491e+00],\n",
       "       [ 9.50289467e+00, -2.35171499e+00],\n",
       "       [ 1.56724897e+00,  1.78090633e-02],\n",
       "       [ 2.56936589e+00,  5.07048304e-01],\n",
       "       [ 1.21767506e+00,  3.89290127e+00],\n",
       "       [-2.74531469e+00,  4.15657798e+00],\n",
       "       [ 2.60137487e+00,  1.08799459e+00],\n",
       "       [-1.91834916e+00,  2.68331024e+00],\n",
       "       [-1.51176949e+00,  7.94426307e+00],\n",
       "       [-1.60744814e+00,  7.16592182e+00],\n",
       "       [ 8.10217275e+00, -2.72710466e+00],\n",
       "       [ 2.73124907e+00,  2.49704755e-01],\n",
       "       [-3.53356628e-01,  3.15193825e+00],\n",
       "       [-2.31082012e+00,  3.91276067e+00],\n",
       "       [ 9.12804331e+00, -1.42021292e+00],\n",
       "       [ 7.85475092e+00, -2.31896911e+00],\n",
       "       [ 8.65529404e+00, -2.54113564e+00],\n",
       "       [-1.46826903e+00,  3.26765447e+00],\n",
       "       [ 3.35320909e+00,  1.69958043e+00],\n",
       "       [ 6.69786996e-01,  3.59540802e+00]])"
      ]
     },
     "execution_count": 190,
     "metadata": {},
     "output_type": "execute_result"
    }
   ],
   "source": [
    "X"
   ]
  },
  {
   "cell_type": "code",
   "execution_count": 191,
   "id": "78ad0398",
   "metadata": {},
   "outputs": [
    {
     "data": {
      "image/png": "[encoded data removed]",
      "text/plain": [
       "<Figure size 432x288 with 1 Axes>"
      ]
     },
     "metadata": {
      "needs_background": "light"
     },
     "output_type": "display_data"
    }
   ],
   "source": [
    "sns.scatterplot(x=X[:,0],y=X[:,1],hue=y,palette='rainbow');"
   ]
  },
  {
   "cell_type": "code",
   "execution_count": 192,
   "id": "f4d5b0ba",
   "metadata": {},
   "outputs": [],
   "source": [
    "kmeans5 = KMeans(n_clusters=5)"
   ]
  },
  {
   "cell_type": "code",
   "execution_count": 193,
   "id": "eafb2db3",
   "metadata": {},
   "outputs": [
    {
     "data": {
      "text/plain": [
       "KMeans(n_clusters=5)"
      ]
     },
     "execution_count": 193,
     "metadata": {},
     "output_type": "execute_result"
    }
   ],
   "source": [
    "kmeans5.fit(X)"
   ]
  },
  {
   "cell_type": "code",
   "execution_count": 194,
   "id": "7acebcef",
   "metadata": {},
   "outputs": [
    {
     "data": {
      "text/plain": [
       "array([1, 0, 4, 1, 3, 3, 2, 4, 2, 0, 1, 1, 4, 0, 0, 4, 4, 2, 1, 3, 2, 3,\n",
       "       4, 1, 3, 4, 3, 2, 0, 3, 2, 1, 4, 1, 1, 0, 2, 0, 3, 2, 4, 3, 4, 4,\n",
       "       1, 3, 2, 3, 1, 3, 3, 2, 3, 3, 1, 3, 2, 0, 0, 1, 3, 2, 3, 0, 0, 1,\n",
       "       1, 0, 3, 1, 3, 2, 1, 1, 1, 1, 1, 0, 4, 2, 0, 0, 4, 1, 1, 0, 2, 2,\n",
       "       2, 3, 0, 2, 2, 1, 3, 0, 4, 0, 0, 4, 1, 3, 2, 0, 2, 4, 3, 2, 4, 3,\n",
       "       4, 0, 3, 2, 1, 2, 4, 1, 3, 2, 4, 0, 1, 0, 1, 3, 3, 2, 2, 0, 2, 0,\n",
       "       1, 0, 0, 2, 1, 1, 3, 1, 4, 1, 1, 3, 4, 3, 4, 3, 0, 4, 1, 0, 1, 4,\n",
       "       1, 4, 3, 0, 1, 0, 3, 4, 0, 4, 4, 3, 4, 1, 0, 4, 2, 2, 4, 1, 2, 4,\n",
       "       0, 0, 3, 2, 4, 3, 2, 4, 3, 0, 2, 4, 4, 4, 3, 1, 4, 0, 4, 4, 0, 3,\n",
       "       0, 2, 3, 1, 4, 0, 2, 0, 4, 1, 3, 0, 2, 1, 2, 3, 4, 4, 0, 3, 3, 3,\n",
       "       2, 4, 1, 2, 2, 3, 3, 0, 4, 0, 0, 4, 4, 1, 4, 3, 3, 4, 1, 2, 0, 1,\n",
       "       0, 2, 4, 2, 1, 1, 0, 1, 0, 0, 0, 2, 3, 2, 2, 3, 0, 2, 2, 1, 4, 4,\n",
       "       0, 2, 0, 0, 4, 1, 4, 3, 2, 0, 3, 4, 2, 2, 2, 4, 1, 1, 2, 2, 4, 3,\n",
       "       2, 3, 0, 0, 1, 2, 3, 3, 1, 1, 1, 3, 2, 4], dtype=int32)"
      ]
     },
     "execution_count": 194,
     "metadata": {},
     "output_type": "execute_result"
    }
   ],
   "source": [
    "kmeans5.labels_"
   ]
  },
  {
   "cell_type": "code",
   "execution_count": 195,
   "id": "dddcdc56",
   "metadata": {},
   "outputs": [
    {
     "data": {
      "image/png": "[encoded data removed]",
      "text/plain": [
       "<Figure size 432x288 with 1 Axes>"
      ]
     },
     "metadata": {
      "needs_background": "light"
     },
     "output_type": "display_data"
    }
   ],
   "source": [
    "sns.scatterplot(x=X[:,0],\n",
    "                y=X[:,1],\n",
    "                hue=kmeans5.labels_,\n",
    "                palette='rainbow');"
   ]
  },
  {
   "cell_type": "markdown",
   "id": "8bf1447b",
   "metadata": {},
   "source": [
    "Obviously if I change center parameter the cluster number also change"
   ]
  },
  {
   "cell_type": "markdown",
   "id": "ee4aed9f",
   "metadata": {},
   "source": [
    "I'll try with deviation"
   ]
  },
  {
   "cell_type": "code",
   "execution_count": 200,
   "id": "d52aec65",
   "metadata": {},
   "outputs": [],
   "source": [
    "X, y = make_blobs(n_samples=300, centers=5, cluster_std=0.20, random_state=0)\n",
    "df2 = pd.DataFrame(X, columns=['x1','x2'])"
   ]
  },
  {
   "cell_type": "code",
   "execution_count": 201,
   "id": "60bbff8b",
   "metadata": {},
   "outputs": [
    {
     "data": {
      "image/png": "[encoded data removed]",
      "text/plain": [
       "<Figure size 432x288 with 1 Axes>"
      ]
     },
     "metadata": {
      "needs_background": "light"
     },
     "output_type": "display_data"
    }
   ],
   "source": [
    "sns.scatterplot(x=X[:,0],y=X[:,1],hue=y,palette='rainbow');"
   ]
  },
  {
   "cell_type": "code",
   "execution_count": 202,
   "id": "3127a194",
   "metadata": {},
   "outputs": [],
   "source": [
    "kmeans2 = KMeans(n_clusters=5)"
   ]
  },
  {
   "cell_type": "code",
   "execution_count": 203,
   "id": "689d1b4a",
   "metadata": {},
   "outputs": [
    {
     "data": {
      "text/plain": [
       "KMeans(n_clusters=5)"
      ]
     },
     "execution_count": 203,
     "metadata": {},
     "output_type": "execute_result"
    }
   ],
   "source": [
    "kmeans2.fit(X)"
   ]
  },
  {
   "cell_type": "code",
   "execution_count": 204,
   "id": "fe2ad548",
   "metadata": {},
   "outputs": [
    {
     "data": {
      "text/plain": [
       "array([1, 2, 4, 1, 0, 0, 3, 4, 3, 2, 1, 1, 4, 2, 2, 4, 4, 3, 1, 0, 3, 0,\n",
       "       4, 1, 0, 4, 0, 3, 2, 0, 3, 1, 4, 1, 1, 2, 3, 2, 0, 3, 4, 0, 4, 4,\n",
       "       1, 0, 3, 0, 1, 0, 0, 3, 0, 0, 1, 0, 3, 2, 2, 1, 0, 3, 0, 2, 2, 1,\n",
       "       1, 2, 0, 1, 0, 3, 1, 1, 1, 1, 1, 2, 4, 3, 2, 2, 4, 1, 1, 2, 3, 3,\n",
       "       3, 0, 2, 3, 3, 1, 0, 2, 4, 2, 2, 4, 1, 0, 3, 2, 3, 4, 0, 3, 4, 0,\n",
       "       4, 2, 0, 3, 1, 3, 4, 1, 0, 3, 4, 2, 1, 2, 1, 0, 0, 3, 3, 2, 3, 2,\n",
       "       1, 2, 2, 3, 1, 1, 0, 1, 4, 1, 1, 0, 4, 0, 4, 0, 2, 4, 1, 2, 1, 4,\n",
       "       1, 4, 0, 2, 1, 2, 0, 4, 2, 4, 4, 0, 4, 1, 2, 4, 3, 3, 4, 1, 3, 4,\n",
       "       2, 2, 0, 3, 4, 0, 3, 4, 0, 2, 3, 4, 4, 4, 0, 1, 4, 2, 4, 4, 2, 0,\n",
       "       2, 3, 0, 1, 4, 2, 3, 2, 4, 1, 0, 2, 3, 1, 3, 0, 4, 4, 2, 0, 0, 0,\n",
       "       3, 4, 1, 3, 3, 0, 0, 2, 4, 2, 2, 4, 4, 1, 4, 0, 0, 4, 1, 3, 2, 1,\n",
       "       2, 3, 4, 3, 1, 1, 2, 1, 2, 2, 2, 3, 0, 3, 3, 0, 2, 3, 3, 1, 4, 4,\n",
       "       2, 3, 2, 2, 4, 1, 4, 0, 3, 2, 0, 4, 3, 3, 3, 4, 1, 1, 3, 3, 4, 0,\n",
       "       3, 0, 2, 2, 1, 3, 0, 0, 1, 1, 1, 0, 3, 4], dtype=int32)"
      ]
     },
     "execution_count": 204,
     "metadata": {},
     "output_type": "execute_result"
    }
   ],
   "source": [
    "kmeans2.labels_"
   ]
  },
  {
   "cell_type": "code",
   "execution_count": 205,
   "id": "456bf7e0",
   "metadata": {},
   "outputs": [
    {
     "data": {
      "image/png": "[encoded data removed]",
      "text/plain": [
       "<Figure size 432x288 with 1 Axes>"
      ]
     },
     "metadata": {
      "needs_background": "light"
     },
     "output_type": "display_data"
    }
   ],
   "source": [
    "sns.scatterplot(x=X[:,0],\n",
    "                y=X[:,1],\n",
    "                hue=kmeans2.labels_,\n",
    "                palette='rainbow');"
   ]
  },
  {
   "cell_type": "markdown",
   "id": "1b0621fe",
   "metadata": {},
   "source": [
    "The std is pretty low so the number is highly clustered. Here KNN works very good. So I adjust the std higher and get more random one."
   ]
  },
  {
   "cell_type": "code",
   "execution_count": 209,
   "id": "564c7421",
   "metadata": {},
   "outputs": [],
   "source": [
    "X, y = make_blobs(n_samples=300, centers=5, cluster_std=0.90, random_state=40)\n",
    "df9 = pd.DataFrame(X, columns=['x1','x2'])"
   ]
  },
  {
   "cell_type": "code",
   "execution_count": 210,
   "id": "6721da38",
   "metadata": {},
   "outputs": [
    {
     "data": {
      "image/png": "[encoded data removed]",
      "text/plain": [
       "<Figure size 432x288 with 1 Axes>"
      ]
     },
     "metadata": {
      "needs_background": "light"
     },
     "output_type": "display_data"
    }
   ],
   "source": [
    "sns.scatterplot(x=X[:,0],y=X[:,1],hue=y,palette='rainbow');"
   ]
  },
  {
   "cell_type": "code",
   "execution_count": 211,
   "id": "a4cecb82",
   "metadata": {},
   "outputs": [],
   "source": [
    "kmeans9 = KMeans(n_clusters=5)"
   ]
  },
  {
   "cell_type": "code",
   "execution_count": 212,
   "id": "9ff27956",
   "metadata": {},
   "outputs": [
    {
     "data": {
      "text/plain": [
       "KMeans(n_clusters=5)"
      ]
     },
     "execution_count": 212,
     "metadata": {},
     "output_type": "execute_result"
    }
   ],
   "source": [
    "kmeans9.fit(X)"
   ]
  },
  {
   "cell_type": "code",
   "execution_count": 214,
   "id": "b4f1f2f5",
   "metadata": {},
   "outputs": [
    {
     "data": {
      "text/plain": [
       "array([3, 1, 0, 4, 0, 3, 4, 4, 2, 3, 4, 2, 2, 1, 2, 4, 2, 0, 1, 2, 3, 0,\n",
       "       4, 4, 1, 2, 1, 1, 3, 1, 2, 0, 0, 1, 4, 3, 2, 1, 3, 1, 3, 1, 3, 4,\n",
       "       2, 4, 4, 3, 3, 4, 4, 2, 1, 1, 4, 4, 2, 2, 4, 1, 3, 3, 0, 4, 2, 0,\n",
       "       4, 4, 3, 2, 0, 4, 1, 1, 2, 3, 2, 2, 2, 2, 3, 0, 0, 4, 2, 1, 0, 0,\n",
       "       3, 1, 3, 0, 3, 3, 1, 1, 1, 3, 2, 3, 4, 0, 2, 3, 0, 3, 0, 1, 1, 1,\n",
       "       2, 1, 3, 1, 3, 0, 1, 2, 0, 3, 0, 0, 0, 0, 4, 1, 0, 4, 1, 2, 3, 0,\n",
       "       2, 2, 2, 4, 0, 2, 4, 0, 3, 4, 1, 0, 1, 4, 2, 2, 4, 3, 3, 1, 1, 2,\n",
       "       3, 4, 2, 1, 0, 3, 1, 1, 1, 2, 2, 2, 0, 1, 0, 0, 0, 0, 2, 4, 0, 4,\n",
       "       0, 3, 4, 3, 0, 0, 2, 4, 0, 3, 1, 4, 0, 3, 4, 3, 1, 1, 3, 2, 2, 1,\n",
       "       3, 4, 2, 3, 4, 0, 4, 3, 4, 3, 2, 0, 0, 4, 0, 3, 1, 2, 0, 0, 4, 3,\n",
       "       0, 2, 4, 2, 4, 4, 3, 2, 1, 2, 3, 4, 1, 1, 4, 1, 4, 0, 0, 0, 1, 1,\n",
       "       3, 2, 1, 1, 2, 1, 1, 4, 2, 4, 2, 3, 4, 4, 1, 1, 4, 0, 4, 1, 3, 3,\n",
       "       4, 2, 3, 2, 1, 3, 4, 4, 0, 4, 3, 3, 3, 2, 0, 2, 0, 3, 0, 4, 1, 2,\n",
       "       0, 4, 0, 3, 2, 3, 0, 2, 3, 4, 1, 2, 0, 1], dtype=int32)"
      ]
     },
     "execution_count": 214,
     "metadata": {},
     "output_type": "execute_result"
    }
   ],
   "source": [
    "kmeans9.labels_"
   ]
  },
  {
   "cell_type": "code",
   "execution_count": 215,
   "id": "70cddfb1",
   "metadata": {},
   "outputs": [
    {
     "data": {
      "image/png": "[encoded data removed]",
      "text/plain": [
       "<Figure size 432x288 with 1 Axes>"
      ]
     },
     "metadata": {
      "needs_background": "light"
     },
     "output_type": "display_data"
    }
   ],
   "source": [
    "sns.scatterplot(x=X[:,0],\n",
    "                y=X[:,1],\n",
    "                hue=kmeans9.labels_,\n",
    "                palette='rainbow');"
   ]
  },
  {
   "cell_type": "markdown",
   "id": "ef9f1ee6",
   "metadata": {},
   "source": [
    "It's still working well, a few mistakes though."
   ]
  },
  {
   "cell_type": "code",
   "execution_count": null,
   "id": "63d9b239",
   "metadata": {},
   "outputs": [],
   "source": []
  }
 ],
 "metadata": {
  "kernelspec": {
   "display_name": "Python 3 (ipykernel)",
   "language": "python",
   "name": "python3"
  },
  "language_info": {
   "codemirror_mode": {
    "name": "ipython",
    "version": 3
   },
   "file_extension": ".py",
   "mimetype": "text/x-python",
   "name": "python",
   "nbconvert_exporter": "python",
   "pygments_lexer": "ipython3",
   "version": "3.9.7"
  }
 },
 "nbformat": 4,
 "nbformat_minor": 5
}
