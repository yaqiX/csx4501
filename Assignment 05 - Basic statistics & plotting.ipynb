{
 "cells": [
  {
   "cell_type": "code",
   "execution_count": 36,
   "id": "bc1eb587",
   "metadata": {},
   "outputs": [],
   "source": [
    "import pandas as pd\n",
    "import matplotlib.pyplot as plt"
   ]
  },
  {
   "cell_type": "code",
   "execution_count": 2,
   "id": "bf4717d7",
   "metadata": {},
   "outputs": [],
   "source": [
    "df = pd.read_csv('business_dynamics.csv')"
   ]
  },
  {
   "cell_type": "code",
   "execution_count": 3,
   "id": "ca24d2d6",
   "metadata": {},
   "outputs": [
    {
     "data": {
      "text/plain": [
       "<bound method NDFrame.head of         State  Year  Data.DHS Denominator  Data.Number of Firms  \\\n",
       "0     Alabama  1978                972627                 54597   \n",
       "1     Alabama  1979               1037995                 55893   \n",
       "2     Alabama  1980               1064141                 54838   \n",
       "3     Alabama  1981               1051448                 54791   \n",
       "4     Alabama  1982               1037728                 53219   \n",
       "...       ...   ...                   ...                   ...   \n",
       "1922  Wyoming  2014               3121032                133693   \n",
       "1923  Wyoming  2015               3173176                134663   \n",
       "1924  Wyoming  2016               3234346                135969   \n",
       "1925  Wyoming  2017               3277473                136785   \n",
       "1926  Wyoming  2018               3337281                137189   \n",
       "\n",
       "      Data.Calculated.Net Job Creation  Data.Calculated.Net Job Creation Rate  \\\n",
       "0                                74178                                  7.627   \n",
       "1                                58099                                  5.597   \n",
       "2                                -7253                                 -0.682   \n",
       "3                                -9132                                 -0.869   \n",
       "4                                -9658                                 -0.931   \n",
       "...                                ...                                    ...   \n",
       "1922                             30172                                  0.967   \n",
       "1923                             59232                                  1.867   \n",
       "1924                             60113                                  1.859   \n",
       "1925                             45717                                  1.395   \n",
       "1926                             71861                                  2.153   \n",
       "\n",
       "      Data.Calculated.Reallocation Rate  Data.Establishments.Entered  \\\n",
       "0                                29.183                        10457   \n",
       "1                                31.251                         9668   \n",
       "2                                32.464                         8714   \n",
       "3                                31.206                         8371   \n",
       "4                                33.144                         8185   \n",
       "...                                 ...                          ...   \n",
       "1922                             22.751                        16681   \n",
       "1923                             21.866                        16966   \n",
       "1924                             21.494                        17461   \n",
       "1925                             22.492                        16431   \n",
       "1926                             20.494                        15716   \n",
       "\n",
       "      Data.Establishments.Entered Rate  Data.Establishments.Exited  ...  \\\n",
       "0                               16.375                        7749  ...   \n",
       "1                               14.701                        7604  ...   \n",
       "2                               13.168                        8871  ...   \n",
       "3                               12.687                        7516  ...   \n",
       "4                               12.497                        8621  ...   \n",
       "...                                ...                         ...  ...   \n",
       "1922                             9.367                       14631  ...   \n",
       "1923                             9.442                       14955  ...   \n",
       "1924                             9.599                       14212  ...   \n",
       "1925                             8.947                       15351  ...   \n",
       "1926                             8.540                       15178  ...   \n",
       "\n",
       "      Data.Job Creation.Births  Data.Job Creation.Continuers  \\\n",
       "0                        76167                        139930   \n",
       "1                        76618                        143675   \n",
       "2                        65734                        106998   \n",
       "3                        70115                         93941   \n",
       "4                        73083                         98887   \n",
       "...                        ...                           ...   \n",
       "1922                    125806                        259394   \n",
       "1923                    138746                        267403   \n",
       "1924                    132492                        275219   \n",
       "1925                    115172                        299134   \n",
       "1926                    116947                        296885   \n",
       "\n",
       "      Data.Job Creation.Count  Data.Job Creation.Rate  \\\n",
       "0                      216097                  22.218   \n",
       "1                      220293                  21.223   \n",
       "2                      172732                  16.232   \n",
       "3                      164056                  15.603   \n",
       "4                      171970                  16.572   \n",
       "...                       ...                     ...   \n",
       "1922                   385200                  12.342   \n",
       "1923                   406149                  12.799   \n",
       "1924                   407711                  12.606   \n",
       "1925                   414306                  12.641   \n",
       "1926                   413832                  12.400   \n",
       "\n",
       "      Data.Job Creation.Rate/Births  Data.Job Destruction.Continuers  \\\n",
       "0                             7.831                            81829   \n",
       "1                             7.381                           101842   \n",
       "2                             6.177                           120563   \n",
       "3                             6.668                           121251   \n",
       "4                             7.043                           119658   \n",
       "...                             ...                              ...   \n",
       "1922                          4.031                           254493   \n",
       "1923                          4.372                           240007   \n",
       "1924                          4.096                           247361   \n",
       "1925                          3.514                           254683   \n",
       "1926                          3.504                           237638   \n",
       "\n",
       "      Data.Job Destruction.Count  Data.Job Destruction.Deaths  \\\n",
       "0                         141919                        60090   \n",
       "1                         162194                        60352   \n",
       "2                         179985                        59422   \n",
       "3                         173188                        51937   \n",
       "4                         181628                        61970   \n",
       "...                          ...                          ...   \n",
       "1922                      355028                       100535   \n",
       "1923                      346917                       106910   \n",
       "1924                      347598                       100237   \n",
       "1925                      368589                       113906   \n",
       "1926                      341971                       104333   \n",
       "\n",
       "      Data.Job Destruction.Rate  Data.Job Destruction.Rate/Deaths  \n",
       "0                        14.591                             6.178  \n",
       "1                        15.626                             5.814  \n",
       "2                        16.914                             5.584  \n",
       "3                        16.471                             4.940  \n",
       "4                        17.502                             5.972  \n",
       "...                         ...                               ...  \n",
       "1922                     11.375                             3.221  \n",
       "1923                     10.933                             3.369  \n",
       "1924                     10.747                             3.099  \n",
       "1925                     11.246                             3.475  \n",
       "1926                     10.247                             3.126  \n",
       "\n",
       "[1927 rows x 25 columns]>"
      ]
     },
     "execution_count": 3,
     "metadata": {},
     "output_type": "execute_result"
    }
   ],
   "source": [
    "df.head"
   ]
  },
  {
   "cell_type": "code",
   "execution_count": 4,
   "id": "6d1e4b86",
   "metadata": {},
   "outputs": [
    {
     "data": {
      "text/plain": [
       "State                                      object\n",
       "Year                                        int64\n",
       "Data.DHS Denominator                        int64\n",
       "Data.Number of Firms                        int64\n",
       "Data.Calculated.Net Job Creation            int64\n",
       "Data.Calculated.Net Job Creation Rate     float64\n",
       "Data.Calculated.Reallocation Rate         float64\n",
       "Data.Establishments.Entered                 int64\n",
       "Data.Establishments.Entered Rate          float64\n",
       "Data.Establishments.Exited                  int64\n",
       "Data.Establishments.Exited Rate           float64\n",
       "Data.Establishments.Physical Locations      int64\n",
       "Data.Firm Exits.Count                       int64\n",
       "Data.Firm Exits.Establishment Exit          int64\n",
       "Data.Firm Exits.Employments                 int64\n",
       "Data.Job Creation.Births                    int64\n",
       "Data.Job Creation.Continuers                int64\n",
       "Data.Job Creation.Count                     int64\n",
       "Data.Job Creation.Rate                    float64\n",
       "Data.Job Creation.Rate/Births             float64\n",
       "Data.Job Destruction.Continuers             int64\n",
       "Data.Job Destruction.Count                  int64\n",
       "Data.Job Destruction.Deaths                 int64\n",
       "Data.Job Destruction.Rate                 float64\n",
       "Data.Job Destruction.Rate/Deaths          float64\n",
       "dtype: object"
      ]
     },
     "execution_count": 4,
     "metadata": {},
     "output_type": "execute_result"
    }
   ],
   "source": [
    "df.dtypes"
   ]
  },
  {
   "cell_type": "code",
   "execution_count": null,
   "id": "0352bf59",
   "metadata": {},
   "outputs": [],
   "source": [
    "# Choose a numerical column (which I'll call COL1) and calculate the mean, median, mode, and trimmed mean."
   ]
  },
  {
   "cell_type": "code",
   "execution_count": 7,
   "id": "29e49210",
   "metadata": {},
   "outputs": [
    {
     "data": {
      "text/plain": [
       "96965.20031136481"
      ]
     },
     "execution_count": 7,
     "metadata": {},
     "output_type": "execute_result"
    }
   ],
   "source": [
    "df[\"Data.Number of Firms\"].mean()"
   ]
  },
  {
   "cell_type": "code",
   "execution_count": 8,
   "id": "5bb9b764",
   "metadata": {},
   "outputs": [
    {
     "data": {
      "text/plain": [
       "64311.0"
      ]
     },
     "execution_count": 8,
     "metadata": {},
     "output_type": "execute_result"
    }
   ],
   "source": [
    "df[\"Data.Number of Firms\"].median()"
   ]
  },
  {
   "cell_type": "code",
   "execution_count": 9,
   "id": "197fe206",
   "metadata": {},
   "outputs": [
    {
     "data": {
      "text/plain": [
       "0     15312\n",
       "1     15941\n",
       "2     19292\n",
       "3     21507\n",
       "4     26753\n",
       "5     41362\n",
       "6     55433\n",
       "7     56358\n",
       "8     56816\n",
       "9     64079\n",
       "10    68206\n",
       "11    71684\n",
       "12    73731\n",
       "dtype: int64"
      ]
     },
     "execution_count": 9,
     "metadata": {},
     "output_type": "execute_result"
    }
   ],
   "source": [
    "df[\"Data.Number of Firms\"].mode()"
   ]
  },
  {
   "cell_type": "code",
   "execution_count": null,
   "id": "64be5939",
   "metadata": {},
   "outputs": [],
   "source": [
    "# For the trimmed mean, I choose 10% used for trimming."
   ]
  },
  {
   "cell_type": "code",
   "execution_count": 10,
   "id": "457e02cd",
   "metadata": {},
   "outputs": [],
   "source": [
    "import scipy as sci"
   ]
  },
  {
   "cell_type": "code",
   "execution_count": 11,
   "id": "5a9e1d03",
   "metadata": {},
   "outputs": [],
   "source": [
    "from scipy import stats"
   ]
  },
  {
   "cell_type": "code",
   "execution_count": 14,
   "id": "cb93076c",
   "metadata": {},
   "outputs": [],
   "source": [
    "col1=df[\"Data.Number of Firms\"]"
   ]
  },
  {
   "cell_type": "code",
   "execution_count": 15,
   "id": "7b1fb409",
   "metadata": {},
   "outputs": [
    {
     "data": {
      "text/plain": [
       "74780.67465975373"
      ]
     },
     "execution_count": 15,
     "metadata": {},
     "output_type": "execute_result"
    }
   ],
   "source": [
    "stats.trim_mean(col1, 0.1)"
   ]
  },
  {
   "cell_type": "code",
   "execution_count": null,
   "id": "f213b683",
   "metadata": {},
   "outputs": [],
   "source": [
    "# Plot a histogram of COL1 data and comment on the relative locations of the mean, median, mode, and trimmed mean."
   ]
  },
  {
   "cell_type": "code",
   "execution_count": null,
   "id": "0b6e132f",
   "metadata": {},
   "outputs": [],
   "source": [
    "## The data is mostly within 100,000 so I plot another clearer one in this range. "
   ]
  },
  {
   "cell_type": "code",
   "execution_count": 41,
   "id": "11bc49ef",
   "metadata": {
    "scrolled": true
   },
   "outputs": [
    {
     "data": {
      "text/plain": [
       "(array([ 59., 253., 141., 123.,  72.,  81.,  61., 111., 104., 103.,  59.,\n",
       "         53.,  60.,  58.,  65.,  33.,  19.,  25.,  27.,  24.,  11.,  24.,\n",
       "         27.,  18.,  33.,  20.,  21.,  19.,   3.,   6.,  20.,  16.,  17.,\n",
       "          6.,   2.,   2.,   1.,   1.,   2.,   4.,   3.,   6.,   2.,   3.,\n",
       "          3.,   4.,   5.,   3.,   7.,   2.,   5.,   8.,  10.,   7.,   6.,\n",
       "          5.,   2.,  11.,   3.,   5.,   3.,   1.,   1.,   0.,   2.,   1.,\n",
       "          0.,   0.,   0.,   1.,   0.,   1.,   1.,   0.,   1.,   0.,   0.,\n",
       "          1.,   0.,   5.,   1.,   3.,   0.,   1.,   1.,   1.,   2.,   0.,\n",
       "          1.,   1.,   2.,   3.,   1.,   0.,   3.,   2.,   0.,   1.,   1.,\n",
       "          1.]),\n",
       " array([  7107.  ,  13680.47,  20253.94,  26827.41,  33400.88,  39974.35,\n",
       "         46547.82,  53121.29,  59694.76,  66268.23,  72841.7 ,  79415.17,\n",
       "         85988.64,  92562.11,  99135.58, 105709.05, 112282.52, 118855.99,\n",
       "        125429.46, 132002.93, 138576.4 , 145149.87, 151723.34, 158296.81,\n",
       "        164870.28, 171443.75, 178017.22, 184590.69, 191164.16, 197737.63,\n",
       "        204311.1 , 210884.57, 217458.04, 224031.51, 230604.98, 237178.45,\n",
       "        243751.92, 250325.39, 256898.86, 263472.33, 270045.8 , 276619.27,\n",
       "        283192.74, 289766.21, 296339.68, 302913.15, 309486.62, 316060.09,\n",
       "        322633.56, 329207.03, 335780.5 , 342353.97, 348927.44, 355500.91,\n",
       "        362074.38, 368647.85, 375221.32, 381794.79, 388368.26, 394941.73,\n",
       "        401515.2 , 408088.67, 414662.14, 421235.61, 427809.08, 434382.55,\n",
       "        440956.02, 447529.49, 454102.96, 460676.43, 467249.9 , 473823.37,\n",
       "        480396.84, 486970.31, 493543.78, 500117.25, 506690.72, 513264.19,\n",
       "        519837.66, 526411.13, 532984.6 , 539558.07, 546131.54, 552705.01,\n",
       "        559278.48, 565851.95, 572425.42, 578998.89, 585572.36, 592145.83,\n",
       "        598719.3 , 605292.77, 611866.24, 618439.71, 625013.18, 631586.65,\n",
       "        638160.12, 644733.59, 651307.06, 657880.53, 664454.  ]),\n",
       " <BarContainer object of 100 artists>)"
      ]
     },
     "execution_count": 41,
     "metadata": {},
     "output_type": "execute_result"
    },
    {
     "data": {
      "image/png": "[encoded data removed]",
      "text/plain": [
       "<Figure size 432x288 with 1 Axes>"
      ]
     },
     "metadata": {
      "needs_background": "light"
     },
     "output_type": "display_data"
    }
   ],
   "source": [
    "plt.hist(col1,bins=100)"
   ]
  },
  {
   "cell_type": "code",
   "execution_count": null,
   "id": "82b029e4",
   "metadata": {},
   "outputs": [],
   "source": [
    "## It shows that the relative locations of the mean, median, mode, and trimmed mean are all around the second peak in this histogram.\n",
    "## I try to use the code x.min(),x.max() to plot the number within 100,000 cause most of the data is in this range but it doesn't work. Need help!"
   ]
  },
  {
   "cell_type": "code",
   "execution_count": 43,
   "id": "bf7ac091",
   "metadata": {},
   "outputs": [],
   "source": [
    "# Calculate the mean absolute deviation, the standard deviation, and the interquartile range (the difference of the 75% and 25% quantile)\n",
    "## Comment as well on how they compare to each other and to the histogram plot."
   ]
  },
  {
   "cell_type": "code",
   "execution_count": null,
   "id": "613904a9",
   "metadata": {},
   "outputs": [],
   "source": [
    "### This code is usually enough"
   ]
  },
  {
   "cell_type": "code",
   "execution_count": 46,
   "id": "2045f002",
   "metadata": {},
   "outputs": [
    {
     "data": {
      "text/plain": [
       "count      1927.000000\n",
       "mean      96965.200311\n",
       "std      105833.320289\n",
       "min        7107.000000\n",
       "25%       27742.000000\n",
       "50%       64311.000000\n",
       "75%      115323.000000\n",
       "max      664454.000000\n",
       "Name: Data.Number of Firms, dtype: float64"
      ]
     },
     "execution_count": 46,
     "metadata": {},
     "output_type": "execute_result"
    }
   ],
   "source": [
    "col1.describe()"
   ]
  },
  {
   "cell_type": "code",
   "execution_count": null,
   "id": "a47e0233",
   "metadata": {},
   "outputs": [],
   "source": []
  },
  {
   "cell_type": "code",
   "execution_count": 193,
   "id": "b7046a13",
   "metadata": {},
   "outputs": [
    {
     "data": {
      "text/plain": [
       "71517.70255261473"
      ]
     },
     "execution_count": 193,
     "metadata": {},
     "output_type": "execute_result"
    }
   ],
   "source": [
    "col1.mad()"
   ]
  },
  {
   "cell_type": "code",
   "execution_count": 45,
   "id": "4c941db8",
   "metadata": {
    "scrolled": true
   },
   "outputs": [
    {
     "data": {
      "text/plain": [
       "105833.32028929367"
      ]
     },
     "execution_count": 45,
     "metadata": {},
     "output_type": "execute_result"
    }
   ],
   "source": [
    "col1.std()"
   ]
  },
  {
   "cell_type": "code",
   "execution_count": 47,
   "id": "d7110cfb",
   "metadata": {},
   "outputs": [
    {
     "data": {
      "text/plain": [
       "27742.0"
      ]
     },
     "execution_count": 47,
     "metadata": {},
     "output_type": "execute_result"
    }
   ],
   "source": [
    "col1.quantile(0.25)"
   ]
  },
  {
   "cell_type": "code",
   "execution_count": 49,
   "id": "2eebde2d",
   "metadata": {
    "scrolled": true
   },
   "outputs": [
    {
     "data": {
      "text/plain": [
       "115323.0"
      ]
     },
     "execution_count": 49,
     "metadata": {},
     "output_type": "execute_result"
    }
   ],
   "source": [
    "col1.quantile(0.75)"
   ]
  },
  {
   "cell_type": "code",
   "execution_count": null,
   "id": "a2f5abae",
   "metadata": {},
   "outputs": [],
   "source": [
    "## They are still around the second peak in the histogram. The 25% quantile and 75% quantile are one the left and right of other data."
   ]
  },
  {
   "cell_type": "code",
   "execution_count": null,
   "id": "11043555",
   "metadata": {},
   "outputs": [],
   "source": [
    "# Plot a box plot of COL1 and check that the locations of the calculated median and the 25% and 75% quantiles match"
   ]
  },
  {
   "cell_type": "code",
   "execution_count": 124,
   "id": "deec9962",
   "metadata": {},
   "outputs": [
    {
     "data": {
      "text/plain": [
       "<AxesSubplot:>"
      ]
     },
     "execution_count": 124,
     "metadata": {},
     "output_type": "execute_result"
    },
    {
     "data": {
      "image/png": "[encoded data removed]",
      "text/plain": [
       "<Figure size 432x288 with 1 Axes>"
      ]
     },
     "metadata": {
      "needs_background": "light"
     },
     "output_type": "display_data"
    }
   ],
   "source": [
    "df.boxplot(column=\"Data.Number of Firms\")"
   ]
  },
  {
   "cell_type": "code",
   "execution_count": null,
   "id": "7feb6a9a",
   "metadata": {},
   "outputs": [],
   "source": [
    "## Match!"
   ]
  },
  {
   "cell_type": "code",
   "execution_count": null,
   "id": "119aacfa",
   "metadata": {},
   "outputs": [],
   "source": [
    "# Choose a column with categorical values (COL2)"
   ]
  },
  {
   "cell_type": "code",
   "execution_count": null,
   "id": "7e527b56",
   "metadata": {},
   "outputs": [],
   "source": [
    "## I don't really have categorical values, so I have to add some new columns myself. I decide to categorize some states and see if it works. "
   ]
  },
  {
   "cell_type": "code",
   "execution_count": 57,
   "id": "0ffe3dc6",
   "metadata": {
    "scrolled": true
   },
   "outputs": [
    {
     "data": {
      "text/plain": [
       "['State',\n",
       " 'Year',\n",
       " 'Data.DHS Denominator',\n",
       " 'Data.Number of Firms',\n",
       " 'Data.Calculated.Net Job Creation',\n",
       " 'Data.Calculated.Net Job Creation Rate',\n",
       " 'Data.Calculated.Reallocation Rate',\n",
       " 'Data.Establishments.Entered',\n",
       " 'Data.Establishments.Entered Rate',\n",
       " 'Data.Establishments.Exited',\n",
       " 'Data.Establishments.Exited Rate',\n",
       " 'Data.Establishments.Physical Locations',\n",
       " 'Data.Firm Exits.Count',\n",
       " 'Data.Firm Exits.Establishment Exit',\n",
       " 'Data.Firm Exits.Employments',\n",
       " 'Data.Job Creation.Births',\n",
       " 'Data.Job Creation.Continuers',\n",
       " 'Data.Job Creation.Count',\n",
       " 'Data.Job Creation.Rate',\n",
       " 'Data.Job Creation.Rate/Births',\n",
       " 'Data.Job Destruction.Continuers',\n",
       " 'Data.Job Destruction.Count',\n",
       " 'Data.Job Destruction.Deaths',\n",
       " 'Data.Job Destruction.Rate',\n",
       " 'Data.Job Destruction.Rate/Deaths']"
      ]
     },
     "execution_count": 57,
     "metadata": {},
     "output_type": "execute_result"
    }
   ],
   "source": [
    "list(df)"
   ]
  },
  {
   "cell_type": "code",
   "execution_count": 62,
   "id": "d15cc09e",
   "metadata": {},
   "outputs": [
    {
     "data": {
      "text/plain": [
       "0       Alabama\n",
       "1       Alabama\n",
       "2       Alabama\n",
       "3       Alabama\n",
       "4       Alabama\n",
       "         ...   \n",
       "1922    Wyoming\n",
       "1923    Wyoming\n",
       "1924    Wyoming\n",
       "1925    Wyoming\n",
       "1926    Wyoming\n",
       "Name: State, Length: 1927, dtype: object"
      ]
     },
     "execution_count": 62,
     "metadata": {},
     "output_type": "execute_result"
    }
   ],
   "source": [
    "df[\"State\"]"
   ]
  },
  {
   "cell_type": "code",
   "execution_count": 64,
   "id": "31710e02",
   "metadata": {},
   "outputs": [],
   "source": [
    "df['State 1'] = df['State'].replace(['Alaska','California','Hawaii','Oregon','Washington'],'west coast')"
   ]
  },
  {
   "cell_type": "code",
   "execution_count": 66,
   "id": "43d2d7fb",
   "metadata": {
    "scrolled": true
   },
   "outputs": [
    {
     "data": {
      "text/html": [
       "<div>\n",
       "<style scoped>\n",
       "    .dataframe tbody tr th:only-of-type {\n",
       "        vertical-align: middle;\n",
       "    }\n",
       "\n",
       "    .dataframe tbody tr th {\n",
       "        vertical-align: top;\n",
       "    }\n",
       "\n",
       "    .dataframe thead th {\n",
       "        text-align: right;\n",
       "    }\n",
       "</style>\n",
       "<table border=\"1\" class=\"dataframe\">\n",
       "  <thead>\n",
       "    <tr style=\"text-align: right;\">\n",
       "      <th></th>\n",
       "      <th>State</th>\n",
       "      <th>Year</th>\n",
       "      <th>Data.DHS Denominator</th>\n",
       "      <th>Data.Number of Firms</th>\n",
       "      <th>Data.Calculated.Net Job Creation</th>\n",
       "      <th>Data.Calculated.Net Job Creation Rate</th>\n",
       "      <th>Data.Calculated.Reallocation Rate</th>\n",
       "      <th>Data.Establishments.Entered</th>\n",
       "      <th>Data.Establishments.Entered Rate</th>\n",
       "      <th>Data.Establishments.Exited</th>\n",
       "      <th>...</th>\n",
       "      <th>Data.Job Creation.Continuers</th>\n",
       "      <th>Data.Job Creation.Count</th>\n",
       "      <th>Data.Job Creation.Rate</th>\n",
       "      <th>Data.Job Creation.Rate/Births</th>\n",
       "      <th>Data.Job Destruction.Continuers</th>\n",
       "      <th>Data.Job Destruction.Count</th>\n",
       "      <th>Data.Job Destruction.Deaths</th>\n",
       "      <th>Data.Job Destruction.Rate</th>\n",
       "      <th>Data.Job Destruction.Rate/Deaths</th>\n",
       "      <th>State 1</th>\n",
       "    </tr>\n",
       "  </thead>\n",
       "  <tbody>\n",
       "    <tr>\n",
       "      <th>0</th>\n",
       "      <td>Alabama</td>\n",
       "      <td>1978</td>\n",
       "      <td>972627</td>\n",
       "      <td>54597</td>\n",
       "      <td>74178</td>\n",
       "      <td>7.627</td>\n",
       "      <td>29.183</td>\n",
       "      <td>10457</td>\n",
       "      <td>16.375</td>\n",
       "      <td>7749</td>\n",
       "      <td>...</td>\n",
       "      <td>139930</td>\n",
       "      <td>216097</td>\n",
       "      <td>22.218</td>\n",
       "      <td>7.831</td>\n",
       "      <td>81829</td>\n",
       "      <td>141919</td>\n",
       "      <td>60090</td>\n",
       "      <td>14.591</td>\n",
       "      <td>6.178</td>\n",
       "      <td>Alabama</td>\n",
       "    </tr>\n",
       "    <tr>\n",
       "      <th>1</th>\n",
       "      <td>Alabama</td>\n",
       "      <td>1979</td>\n",
       "      <td>1037995</td>\n",
       "      <td>55893</td>\n",
       "      <td>58099</td>\n",
       "      <td>5.597</td>\n",
       "      <td>31.251</td>\n",
       "      <td>9668</td>\n",
       "      <td>14.701</td>\n",
       "      <td>7604</td>\n",
       "      <td>...</td>\n",
       "      <td>143675</td>\n",
       "      <td>220293</td>\n",
       "      <td>21.223</td>\n",
       "      <td>7.381</td>\n",
       "      <td>101842</td>\n",
       "      <td>162194</td>\n",
       "      <td>60352</td>\n",
       "      <td>15.626</td>\n",
       "      <td>5.814</td>\n",
       "      <td>Alabama</td>\n",
       "    </tr>\n",
       "    <tr>\n",
       "      <th>2</th>\n",
       "      <td>Alabama</td>\n",
       "      <td>1980</td>\n",
       "      <td>1064141</td>\n",
       "      <td>54838</td>\n",
       "      <td>-7253</td>\n",
       "      <td>-0.682</td>\n",
       "      <td>32.464</td>\n",
       "      <td>8714</td>\n",
       "      <td>13.168</td>\n",
       "      <td>8871</td>\n",
       "      <td>...</td>\n",
       "      <td>106998</td>\n",
       "      <td>172732</td>\n",
       "      <td>16.232</td>\n",
       "      <td>6.177</td>\n",
       "      <td>120563</td>\n",
       "      <td>179985</td>\n",
       "      <td>59422</td>\n",
       "      <td>16.914</td>\n",
       "      <td>5.584</td>\n",
       "      <td>Alabama</td>\n",
       "    </tr>\n",
       "    <tr>\n",
       "      <th>3</th>\n",
       "      <td>Alabama</td>\n",
       "      <td>1981</td>\n",
       "      <td>1051448</td>\n",
       "      <td>54791</td>\n",
       "      <td>-9132</td>\n",
       "      <td>-0.869</td>\n",
       "      <td>31.206</td>\n",
       "      <td>8371</td>\n",
       "      <td>12.687</td>\n",
       "      <td>7516</td>\n",
       "      <td>...</td>\n",
       "      <td>93941</td>\n",
       "      <td>164056</td>\n",
       "      <td>15.603</td>\n",
       "      <td>6.668</td>\n",
       "      <td>121251</td>\n",
       "      <td>173188</td>\n",
       "      <td>51937</td>\n",
       "      <td>16.471</td>\n",
       "      <td>4.940</td>\n",
       "      <td>Alabama</td>\n",
       "    </tr>\n",
       "    <tr>\n",
       "      <th>4</th>\n",
       "      <td>Alabama</td>\n",
       "      <td>1982</td>\n",
       "      <td>1037728</td>\n",
       "      <td>53219</td>\n",
       "      <td>-9658</td>\n",
       "      <td>-0.931</td>\n",
       "      <td>33.144</td>\n",
       "      <td>8185</td>\n",
       "      <td>12.497</td>\n",
       "      <td>8621</td>\n",
       "      <td>...</td>\n",
       "      <td>98887</td>\n",
       "      <td>171970</td>\n",
       "      <td>16.572</td>\n",
       "      <td>7.043</td>\n",
       "      <td>119658</td>\n",
       "      <td>181628</td>\n",
       "      <td>61970</td>\n",
       "      <td>17.502</td>\n",
       "      <td>5.972</td>\n",
       "      <td>Alabama</td>\n",
       "    </tr>\n",
       "  </tbody>\n",
       "</table>\n",
       "<p>5 rows × 26 columns</p>\n",
       "</div>"
      ],
      "text/plain": [
       "     State  Year  Data.DHS Denominator  Data.Number of Firms  \\\n",
       "0  Alabama  1978                972627                 54597   \n",
       "1  Alabama  1979               1037995                 55893   \n",
       "2  Alabama  1980               1064141                 54838   \n",
       "3  Alabama  1981               1051448                 54791   \n",
       "4  Alabama  1982               1037728                 53219   \n",
       "\n",
       "   Data.Calculated.Net Job Creation  Data.Calculated.Net Job Creation Rate  \\\n",
       "0                             74178                                  7.627   \n",
       "1                             58099                                  5.597   \n",
       "2                             -7253                                 -0.682   \n",
       "3                             -9132                                 -0.869   \n",
       "4                             -9658                                 -0.931   \n",
       "\n",
       "   Data.Calculated.Reallocation Rate  Data.Establishments.Entered  \\\n",
       "0                             29.183                        10457   \n",
       "1                             31.251                         9668   \n",
       "2                             32.464                         8714   \n",
       "3                             31.206                         8371   \n",
       "4                             33.144                         8185   \n",
       "\n",
       "   Data.Establishments.Entered Rate  Data.Establishments.Exited  ...  \\\n",
       "0                            16.375                        7749  ...   \n",
       "1                            14.701                        7604  ...   \n",
       "2                            13.168                        8871  ...   \n",
       "3                            12.687                        7516  ...   \n",
       "4                            12.497                        8621  ...   \n",
       "\n",
       "   Data.Job Creation.Continuers  Data.Job Creation.Count  \\\n",
       "0                        139930                   216097   \n",
       "1                        143675                   220293   \n",
       "2                        106998                   172732   \n",
       "3                         93941                   164056   \n",
       "4                         98887                   171970   \n",
       "\n",
       "   Data.Job Creation.Rate  Data.Job Creation.Rate/Births  \\\n",
       "0                  22.218                          7.831   \n",
       "1                  21.223                          7.381   \n",
       "2                  16.232                          6.177   \n",
       "3                  15.603                          6.668   \n",
       "4                  16.572                          7.043   \n",
       "\n",
       "   Data.Job Destruction.Continuers  Data.Job Destruction.Count  \\\n",
       "0                            81829                      141919   \n",
       "1                           101842                      162194   \n",
       "2                           120563                      179985   \n",
       "3                           121251                      173188   \n",
       "4                           119658                      181628   \n",
       "\n",
       "   Data.Job Destruction.Deaths  Data.Job Destruction.Rate  \\\n",
       "0                        60090                     14.591   \n",
       "1                        60352                     15.626   \n",
       "2                        59422                     16.914   \n",
       "3                        51937                     16.471   \n",
       "4                        61970                     17.502   \n",
       "\n",
       "   Data.Job Destruction.Rate/Deaths  State 1  \n",
       "0                             6.178  Alabama  \n",
       "1                             5.814  Alabama  \n",
       "2                             5.584  Alabama  \n",
       "3                             4.940  Alabama  \n",
       "4                             5.972  Alabama  \n",
       "\n",
       "[5 rows x 26 columns]"
      ]
     },
     "execution_count": 66,
     "metadata": {},
     "output_type": "execute_result"
    }
   ],
   "source": [
    "df.head()"
   ]
  },
  {
   "cell_type": "code",
   "execution_count": 69,
   "id": "132cb846",
   "metadata": {},
   "outputs": [],
   "source": [
    "#looks working\n",
    "col2=df[\"State 1\"]"
   ]
  },
  {
   "cell_type": "code",
   "execution_count": null,
   "id": "d98c81db",
   "metadata": {},
   "outputs": [],
   "source": [
    "## Make a bar plot using the categorical values along the horizontal axis and values of your choose vertically"
   ]
  },
  {
   "cell_type": "code",
   "execution_count": 86,
   "id": "f3a3a802",
   "metadata": {},
   "outputs": [],
   "source": [
    "from matplotlib.pyplot import figure"
   ]
  },
  {
   "cell_type": "code",
   "execution_count": 134,
   "id": "c9ddbcba",
   "metadata": {},
   "outputs": [
    {
     "data": {
      "image/png": "[encoded data removed]",
      "text/plain": [
       "<Figure size 4000x800 with 1 Axes>"
      ]
     },
     "metadata": {
      "needs_background": "light"
     },
     "output_type": "display_data"
    }
   ],
   "source": [
    "plt.bar(x=col2, height=df[\"Data.Job Creation.Count\"], figure=figure(figsize=(50, 10), dpi=80),width=0.8)\n",
    "plt.title('Firms of Region', fontsize=4)\n",
    "plt.xlabel('Region', fontsize=10)\n",
    "plt.ylabel('Job Creation', fontsize=10)\n",
    "plt.show()"
   ]
  },
  {
   "cell_type": "code",
   "execution_count": null,
   "id": "581754b3",
   "metadata": {},
   "outputs": [],
   "source": [
    "## Using both COL1 and COL2 data, make a plot that has the categorical values of COL2 on the horizontal axis"
   ]
  },
  {
   "cell_type": "code",
   "execution_count": 133,
   "id": "0550ee5c",
   "metadata": {},
   "outputs": [
    {
     "data": {
      "image/png": "[encoded data removed]",
      "text/plain": [
       "<Figure size 4000x800 with 1 Axes>"
      ]
     },
     "metadata": {
      "needs_background": "light"
     },
     "output_type": "display_data"
    }
   ],
   "source": [
    "plt.bar(x=col2, height=col1, figure=figure(figsize=(50, 10), dpi=80),width=0.8)\n",
    "plt.title('Firms of Region', fontsize=4)\n",
    "plt.xlabel('Region', fontsize=10)\n",
    "plt.ylabel('Firm number', fontsize=10)\n",
    "plt.show()"
   ]
  },
  {
   "cell_type": "code",
   "execution_count": null,
   "id": "d254182d",
   "metadata": {},
   "outputs": [],
   "source": [
    "## and a box plot of grouped COL1 data in the vertical direction"
   ]
  },
  {
   "cell_type": "code",
   "execution_count": 141,
   "id": "f911a9db",
   "metadata": {},
   "outputs": [],
   "source": [
    "boxplot_col1=df.groupby(col1).mean()"
   ]
  },
  {
   "cell_type": "code",
   "execution_count": 146,
   "id": "7b1ce215",
   "metadata": {},
   "outputs": [
    {
     "data": {
      "text/plain": [
       "<AxesSubplot:>"
      ]
     },
     "execution_count": 146,
     "metadata": {},
     "output_type": "execute_result"
    },
    {
     "data": {
      "image/png": "[encoded data removed]",
      "text/plain": [
       "<Figure size 432x288 with 1 Axes>"
      ]
     },
     "metadata": {
      "needs_background": "light"
     },
     "output_type": "display_data"
    }
   ],
   "source": [
    "boxplot_col1.boxplot()"
   ]
  },
  {
   "cell_type": "code",
   "execution_count": null,
   "id": "5ab5ef2e",
   "metadata": {},
   "outputs": [],
   "source": [
    "# Choose another numerical column (COL3)"
   ]
  },
  {
   "cell_type": "code",
   "execution_count": 147,
   "id": "585015b9",
   "metadata": {},
   "outputs": [],
   "source": [
    "col3=df[\"Data.Job Creation.Births\"]"
   ]
  },
  {
   "cell_type": "code",
   "execution_count": null,
   "id": "42f37671",
   "metadata": {},
   "outputs": [],
   "source": [
    "## Calculate the correlation between COL1 and COL3"
   ]
  },
  {
   "cell_type": "code",
   "execution_count": 240,
   "id": "8e5ee4cf",
   "metadata": {},
   "outputs": [],
   "source": [
    "cor_data=df[['Data.Number of Firms','Data.Job Creation.Births']]"
   ]
  },
  {
   "cell_type": "code",
   "execution_count": 241,
   "id": "85c4ce70",
   "metadata": {
    "scrolled": true
   },
   "outputs": [
    {
     "name": "stdout",
     "output_type": "stream",
     "text": [
      "      Data.Number of Firms  Data.Job Creation.Births\n",
      "0                    54597                     76167\n",
      "1                    55893                     76618\n",
      "2                    54838                     65734\n",
      "3                    54791                     70115\n",
      "4                    53219                     73083\n",
      "...                    ...                       ...\n",
      "1922                133693                    125806\n",
      "1923                134663                    138746\n",
      "1924                135969                    132492\n",
      "1925                136785                    115172\n",
      "1926                137189                    116947\n",
      "\n",
      "[1927 rows x 2 columns]\n"
     ]
    }
   ],
   "source": [
    "print(cor_data)"
   ]
  },
  {
   "cell_type": "code",
   "execution_count": 238,
   "id": "1e0fd8da",
   "metadata": {
    "scrolled": true
   },
   "outputs": [
    {
     "data": {
      "text/html": [
       "<div>\n",
       "<style scoped>\n",
       "    .dataframe tbody tr th:only-of-type {\n",
       "        vertical-align: middle;\n",
       "    }\n",
       "\n",
       "    .dataframe tbody tr th {\n",
       "        vertical-align: top;\n",
       "    }\n",
       "\n",
       "    .dataframe thead th {\n",
       "        text-align: right;\n",
       "    }\n",
       "</style>\n",
       "<table border=\"1\" class=\"dataframe\">\n",
       "  <thead>\n",
       "    <tr style=\"text-align: right;\">\n",
       "      <th></th>\n",
       "      <th>Data.Number of Firms</th>\n",
       "      <th>Data.Job Creation.Births</th>\n",
       "    </tr>\n",
       "  </thead>\n",
       "  <tbody>\n",
       "    <tr>\n",
       "      <th>Data.Number of Firms</th>\n",
       "      <td>1.000000</td>\n",
       "      <td>0.961281</td>\n",
       "    </tr>\n",
       "    <tr>\n",
       "      <th>Data.Job Creation.Births</th>\n",
       "      <td>0.961281</td>\n",
       "      <td>1.000000</td>\n",
       "    </tr>\n",
       "  </tbody>\n",
       "</table>\n",
       "</div>"
      ],
      "text/plain": [
       "                          Data.Number of Firms  Data.Job Creation.Births\n",
       "Data.Number of Firms                  1.000000                  0.961281\n",
       "Data.Job Creation.Births              0.961281                  1.000000"
      ]
     },
     "execution_count": 238,
     "metadata": {},
     "output_type": "execute_result"
    }
   ],
   "source": [
    "cor_data.corr(method='pearson')"
   ]
  },
  {
   "cell_type": "code",
   "execution_count": 153,
   "id": "db51d954",
   "metadata": {},
   "outputs": [
    {
     "data": {
      "text/html": [
       "<div>\n",
       "<style scoped>\n",
       "    .dataframe tbody tr th:only-of-type {\n",
       "        vertical-align: middle;\n",
       "    }\n",
       "\n",
       "    .dataframe tbody tr th {\n",
       "        vertical-align: top;\n",
       "    }\n",
       "\n",
       "    .dataframe thead th {\n",
       "        text-align: right;\n",
       "    }\n",
       "</style>\n",
       "<table border=\"1\" class=\"dataframe\">\n",
       "  <thead>\n",
       "    <tr style=\"text-align: right;\">\n",
       "      <th></th>\n",
       "      <th>Data.Number of Firms</th>\n",
       "      <th>Data.Job Creation.Births</th>\n",
       "    </tr>\n",
       "  </thead>\n",
       "  <tbody>\n",
       "    <tr>\n",
       "      <th>Data.Number of Firms</th>\n",
       "      <td>1.000000</td>\n",
       "      <td>0.968306</td>\n",
       "    </tr>\n",
       "    <tr>\n",
       "      <th>Data.Job Creation.Births</th>\n",
       "      <td>0.968306</td>\n",
       "      <td>1.000000</td>\n",
       "    </tr>\n",
       "  </tbody>\n",
       "</table>\n",
       "</div>"
      ],
      "text/plain": [
       "                          Data.Number of Firms  Data.Job Creation.Births\n",
       "Data.Number of Firms                  1.000000                  0.968306\n",
       "Data.Job Creation.Births              0.968306                  1.000000"
      ]
     },
     "execution_count": 153,
     "metadata": {},
     "output_type": "execute_result"
    }
   ],
   "source": [
    "cor_data.corr(method='spearman')"
   ]
  },
  {
   "cell_type": "code",
   "execution_count": 157,
   "id": "a14ae73b",
   "metadata": {},
   "outputs": [
    {
     "data": {
      "text/plain": [
       "<AxesSubplot:xlabel='Data.Number of Firms', ylabel='Data.Job Creation.Births'>"
      ]
     },
     "execution_count": 157,
     "metadata": {},
     "output_type": "execute_result"
    },
    {
     "data": {
      "image/png": "[encoded data removed]",
      "text/plain": [
       "<Figure size 432x288 with 1 Axes>"
      ]
     },
     "metadata": {
      "needs_background": "light"
     },
     "output_type": "display_data"
    }
   ],
   "source": [
    "## Make a scatter plot and comment on whether the calculated correlation value makes sense.\n",
    "cor_data.plot(kind='scatter',x= 'Data.Number of Firms',y='Data.Job Creation.Births')"
   ]
  },
  {
   "cell_type": "code",
   "execution_count": null,
   "id": "c5cd4494",
   "metadata": {},
   "outputs": [],
   "source": [
    "## The scatter plot shows that col1 and col3 are highly correlated. The calculated correlations are above 0.96, which are also high. So the results make sense."
   ]
  },
  {
   "cell_type": "code",
   "execution_count": null,
   "id": "1d8affab",
   "metadata": {},
   "outputs": [],
   "source": [
    "## Make a hexagonal binning plot"
   ]
  },
  {
   "cell_type": "code",
   "execution_count": 168,
   "id": "635fd4f9",
   "metadata": {
    "scrolled": true
   },
   "outputs": [
    {
     "data": {
      "image/png": "[encoded data removed]",
      "text/plain": [
       "<Figure size 432x288 with 2 Axes>"
      ]
     },
     "metadata": {
      "needs_background": "light"
     },
     "output_type": "display_data"
    }
   ],
   "source": [
    "x = col1\n",
    "y = col3\n",
    "z =[1, 2, 3, 4,5] \n",
    "\n",
    "hb = plt.hexbin(x, y, gridsize = 20, \n",
    "               bins = z, cmap ='BuGn') \n",
    "   \n",
    "cb = plt.colorbar(hb) \n",
    "cb.set_label(z)\n",
    "plt.title('hexagonal binning plot of col1 and col3')\n",
    "plt.xlabel('Firm Number')\n",
    "plt.ylabel('Job Creation') \n",
    "plt.show()"
   ]
  },
  {
   "cell_type": "code",
   "execution_count": null,
   "id": "f35cfa45",
   "metadata": {},
   "outputs": [],
   "source": [
    "# Make a facet grid using the seaborn library, where you plot a hexagonal binning plot of COL1 and COL3 grouped into different facets based on the categorical values of COL2"
   ]
  },
  {
   "cell_type": "code",
   "execution_count": 195,
   "id": "6b349f11",
   "metadata": {},
   "outputs": [],
   "source": [
    "import seaborn as sns"
   ]
  },
  {
   "cell_type": "code",
   "execution_count": 303,
   "id": "43313ea0",
   "metadata": {},
   "outputs": [
    {
     "data": {
      "image/png": "[encoded data removed]",
      "text/plain": [
       "<Figure size 504x504 with 1 Axes>"
      ]
     },
     "metadata": {
      "needs_background": "light"
     },
     "output_type": "display_data"
    }
   ],
   "source": [
    "def hexbin(x, y, color, **kwargs):\n",
    "    cmap = sns.light_palette(color, as_cmap=True)\n",
    "    plt.hexbin(x, y, gridsize=10, cmap=cmap, **kwargs)\n",
    "\n",
    "g = sns.FacetGrid(df, hue=\"State 1\",height=7)\n",
    "g.map(hexbin,\"Data.Number of Firms\", \"Data.Job Creation.Births\", extent=[60000,160000, 50000, 250000]);"
   ]
  },
  {
   "cell_type": "code",
   "execution_count": null,
   "id": "43b71b4c",
   "metadata": {},
   "outputs": [],
   "source": []
  }
 ],
 "metadata": {
  "kernelspec": {
   "display_name": "Python 3 (ipykernel)",
   "language": "python",
   "name": "python3"
  },
  "language_info": {
   "codemirror_mode": {
    "name": "ipython",
    "version": 3
   },
   "file_extension": ".py",
   "mimetype": "text/x-python",
   "name": "python",
   "nbconvert_exporter": "python",
   "pygments_lexer": "ipython3",
   "version": "3.9.7"
  }
 },
 "nbformat": 4,
 "nbformat_minor": 5
}
